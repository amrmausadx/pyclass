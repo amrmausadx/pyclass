{
 "cells": [
  {
   "cell_type": "markdown",
   "metadata": {},
   "source": [
    "Educational Code<br/>\n",
    "Dr. Amr Mausad @ 2024<br/>\n",
    "http://amrmausad.com<br/>\n",
    "http://youtube.com/@amrmausadx<br/>\n",
    "للحصول على الكود<br/>\n",
    "https://www.youtube.com/watch?v=s4MgSBx-rZw<br/>\n",
    "https://github.com/amrmausadx/pyclass"
   ]
  },
  {
   "cell_type": "markdown",
   "metadata": {},
   "source": [
    "Sec1"
   ]
  },
  {
   "cell_type": "code",
   "execution_count": null,
   "metadata": {},
   "outputs": [],
   "source": [
    "Num1 = 3\n",
    "Num2 = 5 \n",
    "Result = Num1 + Num2\n",
    "print(Result)"
   ]
  },
  {
   "cell_type": "code",
   "execution_count": null,
   "metadata": {},
   "outputs": [],
   "source": [
    "num = 0\n",
    "if num > 5 :\n",
    "    print (\" The number is greater than 5\")\n",
    "else :\n",
    "    print(\"The number is less than 5\")    \n",
    "print(\"..............\")"
   ]
  },
  {
   "cell_type": "code",
   "execution_count": null,
   "metadata": {},
   "outputs": [],
   "source": [
    "number = int(input(\"Enter Number : \"))\n",
    "square = number**2\n",
    "print(\"Square of\",number ,\"is\",square)"
   ]
  },
  {
   "cell_type": "code",
   "execution_count": null,
   "metadata": {},
   "outputs": [],
   "source": [
    "num = int(input(\"Enter Number : \"))\n",
    "if num % 2 ==0 :\n",
    "    print(\"Even Number\")\n",
    "else :\n",
    "    print(\"Odd Number\")\n"
   ]
  },
  {
   "cell_type": "code",
   "execution_count": null,
   "metadata": {},
   "outputs": [],
   "source": [
    "x = 10\n",
    "y = 2\n",
    "if y != 0 :\n",
    "    print(x/y)\n",
    "else :\n",
    "    print(\"Division by zero is not possible\")\n"
   ]
  },
  {
   "cell_type": "code",
   "execution_count": null,
   "metadata": {},
   "outputs": [],
   "source": [
    "import math\n",
    "radius = float(input(\"Enter the radius of the circle : \"))  \n",
    "area = math.pi*radius**2\n",
    "circumference = 2*math.pi*radius\n",
    "print(\"area of the circle is\",area)  \n",
    "print(\"circumference of the circle is\",circumference)"
   ]
  },
  {
   "cell_type": "code",
   "execution_count": null,
   "metadata": {},
   "outputs": [],
   "source": [
    "num = int (input(\"Enter Number\"))\n",
    "if num > 0 :\n",
    "    print(\"Positive Number\")\n",
    "elif (num < 0) :\n",
    "    print(\"Negative Number\")\n",
    "else :\n",
    "    print(\"Number = 0\")"
   ]
  },
  {
   "cell_type": "markdown",
   "metadata": {},
   "source": [
    "Sec2"
   ]
  },
  {
   "cell_type": "code",
   "execution_count": null,
   "metadata": {},
   "outputs": [],
   "source": [
    "day = input(\"Enter the day : \").strip().lower()\n",
    "weekend_End = [\"الجمعة\", \"الجمعه\", \"السبت\"]\n",
    "week_days = [\"الأحد\", \"الاثنين\", \"الثلاثاء\", \"الأربعاء\", \"الخميس\"] + weekend_End\n",
    "\n",
    "if day in weekend_End:\n",
    "    print(\"اليوم هو عطلة\")\n",
    "elif day in week_days:\n",
    "    print(\"اليوم هو يوم عمل\")\n",
    "else:\n",
    "    print(\"ادخل يوم من ايام الاسبوع\")"
   ]
  },
  {
   "cell_type": "code",
   "execution_count": null,
   "metadata": {},
   "outputs": [],
   "source": [
    "side1 = float(input(\"ادخل طول الضلع الاول : \"))\n",
    "side2 = float(input(\"ادخل طول الضلع الثاني : \"))\n",
    "side3 = float(input(\"ادخل طول الضلع الثالث : \"))\n",
    "\n",
    "if side1 == side2 == side3 :\n",
    "    print(\"المثلث متساوي الاضلاع\")\n",
    "elif side1 == side2 or side1 == side3 or side2 == side3 :\n",
    "    print(\"المثلث متساوي الساقين\")\n",
    "else :\n",
    "    print(\"المثلث مختلف الاضلاع\")"
   ]
  },
  {
   "cell_type": "code",
   "execution_count": null,
   "metadata": {},
   "outputs": [],
   "source": [
    "num1 = float(input(\"ادخل الرقم الاول : \"))\n",
    "num2 = float(input(\"ادخل الرقم الثانى : \"))\n",
    "num3 = float(input(\"ادخل الرقم الثالث : \"))\n",
    "\n",
    "if num1 > num2 and num1 > num3 :                       \n",
    "    print(\"الرقم الاول هو الاكبر\" , num1)\n",
    "elif num2 > num1 and num2 > num3 :\n",
    "    print(\"الرقم الثانى هو الاكبر \" , num2)\n",
    "else :\n",
    "    print(\"الرقم الثالث هو الاكبر \" , num3) \n",
    "\n",
    "largest = max(num1,num2,num3);print(f\"الرقم الاكبر هو : {largest}\")"
   ]
  },
  {
   "cell_type": "code",
   "execution_count": null,
   "metadata": {},
   "outputs": [],
   "source": [
    "num1 = float(input(\"ادخل الرقم الاول : \"))\n",
    "operator = input(\" + , - , * , / :\")\n",
    "num2 = float(input(\"ادخل الرقم الثاني : \"))\n",
    "if operator == \"+\" :\n",
    "    print(\"Result = \" , num1 + num2)\n",
    "elif operator == \"-\" :\n",
    "    print(\"Result = \" , num1 - num2)\n",
    "elif operator == \"*\" :\n",
    "    print(\"Result = \" , num1 * num2)\n",
    "elif operator == \"/\" :\n",
    "    if num2 != 0 :\n",
    "        print(\"Result = \" , num1/num2)\n",
    "    else :\n",
    "        print(\"لا يمكن القسمة علي صفر\")\n",
    "else :\n",
    "    print(\"العملية غير صحيحة\")\n",
    "    \n"
   ]
  },
  {
   "cell_type": "code",
   "execution_count": null,
   "metadata": {},
   "outputs": [],
   "source": [
    "num = int(input(\" Enter The Number : \"))\n",
    "\n",
    "if num %2 ==0 :\n",
    "    print(\"Even Number\")\n",
    "else :\n",
    "    print(\"Odd Number\") \n",
    "    \n",
    "result = \"Even Number\" if num %2 ==0 else \"Odd Number\"          \n",
    "print(result)\n",
    "\n",
    "print(\"Even Number\" if num %2 ==0 else \"Odd Number\")"
   ]
  },
  {
   "cell_type": "code",
   "execution_count": null,
   "metadata": {},
   "outputs": [],
   "source": [
    "num = int(input(\" Enter The Number : \"))\n",
    "\n",
    "if num > 0 :\n",
    "    print(\"Positive Number\")\n",
    "else :\n",
    "    print(\"Negative Number\") \n",
    "\n",
    "result = \"Positive Number\" if num > 0 else \"Negative Number\"       \n",
    "print(result)\n",
    "\n",
    "print(\"Positive Number\" if num > 0 else \"Negative Number\")\n",
    "\n"
   ]
  },
  {
   "cell_type": "code",
   "execution_count": null,
   "metadata": {},
   "outputs": [],
   "source": [
    "v1 = 5\n",
    "v2 = \"5\"\n",
    "print(v1 == v2)\n",
    "print(str(v1) == v2)\n",
    "print(v1 == int(v2))"
   ]
  },
  {
   "cell_type": "code",
   "execution_count": null,
   "metadata": {},
   "outputs": [],
   "source": [
    "str1 = \"Hello\"\n",
    "print(str1.lower())\n",
    "print(str1.upper())"
   ]
  },
  {
   "cell_type": "code",
   "execution_count": null,
   "metadata": {},
   "outputs": [],
   "source": [
    "my_list =[\"saturday\",\"sunday\",\"monday\",\"الثلاثاء\",\"الاثنين\"]\n",
    "#my_list.append('الاربعاء')\n",
    "if \"الاثنين\" in my_list and \"الاربعاء\" not in my_list :\n",
    "    my_list.remove(\"الاثنين\")\n",
    "else :\n",
    "    my_list.remove(\"الاربعاء\")\n",
    "print(\"my_list =\" , my_list)    "
   ]
  },
  {
   "cell_type": "markdown",
   "metadata": {},
   "source": [
    "Sec3"
   ]
  },
  {
   "cell_type": "code",
   "execution_count": null,
   "metadata": {},
   "outputs": [],
   "source": [
    "numbers = [5,1,7,4,8,-9,6]\n",
    "\n",
    "\n",
    "Sumnumbers = 0\n",
    "i = 0\n",
    "while i < len(numbers) :\n",
    "    if numbers[i] > 0 :\n",
    "        Sumnumbers += numbers[i]\n",
    "    i += 1\n",
    "print(\" مجموع الاعداد الموجبة =\" , Sumnumbers)      \n",
    "\n",
    "print(\" مجموع الاعداد الموجبة =\" ,sum([x for x in numbers if x>0]))"
   ]
  },
  {
   "cell_type": "code",
   "execution_count": null,
   "metadata": {},
   "outputs": [],
   "source": [
    "numbers = [5,1,7,4,8,-9,6]\n",
    "\n",
    "Sumnumbers = 0\n",
    "i=0\n",
    "while i < len(numbers) :\n",
    "    if numbers[i] <0:\n",
    "        print(\"imaginary found!\")\n",
    "        Sumnumbers=0\n",
    "        break\n",
    "    Sumnumbers += numbers[i] ** 0.5\n",
    "    i+=1\n",
    "print(\" مجموع الجذور =\" , Sumnumbers)      \n",
    "\n",
    "\n",
    "# Another Way\n",
    "Sumnumbers = 0\n",
    "if(len([x for x in numbers if x<0])>0):\n",
    "    print(\"imaginary found!\")\n",
    "    Sumnumbers =0\n",
    "else:\n",
    "    Sumnumbers=sum([x**0.5 for x in numbers if x>0])\n",
    "print(\" مجموع الجذور =\" ,Sumnumbers)"
   ]
  },
  {
   "cell_type": "code",
   "execution_count": null,
   "metadata": {},
   "outputs": [],
   "source": [
    "i=1\n",
    "while i <= 70 :\n",
    "    square_root = i ** 0.5\n",
    "    if square_root != int(square_root) :\n",
    "        i +=1\n",
    "        continue\n",
    "    print(i, end=\" \")\n",
    "    i+=1\n",
    "print()\n",
    "\n",
    "print([i for i in range(1,70 +1) if i ** 0.5 == int(i ** 0.5 )])\n",
    "\n",
    "lst= [i for i in range(1,70 +1) if i ** 0.5 == int(i ** 0.5 )]\n",
    "for i in lst: print(i,end=\" \")"
   ]
  },
  {
   "cell_type": "code",
   "execution_count": null,
   "metadata": {},
   "outputs": [],
   "source": [
    "prime_to_print = 2\n",
    "\n",
    "prime_count=0\n",
    "num=2\n",
    "while prime_count < prime_to_print:\n",
    "  for i in range(2,num) :\n",
    "      if num % i == 0 :\n",
    "          break\n",
    "  else :\n",
    "          print(num)\n",
    "          prime_count += 1\n",
    "  num +=1"
   ]
  },
  {
   "cell_type": "code",
   "execution_count": null,
   "metadata": {},
   "outputs": [],
   "source": [
    "for i in range (1,31) :\n",
    "    if i % 3 ==0 or i % 5 == 0 :\n",
    "        print(i)\n"
   ]
  },
  {
   "cell_type": "code",
   "execution_count": null,
   "metadata": {},
   "outputs": [],
   "source": [
    "N=20\n",
    "\n",
    "even_numbers = []\n",
    "for i in range (2,N +1,2) :\n",
    "    even_numbers.append(i)\n",
    "print(even_numbers)"
   ]
  },
  {
   "cell_type": "markdown",
   "metadata": {},
   "source": [
    "Sec4"
   ]
  },
  {
   "cell_type": "code",
   "execution_count": null,
   "metadata": {},
   "outputs": [],
   "source": [
    "Numbers = [4,98,22,31,7,43,6,87]\n",
    "Largest = []\n",
    "for i in range(3) :\n",
    "    Max_Num = max(Numbers)\n",
    "    Largest.append(Max_Num)\n",
    "    Numbers.remove(Max_Num)\n",
    "print(f\"{Largest}  :اكبر ثلاث ارقام هما \")\n",
    "print(f\"{Numbers}  :الباقي\")"
   ]
  },
  {
   "cell_type": "code",
   "execution_count": null,
   "metadata": {},
   "outputs": [],
   "source": [
    "String = \"ABCDEFGHIJKLMNOPQRSTUVWXYZ\"\n",
    "even_char = \"\"\n",
    "odd_char = \" \"\n",
    "for i in range(len(String)) :\n",
    "    if i % 2 ==0 :\n",
    "        even_char += String[i]+\" \"\n",
    "    else :\n",
    "         odd_char += String[i]+\" \"\n",
    "print(f\"{even_char} : الاحرف في الفهارس الزوجية هي \")    \n",
    "print(f\"{odd_char} : الاحرف في الفهارس الفردية هي \")\n",
    "\n",
    "\n",
    "even_char = even_char.replace(' ','')\n",
    "odd_char = odd_char.replace(' ','')\n",
    "rearrange = \"\"\n",
    "for i in range(len(even_char)):\n",
    "    rearrange+=even_char[i]+odd_char[i]\n",
    "print(f\" {rearrange} : النص بعد اعادة الترتيب يكون \")\n"
   ]
  },
  {
   "cell_type": "code",
   "execution_count": null,
   "metadata": {},
   "outputs": [],
   "source": [
    "List1 = [1,2,3,4,5]\n",
    "List2 = [3,4,5,6,7]\n",
    "\n",
    "Common_Elements = []\n",
    "for item in List1 :\n",
    "    if item in List2 :\n",
    "     Common_Elements.append(item)\n",
    "print(f\"{Common_Elements} : العناصر المشتركة هي\")\n",
    "\n",
    "\n",
    "print(f\"{[x for x in List1 if x in List2]} : العناصر المشتركة هي\")"
   ]
  },
  {
   "cell_type": "code",
   "execution_count": null,
   "metadata": {},
   "outputs": [],
   "source": [
    "Words = [\"python\" , \"c#\" , \"html\" , \"c++\" , \"java script\"]\n",
    "Longest_Word = \"\"\n",
    "for word in Words :\n",
    "    if len(word) > len(Longest_Word) :\n",
    "        Longest_Word = word\n",
    "print(f\"{Longest_Word} : أطول كلمة هي\")        \n"
   ]
  },
  {
   "cell_type": "code",
   "execution_count": null,
   "metadata": {},
   "outputs": [],
   "source": [
    "for num in range(1, 11):\n",
    "    square = num ** 2\n",
    "    print(square)"
   ]
  },
  {
   "cell_type": "markdown",
   "metadata": {},
   "source": [
    "Sec5"
   ]
  },
  {
   "cell_type": "code",
   "execution_count": null,
   "metadata": {},
   "outputs": [],
   "source": [
    "import random\n",
    "print(\"مرحبا في لعبة تخمين الرقم !\")\n",
    "level = input(\" اختر مستوي الصعوبة ( سهل - متوسط - صعب)\")\n",
    "attempts = { \"سهل \" : 7 , \" متوسط\" : 5 , \" صعب \" : 3}.get(level,5)\n",
    "print(f\"لديك {attempts} محاولات لتخمين الرقم بين 1و20\")\n",
    "random_number = random.randint(1,20)\n",
    "for attempt in range(attempts):\n",
    "    guess=int(input(f\"محاولة {attempt + 1}\"))\n",
    "    if guess == random_number :\n",
    "        print(\" تهانينا! لقد خمنت الرقم\")\n",
    "        break\n",
    "    elif guess < random_number :\n",
    "        print(\" الرقم أكبر!\")\n",
    "    else :\n",
    "        print(\"الرقم اصغر !\")\n",
    "else :\n",
    "  print(f\"للأسف انتهت المحاولات  والرقم العشوائي هو  {random_number}\")"
   ]
  },
  {
   "cell_type": "code",
   "execution_count": 53,
   "metadata": {},
   "outputs": [
    {
     "name": "stdout",
     "output_type": "stream",
     "text": [
      "تم إيداع 500 جنيه. الرصيد الآن: 1500 جنيه.\n",
      "رصيد غير كافٍ.\n",
      "الرصيد الحالي: 1500 جنيه.\n"
     ]
    }
   ],
   "source": [
    " \n",
    "owner = \"أحمد\"\n",
    "balance = 1000\n",
    "\n",
    "# إيداع مبلغ\n",
    "deposit_amount = 500\n",
    "balance += deposit_amount\n",
    "print(f\"تم إيداع {deposit_amount} جنيه. الرصيد الآن: {balance} جنيه.\")\n",
    "\n",
    "# سحب مبلغ\n",
    "withdraw_amount = 200\n",
    "if withdraw_amount <= balance:\n",
    "    balance -= withdraw_amount\n",
    "    print(f\"تم سحب {withdraw_amount} جنيه. الرصيد الآن: {balance} جنيه.\")\n",
    "else:\n",
    "    print(\"رصيد غير كافٍ.\")\n",
    "\n",
    "# عرض الرصيد\n",
    "print(f\"الرصيد الحالي: {balance} جنيه.\")"
   ]
  },
  {
   "cell_type": "markdown",
   "metadata": {},
   "source": [
    "Sec6"
   ]
  },
  {
   "cell_type": "code",
   "execution_count": 55,
   "metadata": {},
   "outputs": [
    {
     "name": "stdout",
     "output_type": "stream",
     "text": [
      "Python Programming - المؤلف: John - الحالة: available\n",
      "Algorithms - المؤلف: Jane - الحالة: available\n",
      "لقد استعرت الكتاب: Python Programming\n",
      "لقد قمت بإرجاع الكتاب: Python Programming\n",
      "\n",
      "الكتب المتاحة بعد العمليات:\n",
      "Python Programming - المؤلف: John - الحالة: available\n",
      "Algorithms - المؤلف: Jane - الحالة: available\n"
     ]
    }
   ],
   "source": [
    "\n",
    "library = {}\n",
    "\n",
    "# إضافة الكتب للمكتبة\n",
    "library[\"Python Programming\"] = {'author': 'John', 'status': 'available'}\n",
    "library[\"Algorithms\"] = {'author': 'Jane', 'status': 'available'}\n",
    "\n",
    "# استعراض جميع الكتب\n",
    "for title, info in library.items():\n",
    "    print(f\"{title} - المؤلف: {info['author']} - الحالة: {info['status']}\")\n",
    "\n",
    "# استعارة كتاب\n",
    "book_to_borrow = \"Python Programming\"\n",
    "if book_to_borrow in library:\n",
    "    if library[book_to_borrow]['status'] == 'available':\n",
    "        library[book_to_borrow]['status'] = 'borrowed'\n",
    "        print(f\"لقد استعرت الكتاب: {book_to_borrow}\")\n",
    "    else:\n",
    "        print(f\"الكتاب {book_to_borrow} غير متاح حالياً.\")\n",
    "else:\n",
    "    print(f\"الكتاب {book_to_borrow} غير موجود في المكتبة.\")\n",
    "\n",
    "# إرجاع الكتاب\n",
    "book_to_return = \"Python Programming\"\n",
    "if book_to_return in library and library[book_to_return]['status'] == 'borrowed':\n",
    "    library[book_to_return]['status'] = 'available'\n",
    "    print(f\"لقد قمت بإرجاع الكتاب: {book_to_return}\")\n",
    "else:\n",
    "    print(f\"الكتاب {book_to_return}غير مستعار .\")\n",
    "\n",
    "# استعراض جميع الكتب بعد العمليات\n",
    "print(\"\\nالكتب المتاحة بعد العمليات:\")\n",
    "for title, info in library.items():\n",
    "    print(f\"{title} - المؤلف: {info['author']} - الحالة: {info['status']}\")\n"
   ]
  },
  {
   "cell_type": "code",
   "execution_count": 56,
   "metadata": {},
   "outputs": [
    {
     "name": "stdout",
     "output_type": "stream",
     "text": [
      "أنت حصلت على 0 من 3 إجابات صحيحة!\n"
     ]
    }
   ],
   "source": [
    "def play_game():\n",
    "\n",
    "    questions = {\n",
    "        '(10/2)*5=' :25 ,\n",
    "        '(9*2)+1=' : 19 ,\n",
    "        '(-2-4)+10=' : 4\n",
    "\n",
    "    }\n",
    "\n",
    "    score = 0\n",
    "\n",
    "    for question, answer in questions.items():\n",
    "\n",
    "        user_answer = int(input(f\"{question} \"))\n",
    "\n",
    "        if user_answer == answer:\n",
    "\n",
    "            score += 1\n",
    "\n",
    "    print(f\"أنت حصلت على {score} من {len(questions)} إجابات صحيحة!\")\n",
    "\n",
    "play_game()"
   ]
  },
  {
   "cell_type": "markdown",
   "metadata": {},
   "source": [
    "Sec 7"
   ]
  },
  {
   "cell_type": "code",
   "execution_count": 60,
   "metadata": {},
   "outputs": [
    {
     "name": "stdout",
     "output_type": "stream",
     "text": [
      "['Ali is 32 years old , Works as an Engineer, and lives in Cairo.', 'Ahmed is 25 years old , Works as an Doctor, and lives in Aswan.', 'Mohamed is 35 years old , Works as an Engineer, and lives in Giza.']\n",
      "[{'name': 'Ali', 'age': 32, 'profession': 'Engineer', 'city': 'Cairo'}, {'name': 'Mohamed', 'age': 35, 'profession': 'Engineer', 'city': 'Giza'}]\n"
     ]
    }
   ],
   "source": [
    "Data = [\n",
    "    {'name':'Ali','age': 32 ,'profession':'Engineer' ,'city':'Cairo'},\n",
    "    {'name':'Ahmed','age': 25 ,'profession':'Doctor' ,'city':'Aswan' },\n",
    "    {'name':'Mohamed','age': 35 ,'profession':'Engineer' ,'city':'Giza' }\n",
    "]\n",
    "\n",
    "descriptions = [f\"{person['name']} is {person['age']} years old , Works as an {person['profession']}, and lives in {person['city']}.\" for person in Data]\n",
    "print(descriptions)\n",
    "\n",
    "filtered_data = [person for person in Data if person['age'] > 30 and person['profession'] == 'Engineer']\n",
    "print(filtered_data)\n"
   ]
  },
  {
   "cell_type": "code",
   "execution_count": 61,
   "metadata": {},
   "outputs": [
    {
     "name": "stdout",
     "output_type": "stream",
     "text": [
      "[[1, 4, 9], [16, 25, 36], [49, 64, 81]]\n"
     ]
    }
   ],
   "source": [
    "nested_list = [[1, 2, 3], [4, 5, 6], [7, 8, 9]]\n",
    "squared_values = [[x**2 for x in sublist] for sublist in nested_list]\n",
    "print(squared_values)"
   ]
  },
  {
   "cell_type": "code",
   "execution_count": 62,
   "metadata": {},
   "outputs": [
    {
     "name": "stdout",
     "output_type": "stream",
     "text": [
      "[(3, 5), (4, 5), (5, 3), (5, 4)]\n"
     ]
    }
   ],
   "source": [
    "numbers = [1, 2, 3, 4, 5]\n",
    "pairs = [(x, y) for x in numbers for y in numbers if x + y > 7 and x != y]\n",
    "print(pairs)"
   ]
  },
  {
   "cell_type": "markdown",
   "metadata": {},
   "source": [
    "Educational Code<br/>\n",
    "Dr. Amr Mausad @ 2024<br/>\n",
    "http://amrmausad.com<br/>\n",
    "http://youtube.com/@amrmausadx<br/>\n",
    "للحصول على الكود<br/>\n",
    "https://www.youtube.com/watch?v=s4MgSBx-rZw<br/>\n",
    "https://github.com/amrmausadx/pyclass"
   ]
  }
 ],
 "metadata": {
  "kernelspec": {
   "display_name": "Python 3",
   "language": "python",
   "name": "python3"
  },
  "language_info": {
   "codemirror_mode": {
    "name": "ipython",
    "version": 3
   },
   "file_extension": ".py",
   "mimetype": "text/x-python",
   "name": "python",
   "nbconvert_exporter": "python",
   "pygments_lexer": "ipython3",
   "version": "3.13.0"
  }
 },
 "nbformat": 4,
 "nbformat_minor": 2
}
