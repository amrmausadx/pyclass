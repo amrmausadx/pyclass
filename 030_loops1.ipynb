{
 "cells": [
  {
   "cell_type": "markdown",
   "metadata": {},
   "source": [
    "<div dir=\"rtl\">\n",
    "# الحلقات التكرارية (Loops)\n",
    "\n",
    "الحلقات التكرارية هي طريقة لتنفيذ تعليمات برمجية عدة مرات حتى يتم استيفاء شرط معين.\n",
    "</div>"
   ]
  },
  {
   "cell_type": "markdown",
   "metadata": {},
   "source": [
    "Educational Code<br/>\n",
    "Dr. Amr Mausad @ 2024<br/>\n",
    "http://amrmausad.com<br/>\n",
    "http://youtube.com/@amrmausadx<br/>\n",
    "للحصول على الكود<br/>\n",
    "https://www.youtube.com/watch?v=s4MgSBx-rZw\n",
    "https://github.com/amrmausadx/pyclass"
   ]
  },
  {
   "cell_type": "code",
   "execution_count": null,
   "metadata": {},
   "outputs": [],
   "source": [
    "# حلقة تكرارية بسيطة باستخدام 'while'\n",
    "# الحلقة تعمل طالما الشرط صحيح\n",
    "v1 = 5\n",
    "while v1 <= 10:\n",
    "    print(v1)\n",
    "    v1 += 1 # equ. to v1 = v1 + 1"
   ]
  },
  {
   "cell_type": "markdown",
   "metadata": {},
   "source": [
    "<div dir=\"rtl\">\n",
    "## الحلقات اللانهائية\n",
    "\n",
    "يمكن إنشاء حلقة لا نهائية إذا كان الشرط دائماً صحيح. الحذر عند استخدام هذا النوع، لأن البرنامج سيظل يعمل بلا توقف.\n",
    "</div>"
   ]
  },
  {
   "cell_type": "code",
   "execution_count": null,
   "metadata": {},
   "outputs": [],
   "source": [
    "# أمثلة على الحلقات اللانهائية\n",
    "while 1:\n",
    "    print(1)\n",
    "\n",
    "\n",
    "while True:\n",
    "    print(1)"
   ]
  },
  {
   "cell_type": "markdown",
   "metadata": {},
   "source": [
    "<div dir=\"rtl\">\n",
    "## كتابة حلقة 'while' في سطر واحد\n",
    "\n",
    "يمكن كتابة الحلقة في سطر واحد في بعض الحالات البسيطة.\n",
    "</div>"
   ]
  },
  {
   "cell_type": "code",
   "execution_count": 10,
   "metadata": {},
   "outputs": [
    {
     "name": "stdout",
     "output_type": "stream",
     "text": [
      "5\n"
     ]
    }
   ],
   "source": [
    "# حلقة 'while' في سطر واحد\n",
    "v1 = 0\n",
    "while v1 <= 4: v1 += 1;\n",
    "print(v1)"
   ]
  },
  {
   "cell_type": "markdown",
   "metadata": {},
   "source": [
    "<div dir=\"rtl\">\n",
    "## استخدام تزايد القيم في Python\n",
    "\n",
    "بخلاف بعض لغات البرمجة، Python لا تدعم عمليتي '++' و'--'.\n",
    "</div>"
   ]
  },
  {
   "cell_type": "code",
   "execution_count": 12,
   "metadata": {},
   "outputs": [
    {
     "name": "stdout",
     "output_type": "stream",
     "text": [
      "4\n",
      "36\n"
     ]
    }
   ],
   "source": [
    "v1 = 2\n",
    "v1 += 1\n",
    "v1 += 1\n",
    "print(v1)\n",
    "v1*=9\n",
    "print(v1)"
   ]
  },
  {
   "cell_type": "markdown",
   "metadata": {},
   "source": [
    "<div dir=\"rtl\">\n",
    "## إنهاء الحلقة بناءً على إدخال المستخدم\n",
    "\n",
    "ستتوقف الحلقة فقط إذا أدخل المستخدم '100'.\n",
    "</div>"
   ]
  },
  {
   "cell_type": "code",
   "execution_count": 13,
   "metadata": {},
   "outputs": [
    {
     "name": "stdout",
     "output_type": "stream",
     "text": [
      "تم تعديل v1 إلى: 90\n",
      "تم تعديل v1 إلى: 80\n",
      "تم تعديل v1 إلى: 80\n",
      "تم تعديل v1 إلى: 50\n",
      "تم تعديل v1 إلى: 100\n"
     ]
    }
   ],
   "source": [
    "# كسر الحلقة بناءً على إدخال المستخدم\n",
    "v1 = 1\n",
    "while v1 != 100:\n",
    "    v1 = int(input(\"أدخل قيمة جديدة لـ v1: \"))\n",
    "    print(\"تم تعديل v1 إلى: \" + str(v1))"
   ]
  },
  {
   "cell_type": "code",
   "execution_count": 1,
   "metadata": {},
   "outputs": [
    {
     "name": "stdout",
     "output_type": "stream",
     "text": [
      "لقد ادخلت  pass1\n",
      "لقد ادخلت  pass3\n",
      "لقد ادخلت  pass7\n",
      "لقد ادخلت  pass\n",
      "كلمة مرور صحيحة\n"
     ]
    }
   ],
   "source": [
    "#كلمة السر\n",
    "pass1 = \"pass\"\n",
    "pass2 = \"\"\n",
    "while pass2 != pass1:\n",
    "    pass2 = input(\"ادخل كلمة السر\")\n",
    "    print(\"لقد ادخلت \",str(pass2))\n",
    "print(\"كلمة مرور صحيحة\")"
   ]
  },
  {
   "cell_type": "markdown",
   "metadata": {},
   "source": [
    "<div dir=\"rtl\">\n",
    "## استخدام 'break' و 'continue'\n",
    "\n",
    "- 'break': يُنهي الحلقة تمامًا.\n",
    "- 'continue': يتخطى التعليمات المتبقية في تلك الدورة ويبدأ الدورة التالية.\n",
    "</div>"
   ]
  },
  {
   "cell_type": "code",
   "execution_count": 5,
   "metadata": {},
   "outputs": [
    {
     "name": "stdout",
     "output_type": "stream",
     "text": [
      "101\n",
      "101\n",
      "101\n",
      "101\n",
      "101\n",
      "102\n",
      "102\n",
      "102\n",
      "102\n",
      "102\n"
     ]
    }
   ],
   "source": [
    "# مثال على 'break'\n",
    "while 1:\n",
    "    v1 = int(input())\n",
    "    if v1 == 100:\n",
    "        break\n",
    "    print(v1)\n"
   ]
  },
  {
   "cell_type": "code",
   "execution_count": 6,
   "metadata": {},
   "outputs": [
    {
     "name": "stdout",
     "output_type": "stream",
     "text": [
      "بداية الحلقة\n",
      "v1 أقل من 100\n",
      "بداية الحلقة\n",
      "v1 أقل من 100\n",
      "بداية الحلقة\n",
      "الحلقة مكتملة\n",
      "بداية الحلقة\n"
     ]
    }
   ],
   "source": [
    "# مثال على 'continue'\n",
    "while 1:\n",
    "    print(\"بداية الحلقة\")\n",
    "    v1 = int(input())\n",
    "    if v1 == 100:\n",
    "        break\n",
    "    elif v1 < 100:\n",
    "        print(\"v1 أقل من 100\")\n",
    "        continue\n",
    "    print(\"الحلقة مكتملة\")"
   ]
  },
  {
   "cell_type": "markdown",
   "metadata": {},
   "source": [
    "<div dir=\"rtl\">\n",
    "## استخدام الحلقات مع القوائم\n",
    "\n",
    "يمكننا استخدام الحلقات لتصفح القوائم وتطبيق شروط معينة على كل عنصر.\n",
    "</div>"
   ]
  },
  {
   "cell_type": "code",
   "execution_count": 15,
   "metadata": {},
   "outputs": [
    {
     "name": "stdout",
     "output_type": "stream",
     "text": [
      "[12, 56]\n"
     ]
    }
   ],
   "source": [
    "# حلقة مع القوائم\n",
    "l1 = [\"Mohab\", 12, \"Rokaya\", 'A', 56, 'B', 2.12, \"Soad\"]\n",
    "l2 = []\n",
    "i = 0\n",
    "while i < len(l1):\n",
    "    if type(l1[i]) ==  int:\n",
    "        l2.append(l1[i])\n",
    "    i += 1\n",
    "print(l2)"
   ]
  },
  {
   "cell_type": "code",
   "execution_count": 16,
   "metadata": {},
   "outputs": [
    {
     "name": "stdout",
     "output_type": "stream",
     "text": [
      "[0, 12, 0, 0, 56, 0, 0, 0]\n"
     ]
    }
   ],
   "source": [
    "l2 = []\n",
    "i = 0\n",
    "while i < len(l1):\n",
    "    if type(l1[i]) == int:\n",
    "        l2.append(l1[i])\n",
    "    else:\n",
    "        l2.append(0)\n",
    "    i += 1\n",
    "print(l2)"
   ]
  },
  {
   "cell_type": "code",
   "execution_count": null,
   "metadata": {},
   "outputs": [
    {
     "name": "stdout",
     "output_type": "stream",
     "text": [
      "['A', 'B']\n"
     ]
    }
   ],
   "source": [
    "l2 = []\n",
    "i = 0\n",
    "while i < len(l1):\n",
    "    if type(l1[i]) == str and len(l1[i])==1:\n",
    "        l2.append(l1[i])\n",
    "    i+=1\n",
    "print(l2)"
   ]
  },
  {
   "cell_type": "markdown",
   "metadata": {},
   "source": [
    "<div dir=\"rtl\">\n",
    "## إزالة كافة العناصر المحددة من القائمة\n",
    "\n",
    "نستخدم حلقة لإزالة كافة حالات عنصر معين من القائمة.\n",
    "</div>"
   ]
  },
  {
   "cell_type": "code",
   "execution_count": 20,
   "metadata": {},
   "outputs": [
    {
     "name": "stdout",
     "output_type": "stream",
     "text": [
      "['B', 'C', 'D', 'A', 'E', 'Q', 'A', 'Z', 'A', 'Q', 'D', 'A']\n",
      "['B', 'C', 'D', 'E', 'Q', 'Z', 'Q', 'D']\n"
     ]
    }
   ],
   "source": [
    "# إزالة كل حالات قيمة معينة في القائمة\n",
    "l1 = ['A', 'B', 'C', 'D', 'A', 'E', 'Q', 'A', 'Z', 'A', 'Q', 'D', 'A']\n",
    "l1.remove('A')\n",
    "print(l1)\n",
    "while 'A' in l1: l1.remove('A')\n",
    "print(l1)"
   ]
  },
  {
   "cell_type": "markdown",
   "metadata": {},
   "source": [
    "<div dir=\"rtl\">\n",
    "## تعبئة قاموس\n",
    "\n",
    "يمكننا استخدام الحلقات لتعبئة القواميس اعتمادًا على إدخال المستخدم.\n",
    "</div>"
   ]
  },
  {
   "cell_type": "code",
   "execution_count": 21,
   "metadata": {},
   "outputs": [
    {
     "name": "stdout",
     "output_type": "stream",
     "text": [
      "{'ID': '10', 'Name': 'Ali', 'Age': '50'}\n"
     ]
    }
   ],
   "source": [
    "# تعبئة قاموس باستخدام الحلقة التكرارية\n",
    "d1 = {}\n",
    "while 1:\n",
    "    key = input(\"أدخل مفتاح: \")\n",
    "    value = input(\"أدخل قيمة: \")\n",
    "    d1[key] = value\n",
    "    if input(\"الخروج؟ \") == \"نعم\":\n",
    "        break\n",
    "print(d1)"
   ]
  },
  {
   "cell_type": "code",
   "execution_count": 22,
   "metadata": {},
   "outputs": [
    {
     "name": "stdout",
     "output_type": "stream",
     "text": [
      "{'ID': 10, 'name': 'Ali', 'Age': 50}\n"
     ]
    }
   ],
   "source": [
    "# تعبئة قاموس باستخدام الحلقة التكرارية\n",
    "d1 = {}\n",
    "while 1:\n",
    "    key = input(\"أدخل مفتاح: \")\n",
    "    value = input(\"أدخل قيمة: \")\n",
    "    if key != \"name\":\n",
    "        d1[key] = int(value)\n",
    "    else:\n",
    "        d1[key] = value\n",
    "    if input(\"الخروج؟ \") == \"نعم\":\n",
    "        break\n",
    "print(d1)"
   ]
  }
 ],
 "metadata": {
  "kernelspec": {
   "display_name": "Python 3",
   "language": "python",
   "name": "python3"
  },
  "language_info": {
   "codemirror_mode": {
    "name": "ipython",
    "version": 3
   },
   "file_extension": ".py",
   "mimetype": "text/x-python",
   "name": "python",
   "nbconvert_exporter": "python",
   "pygments_lexer": "ipython3",
   "version": "3.12.7"
  }
 },
 "nbformat": 4,
 "nbformat_minor": 2
}
