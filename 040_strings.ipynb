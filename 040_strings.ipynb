{
 "cells": [
  {
   "cell_type": "markdown",
   "metadata": {},
   "source": [
    "<div dir=\"rtl\">\n",
    "# السلاسل النصية (Strings)\n",
    "\n",
    "في هذا الملف، نستعرض بعض العمليات الأساسية على السلاسل النصية في Python، مثل تغيير الحالة، الدمج، الإضافة، وإزالة المسافات.\n",
    "</div>"
   ]
  },
  {
   "cell_type": "markdown",
   "metadata": {},
   "source": [
    "Educational Code<br/>\n",
    "Dr. Amr Mausad @ 2024<br/>\n",
    "http://amrmausad.com<br/>\n",
    "http://youtube.com/@amrmausadx<br/>\n",
    "للحصول على الكود<br/>\n",
    "https://www.youtube.com/watch?v=s4MgSBx-rZw\n",
    "https://github.com/amrmausadx/pyclass"
   ]
  },
  {
   "cell_type": "code",
   "execution_count": null,
   "metadata": {},
   "outputs": [],
   "source": [
    "# استيراد وحدة string للحصول على كل الدوال المساعدة المدمجة للسلاسل النصية\n",
    "import string"
   ]
  },
  {
   "cell_type": "markdown",
   "metadata": {},
   "source": [
    "<div dir=\"rtl\">\n",
    "## تغيير حالة السلسلة النصية\n",
    "\n",
    "يمكننا تغيير حالة النص إلى الأحرف الكبيرة، أو الصغيرة، أو جعل كل كلمة تبدأ بحرف كبير باستخدام بعض الدوال المدمجة.\n",
    "</div>"
   ]
  },
  {
   "cell_type": "code",
   "execution_count": null,
   "metadata": {},
   "outputs": [],
   "source": [
    "# تغيير حالة المتغير النصي\n",
    "name = \"mohAb loves Python\"\n",
    "\n",
    "# الحالة العنوانية (كل كلمة تبدأ بحرف كبير)\n",
    "name_t = name.title() \n",
    "print (name_t)\n",
    "\n",
    "# تحويل النص إلى الأحرف الكبيرة\n",
    "name_t = name.upper() \n",
    "print (name_t)\n",
    "\n",
    "# تحويل النص إلى الأحرف الصغيرة\n",
    "name_t = name.lower() \n",
    "print (name_t)"
   ]
  },
  {
   "cell_type": "markdown",
   "metadata": {},
   "source": [
    "<div dir=\"rtl\">\n",
    "## تنسيق السلاسل النصية باستخدام f-Strings\n",
    "\n",
    "استخدام `f-strings` طريقة ممتازة لتنسيق النصوص بسهولة وإضافة المتغيرات داخل السلسلة النصية.\n",
    "</div>"
   ]
  },
  {
   "cell_type": "code",
   "execution_count": null,
   "metadata": {},
   "outputs": [],
   "source": [
    "# تنسيق السلسلة النصية باستخدام f-strings\n",
    "name = \"Rokaya\"\n",
    "age = 25\n",
    "print(f\"{name} is {age} years old.\")"
   ]
  },
  {
   "cell_type": "markdown",
   "metadata": {},
   "source": [
    "<div dir=\"rtl\">\n",
    "## دمج السلاسل النصية\n",
    "\n",
    "يمكننا دمج عدة سلاسل نصية معًا باستخدام علامة `+` أو باستخدام التنسيق.\n",
    "</div>"
   ]
  },
  {
   "cell_type": "code",
   "execution_count": null,
   "metadata": {},
   "outputs": [],
   "source": [
    "# دمج السلاسل النصية\n",
    "fname = \"mohab\"\n",
    "lname = \"samar\"\n",
    "flname = fname + \" \" + lname\n",
    "\n",
    "print (fname + \" \" + lname)\n",
    "print (\"Hassan\" + \" \" + \"Soad\")\n",
    "# أو بشكل مكافئ\n",
    "print (flname.title())"
   ]
  },
  {
   "cell_type": "markdown",
   "metadata": {},
   "source": [
    "<div dir=\"rtl\">\n",
    "## تقسيم ودمج السلاسل النصية\n",
    "\n",
    "يمكننا استخدام `split()` لتحويل النص إلى قائمة، و `join()` لإعادة تجميع العناصر إلى نص.\n",
    "</div>"
   ]
  },
  {
   "cell_type": "code",
   "execution_count": 1,
   "metadata": {},
   "outputs": [
    {
     "name": "stdout",
     "output_type": "stream",
     "text": [
      "['Hello,', 'how', 'are', 'you?']\n",
      "Hello, how are you?\n"
     ]
    }
   ],
   "source": [
    "# تقسيم ودمج السلاسل النصية\n",
    "sentence = \"Hello, how are you?\"\n",
    "words = sentence.split()  # تقسيم النص حسب المسافات البيضاء\n",
    "print(words)\n",
    "\n",
    "sentence_again = \" \".join(words)  # دمج القائمة مرة أخرى إلى سلسلة نصية\n",
    "print(sentence_again)"
   ]
  },
  {
   "cell_type": "markdown",
   "metadata": {},
   "source": [
    "<div dir=\"rtl\">\n",
    "## استخراج أجزاء من السلسلة النصية باستخدام القص (Slicing)\n",
    "\n",
    "يمكننا استخدام القص لاستخراج أجزاء محددة من النص بسهولة.\n",
    "</div>"
   ]
  },
  {
   "cell_type": "code",
   "execution_count": null,
   "metadata": {},
   "outputs": [],
   "source": [
    "# القص في السلاسل النصية\n",
    "text = \"Programming\"\n",
    "print(text[0:5])   # طباعة 'Progr'\n",
    "print(text[-3:])   # طباعة 'ing'"
   ]
  },
  {
   "cell_type": "markdown",
   "metadata": {},
   "source": [
    "<div dir=\"rtl\">\n",
    "## البحث والاستبدال في النص\n",
    "\n",
    "يمكننا البحث عن نص معين باستخدام `.find()` أو استبداله باستخدام `.replace()`.\n",
    "</div>"
   ]
  },
  {
   "cell_type": "code",
   "execution_count": null,
   "metadata": {},
   "outputs": [],
   "source": [
    "# البحث والاستبدال\n",
    "sentence = \"Python programming is fun\"\n",
    "print(sentence.find(\"programming\"))  # إرجاع الفهرس حيث يبدأ النص 'programming'\n",
    "print(sentence.replace(\"fun\", \"awesome\"))  # استبدال 'fun' بـ 'awesome'"
   ]
  },
  {
   "cell_type": "markdown",
   "metadata": {},
   "source": [
    "<div dir=\"rtl\">\n",
    "## إضافة مسافات بيضاء\n",
    "\n",
    "يمكننا إضافة مسافات بيضاء أو رموز جديدة داخل النص باستخدام رموز مثل `\\n` للسطر الجديد و `\\t` للمسافة.\n",
    "</div>"
   ]
  },
  {
   "cell_type": "code",
   "execution_count": null,
   "metadata": {},
   "outputs": [],
   "source": [
    "# إضافة مسافات بيضاء\n",
    "print (\"Ali\\nloves\\nPython\")\n",
    "print (\"Ali\\tloves\\tPython\")\n",
    "print (\"Ali\\tloves\\nPython\")"
   ]
  },
  {
   "cell_type": "markdown",
   "metadata": {},
   "source": [
    "<div dir=\"rtl\">\n",
    "## إزالة المسافات البيضاء\n",
    "\n",
    "يمكننا إزالة المسافات البيضاء الزائدة من بداية أو نهاية السلسلة النصية باستخدام `strip()` أو `rstrip()` أو `lstrip()`.\n",
    "</div>"
   ]
  },
  {
   "cell_type": "code",
   "execution_count": null,
   "metadata": {},
   "outputs": [],
   "source": [
    "# إزالة المسافات البيضاء\n",
    "name1 = \"    Rokaya\"\n",
    "name2 = \"Lina    \"\n",
    "name3 = \"  Farah  \"\n",
    "\n",
    "print (name1)\n",
    "print (name2)\n",
    "print (name3)\n",
    "print (\"----------\")\n",
    "print (name1.lstrip()) # lstrip() يزيل كل المسافات البيضاء من اليسار\n",
    "print (name2.rstrip()) # rstrip() يزيل كل المسافات البيضاء من اليمين\n",
    "print (name3.strip())  # strip() يزيل كل المسافات البيضاء من اليسار واليمين"
   ]
  },
  {
   "cell_type": "markdown",
   "metadata": {},
   "source": [
    "<div dir=\"rtl\">\n",
    "## السلاسل النصية متعددة السطور\n",
    "\n",
    "يمكننا استخدام `\"\"\"` أو `'''` لإنشاء نص متعدد الأسطر.\n",
    "</div>"
   ]
  },
  {
   "cell_type": "code",
   "execution_count": null,
   "metadata": {},
   "outputs": [],
   "source": [
    "# السلاسل النصية متعددة الأسطر\n",
    "long_text = \"\"\"This is a\n",
    "multiline string in Python.\n",
    "It spans multiple lines.\"\"\"\n",
    "print(long_text)"
   ]
  },
  {
   "cell_type": "markdown",
   "metadata": {},
   "source": [
    "<div dir=\"rtl\">\n",
    "## تحويل الأنواع الأخرى إلى نص\n",
    "\n",
    "يمكن تحويل أنواع البيانات الأخرى إلى نص باستخدام `str()` مما يسهل دمجها مع سلاسل نصية.\n",
    "</div>"
   ]
  },
  {
   "cell_type": "code",
   "execution_count": null,
   "metadata": {},
   "outputs": [],
   "source": [
    "# str() -> تحويل الأنواع الأخرى إلى نص\n",
    "nour_age = 28\n",
    "# print (\"Nour's age is \" + nour_age) ## هذا سيؤدي إلى خطأ لأنه لا يمكن دمج نص مع عدد صحيح\n",
    "print (\"Nour's age is \" + str(nour_age)) # هذا يعمل!"
   ]
  },
  {
   "cell_type": "markdown",
   "metadata": {},
   "source": [
    "<div dir=\"rtl\">\n",
    "## التعامل مع الحروف الخاصة باستخدام `\\`\n",
    "\n",
    "نستخدم `\\` لكتابة الحروف الخاصة، مثل الاقتباسات والعلامات الأخرى.\n",
    "</div>"
   ]
  },
  {
   "cell_type": "code",
   "execution_count": null,
   "metadata": {},
   "outputs": [],
   "source": [
    "# استخدام الحروف الخاصة\n",
    "text = \"She said, \\\"Python is amazing!\\\"\"\n",
    "print(text)"
   ]
  },
  {
   "cell_type": "markdown",
   "metadata": {},
   "source": [
    "<div dir=\"rtl\">\n",
    "## تحويل القوائم والقواميس والصفوف إلى نص\n",
    "\n",
    "يمكن أيضًا تحويل القوائم (`list`)، القواميس (`dictionary`)، والصفوف (`tuple`) إلى سلاسل نصية.\n",
    "</div>"
   ]
  },
  {
   "cell_type": "code",
   "execution_count": null,
   "metadata": {},
   "outputs": [],
   "source": [
    "# تحويل القوائم والقواميس والصفوف إلى نص\n",
    "l_langs = [\"Arabic\", \"Python\", \"Ruby\"] # قائمة\n",
    "t_langs = (\"Java\", \"R\", \"Go\") # صف\n",
    "d_langs = {1: \"JavaScript\", 2: \"Kotlin\", 3: \"Swift\"} # قاموس\n",
    "\n",
    "print (\"This is a list: \"       + str(l_langs))\n",
    "print (\"This is a tuple: \"      + str(t_langs))\n",
    "print (\"This is a dictionary: \" + str(d_langs))"
   ]
  },
  {
   "cell_type": "markdown",
   "metadata": {},
   "source": [
    "<div dir=\"rtl\">\n",
    "## بعض الثوابت المدمجة في وحدة `string`\n",
    "\n",
    "وحدة `string` توفر العديد من الثوابت المفيدة مثل جميع الأحرف الأبجدية، الأرقام، والعلامات.\n",
    "</div>"
   ]
  },
  {
   "cell_type": "code",
   "execution_count": null,
   "metadata": {},
   "outputs": [],
   "source": [
    "# بعض الثوابت المدمجة في وحدة string\n",
    "print (\"All Letters:   \" + string.ascii_letters)\n",
    "print (\"Lowercase:      \" + string.ascii_lowercase)\n",
    "print (\"Uppercase:     \" + string.ascii_uppercase)\n",
    "print (\"Punctuations:  \" + string.punctuation)\n",
    "print (\"Numbers:       \" + string.digits)\n",
    "print (\"Hex Digits:    \" + string.hexdigits)\n",
    "print (\"Oct Digits:    \" + string.octdigits)\n",
    "print (\"Whitespace:    \" + string.whitespace)\n",
    "print (\"Printable:     \" + string.printable)"
   ]
  }
 ],
 "metadata": {
  "kernelspec": {
   "display_name": "Python 3",
   "language": "python",
   "name": "python3"
  },
  "language_info": {
   "codemirror_mode": {
    "name": "ipython",
    "version": 3
   },
   "file_extension": ".py",
   "mimetype": "text/x-python",
   "name": "python",
   "nbconvert_exporter": "python",
   "pygments_lexer": "ipython3",
   "version": "3.12.7"
  }
 },
 "nbformat": 4,
 "nbformat_minor": 2
}
