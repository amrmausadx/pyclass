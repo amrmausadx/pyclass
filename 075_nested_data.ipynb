{
 "cells": [
  {
   "cell_type": "markdown",
   "metadata": {},
   "source": [
    "<div dir=\"rtl\">\n",
    "# البيانات المتداخلة (Nested Data)\n",
    "\n",
    "في بايثون، يمكن دمج القوائم، القواميس، والتكرارات لإنشاء هياكل بيانات متداخلة. هذا مفيد جدًا لتنظيم البيانات المعقدة.\n",
    "</div>"
   ]
  },
  {
   "cell_type": "markdown",
   "metadata": {},
   "source": [
    "Educational Code<br/>\n",
    "Dr. Amr Mausad @ 2024<br/>\n",
    "http://amrmausad.com<br/>\n",
    "http://youtube.com/@amrmausadx<br/>\n",
    "للحصول على الكود<br/>\n",
    "https://www.youtube.com/watch?v=s4MgSBx-rZw<br/>\n",
    "https://github.com/amrmausadx/pyclass"
   ]
  },
  {
   "cell_type": "markdown",
   "metadata": {},
   "source": [
    "<div dir=\"rtl\">\n",
    "## القوائم المتداخلة\n",
    "\n",
    "القائمة المتداخلة هي قائمة تحتوي على قوائم أخرى كعناصر.\n",
    "</div>"
   ]
  },
  {
   "cell_type": "code",
   "execution_count": 1,
   "metadata": {},
   "outputs": [
    {
     "name": "stdout",
     "output_type": "stream",
     "text": [
      "[1, 2, 3]\n",
      "ليلى\n",
      "1\n",
      "2\n",
      "3\n",
      "مها\n",
      "ليلى\n",
      "رياضيات\n",
      "فيزياء\n",
      "علوم الحاسوب\n"
     ]
    }
   ],
   "source": [
    "# قائمة متداخلة\n",
    "nested_list = [[1, 2, 3], [\"مها\", \"ليلى\"], [\"رياضيات\", \"فيزياء\", \"علوم الحاسوب\"]]\n",
    "\n",
    "# الوصول إلى العناصر\n",
    "print(nested_list[0])  # القائمة الأولى\n",
    "print(nested_list[1][1])  # العنصر الثاني في القائمة الثانية\n",
    "\n",
    "# التكرار عبر القائمة المتداخلة\n",
    "for sublist in nested_list:\n",
    "    for item in sublist:\n",
    "        print(item)"
   ]
  },
  {
   "cell_type": "markdown",
   "metadata": {},
   "source": [
    "<div dir=\"rtl\">\n",
    "## القواميس المتداخلة\n",
    "\n",
    "القاموس المتداخل هو قاموس يحتوي على قواميس أخرى كقيم.\n",
    "</div>"
   ]
  },
  {
   "cell_type": "code",
   "execution_count": 3,
   "metadata": {},
   "outputs": [
    {
     "name": "stdout",
     "output_type": "stream",
     "text": [
      "{'name': 'مها', 'age': 25, 'major': 'علوم الحاسوب'}\n",
      "الرياضيات\n",
      "student1:\n",
      "  name: مها\n",
      "  age: 25\n",
      "  major: علوم الحاسوب\n",
      "student2:\n",
      "  name: ليلى\n",
      "  age: 22\n",
      "  major: الرياضيات\n",
      "student3:\n",
      "  name: سعاد\n",
      "  age: 24\n",
      "  major: الفيزياء\n"
     ]
    }
   ],
   "source": [
    "'''\n",
    "Grades_1 = {\n",
    "    \"Programming1\": 90,\n",
    "    \"Programming2\": 95,\n",
    "    \"Programming3\": 65\n",
    "    }\n",
    "'''\n",
    "# قاموس متداخل\n",
    "nested_dict = {\n",
    "    \"student1\": {\"name\": \"مها\", \"age\": 25, \"major\": \"علوم الحاسوب\"},\n",
    "    \"student2\": {\"name\": \"ليلى\", \"age\": 22, \"major\": \"الرياضيات\"},\n",
    "    \"student3\": {\"name\": \"سعاد\", \"age\": 24, \"major\": \"الفيزياء\"}\n",
    "}\n",
    "\n",
    "# الوصول إلى البيانات\n",
    "print(nested_dict[\"student1\"])  # بيانات الطالب الأول\n",
    "print(nested_dict[\"student2\"][\"major\"])  # تخصص الطالبة الثانية\n",
    "\n",
    "# التكرار عبر القاموس المتداخل\n",
    "for student_id, student_info in nested_dict.items():\n",
    "    print(f\"{student_id}:\")\n",
    "    for key, value in student_info.items():\n",
    "        print(f\"  {key}: {value}\")"
   ]
  },
  {
   "cell_type": "markdown",
   "metadata": {},
   "source": [
    "<div dir=\"rtl\">\n",
    "## المترتبات المتداخلة\n",
    "\n",
    "المترتبات المتداخلة هي مترتبات يحتوي على مترتبات أخرى كعناصر.\n",
    "</div>"
   ]
  },
  {
   "cell_type": "code",
   "execution_count": 4,
   "metadata": {},
   "outputs": [
    {
     "name": "stdout",
     "output_type": "stream",
     "text": [
      "('مها', 'ليلى', 'سعاد')\n",
      "الرياضيات\n",
      "1\n",
      "2\n",
      "3\n",
      "مها\n",
      "ليلى\n",
      "سعاد\n",
      "علوم الحاسوب\n",
      "الرياضيات\n"
     ]
    }
   ],
   "source": [
    "# مترتبات متداخلة\n",
    "nested_tuple = ((1, 2, 3), (\"مها\", \"ليلى\", \"سعاد\"), (\"علوم الحاسوب\", \"الرياضيات\"))\n",
    "\n",
    "# الوصول إلى البيانات\n",
    "print(nested_tuple[1])  # المجموعة الثانية\n",
    "print(nested_tuple[2][1])  # العنصر الثاني في المجموعة الثالثة\n",
    "\n",
    "# التكرار عبر المترتبات المتداخل\n",
    "for group in nested_tuple:\n",
    "    for item in group:\n",
    "        print(item)"
   ]
  },
  {
   "cell_type": "markdown",
   "metadata": {},
   "source": [
    "<div dir=\"rtl\">\n",
    "## البيانات المتداخلة المركبة\n",
    "\n",
    "يمكن دمج القوائم، القواميس، والتكرارات لإنشاء هياكل بيانات مركبة.\n",
    "</div>"
   ]
  },
  {
   "cell_type": "code",
   "execution_count": 8,
   "metadata": {},
   "outputs": [
    {
     "name": "stdout",
     "output_type": "stream",
     "text": [
      "{'id': 1, 'name': 'مها', 'courses': ('رياضيات', 'فيزياء')}\n",
      "علوم الحاسوب\n",
      "ID: 1, Name: مها\n",
      "  Course: رياضيات\n",
      "  Course: فيزياء\n",
      "ID: 2, Name: ليلى\n",
      "  Course: علوم الحاسوب\n",
      "  Course: الإحصاء\n",
      "ID: 3, Name: سعاد\n",
      "  Course: الكيمياء\n",
      "  Course: الأحياء\n",
      "------------------------------\n",
      "ID: 1, Name: رقية\n",
      "  Course: رياضيات\n",
      "  Course: فيزياء\n",
      "ID: 2, Name: حسن\n",
      "  Course: علوم الحاسوب\n",
      "  Course: الإحصاء\n",
      "ID: 3, Name: مهاب\n",
      "  Course: الكيمياء\n",
      "  Course: الأحياء\n"
     ]
    }
   ],
   "source": [
    "# هيكل بيانات متداخل مركب\n",
    "complex_data = {\n",
    "    \"students\": [\n",
    "        {\"id\": 1, \"name\": \"مها\", \"courses\": (\"رياضيات\", \"فيزياء\")},\n",
    "        {\"id\": 2, \"name\": \"ليلى\", \"courses\": (\"علوم الحاسوب\", \"الإحصاء\")},\n",
    "        {\"id\": 3, \"name\": \"سعاد\", \"courses\": (\"الكيمياء\", \"الأحياء\")}\n",
    "    ],\n",
    "    \"staff\": [\n",
    "        {\"id\": 1, \"name\": \"رقية\", \"courses\": (\"رياضيات\", \"فيزياء\")},\n",
    "        {\"id\": 2, \"name\": \"حسن\", \"courses\": (\"علوم الحاسوب\", \"الإحصاء\")},\n",
    "        {\"id\": 3, \"name\": \"مهاب\", \"courses\": (\"الكيمياء\", \"الأحياء\")}\n",
    "    ]\n",
    "}\n",
    "\n",
    "# الوصول إلى البيانات\n",
    "print(complex_data[\"students\"][0])  # بيانات الطالب الأول\n",
    "print(complex_data[\"students\"][1][\"courses\"][0])  # أول مقرر للطالبة الثانية\n",
    "\n",
    "# التكرار عبر الهيكل\n",
    "for student in complex_data[\"students\"]:\n",
    "    print(f\"ID: {student['id']}, Name: {student['name']}\")\n",
    "    for course in student[\"courses\"]:\n",
    "        print(f\"  Course: {course}\")\n",
    "\n",
    "print(\"-\"*30)\n",
    "for staff in complex_data[\"staff\"]:\n",
    "    print(f\"ID: {staff['id']}, Name: {staff['name']}\")\n",
    "    for course in staff[\"courses\"]:\n",
    "        print(f\"  Course: {course}\")"
   ]
  },
  {
   "cell_type": "markdown",
   "metadata": {},
   "source": [
    "<div dir=\"rtl\">\n",
    "## مثال شامل\n",
    "\n",
    "هذا المثال يدمج جميع أنواع البيانات المتداخلة ويوضح كيفية التعامل معها.\n",
    "</div>"
   ]
  },
  {
   "cell_type": "code",
   "execution_count": 9,
   "metadata": {},
   "outputs": [
    {
     "name": "stdout",
     "output_type": "stream",
     "text": [
      "Class: الرياضيات\n",
      "  Student: مها\n",
      "  Scores: [90, 85, 88]\n",
      "  Student: ليلى\n",
      "  Scores: [78, 81, 89]\n",
      "Class: علوم الحاسوب\n",
      "  Student: سعاد\n",
      "  Scores: [95, 92, 88]\n",
      "  Student: يوسف\n",
      "  Scores: [80, 83, 87]\n"
     ]
    }
   ],
   "source": [
    "# مثال شامل\n",
    "school_data = {\n",
    "    \"classes\": [\n",
    "        {\n",
    "            \"class_name\": \"الرياضيات\",\n",
    "            \"students\": [\n",
    "                {\"name\": \"مها\", \"scores\": [90, 85, 88]},\n",
    "                {\"name\": \"ليلى\", \"scores\": [78, 81, 89]}\n",
    "            ]\n",
    "        },\n",
    "        {\n",
    "            \"class_name\": \"علوم الحاسوب\",\n",
    "            \"students\": [\n",
    "                {\"name\": \"سعاد\", \"scores\": [95, 92, 88]},\n",
    "                {\"name\": \"يوسف\", \"scores\": [80, 83, 87]}\n",
    "            ]\n",
    "        }\n",
    "    ]\n",
    "}\n",
    "\n",
    "# طباعة البيانات\n",
    "for class_info in school_data[\"classes\"]:\n",
    "    print(f\"Class: {class_info['class_name']}\")\n",
    "    for student in class_info[\"students\"]:\n",
    "        print(f\"  Student: {student['name']}\")\n",
    "        print(f\"  Scores: {student['scores']}\")"
   ]
  },
  {
   "cell_type": "markdown",
   "metadata": {},
   "source": [
    "<div dir=\"rtl\">\n",
    "## الخاتمة\n",
    "\n",
    "الهياكل المتداخلة توفر طريقة مرنة لتنظيم البيانات المعقدة. يمكن دمج القوائم، القواميس، والتكرارات لإنشاء بيانات تناسب احتياجاتك.\n",
    "</div>"
   ]
  }
 ],
 "metadata": {
  "kernelspec": {
   "display_name": "Python 3",
   "language": "python",
   "name": "python3"
  },
  "language_info": {
   "codemirror_mode": {
    "name": "ipython",
    "version": 3
   },
   "file_extension": ".py",
   "mimetype": "text/x-python",
   "name": "python",
   "nbconvert_exporter": "python",
   "pygments_lexer": "ipython3",
   "version": "3.13.0"
  }
 },
 "nbformat": 4,
 "nbformat_minor": 2
}
