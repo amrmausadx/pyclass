{
 "cells": [
  {
   "cell_type": "markdown",
   "metadata": {
    "direction": "rtl"
   },
   "source": [
    "# استخدام بايثون كلغة ذات نوع صارم\n",
    "تدعم بايثون التلميحات والAnnotations، مما يسمح للمطورين بفرض نوع صارم وتحسين موثوقية الكود."
   ]
  },
  {
   "cell_type": "markdown",
   "metadata": {
    "direction": "rtl"
   },
   "source": [
    "Educational Code<br/>\n",
    "Dr. Amr Mausad @ 2024<br/>\n",
    "http://amrmausad.com<br/>\n",
    "http://youtube.com/@amrmausadx<br/>\n",
    "للحصول على الكود<br/>\n",
    "https://www.youtube.com/watch?v=s4MgSBx-rZw<br/>\n",
    "https://github.com/amrmausadx/pyclass"
   ]
  },
  {
   "cell_type": "code",
   "execution_count": 3,
   "metadata": {},
   "outputs": [
    {
     "name": "stdout",
     "output_type": "stream",
     "text": [
      "7\n"
     ]
    }
   ],
   "source": [
    "# تعريف دالة مع تلميحات النوع\n",
    "def greet(name: str) -> str:\n",
    "    return 7#f\"مرحبًا، {name}!\"\n",
    "\n",
    "# اختبار الدالة\n",
    "print(greet(\"أحمد\"))"
   ]
  },
  {
   "cell_type": "markdown",
   "metadata": {
    "direction": "rtl"
   },
   "source": [
    "## توضيح المتغيرات باستخدام تلميحات النوع\n",
    "يمكنك استخدام تلميحات النوع مع المتغيرات لتحسين وضوح الكود."
   ]
  },
  {
   "cell_type": "code",
   "execution_count": null,
   "metadata": {},
   "outputs": [],
   "source": [
    "# توضيح المتغيرات\n",
    "age: int = 25\n",
    "name: str = \"سعاد\"\n",
    "\n",
    "print(f\"العمر: {age}, الاسم: {name}\")"
   ]
  },
  {
   "cell_type": "markdown",
   "metadata": {
    "direction": "rtl"
   },
   "source": [
    "## استخدام مكتبة `typing`\n",
    "توفر مكتبة `typing` أدوات لتعريف أنواع أكثر تعقيدًا مثل القوائم والقواميس."
   ]
  },
  {
   "cell_type": "code",
   "execution_count": null,
   "metadata": {},
   "outputs": [],
   "source": [
    "# استيراد مكتبة typing\n",
    "from typing import List, Dict\n",
    "\n",
    "# تعريف قائمة وقاموس مع أنواع واضحة\n",
    "names: List[str] = [\"سعاد\", \"ليلى\"]\n",
    "age_mapping: Dict[str, int] = {\"سعاد\": 25, \"ليلى\": 30}\n",
    "\n",
    "print(names)\n",
    "print(age_mapping)"
   ]
  },
  {
   "cell_type": "markdown",
   "metadata": {
    "direction": "rtl"
   },
   "source": [
    "## استخدام مكتبة `mypy` للتحقق من الأنواع\n",
    "تتيح أداة `mypy` التحقق من تناسق الأنواع في الكود."
   ]
  },
  {
   "cell_type": "code",
   "execution_count": null,
   "metadata": {},
   "outputs": [],
   "source": [
    "# تثبيت mypy وتشغيله\n",
    "!pip install mypy\n",
    "!mypy script.py  # استبدل بـ اسم ملفك"
   ]
  },
  {
   "cell_type": "markdown",
   "metadata": {
    "direction": "rtl"
   },
   "source": [
    "## تعريف أنواع مخصصة\n",
    "يمكنك تعريف أنواع مخصصة باستخدام مكتبة `typing`."
   ]
  },
  {
   "cell_type": "code",
   "execution_count": null,
   "metadata": {},
   "outputs": [],
   "source": [
    "# تعريف أنواع مخصصة\n",
    "from typing import TypedDict\n",
    "\n",
    "class User(TypedDict):\n",
    "    id: int\n",
    "    name: str\n",
    "\n",
    "user: User = {\"id\": 1, \"name\": \"أحمد\"}\n",
    "print(user)"
   ]
  },
  {
   "cell_type": "markdown",
   "metadata": {
    "direction": "rtl"
   },
   "source": [
    "## استخدام Generics\n",
    "تتيح Generics إنشاء دوال وفئات يمكنها العمل مع أنواع متعددة."
   ]
  },
  {
   "cell_type": "code",
   "execution_count": null,
   "metadata": {},
   "outputs": [],
   "source": [
    "# استخدام Generics\n",
    "from typing import TypeVar, List\n",
    "\n",
    "T = TypeVar('T')\n",
    "\n",
    "def get_first_item(items: List[T]) -> T:\n",
    "    return items[0]\n",
    "\n",
    "print(get_first_item([1, 2, 3]))  # مثال مع أرقام\n",
    "print(get_first_item([\"أ\", \"ب\", \"ت\"]))  # مثال مع أحرف"
   ]
  },
  {
   "cell_type": "markdown",
   "metadata": {
    "direction": "rtl"
   },
   "source": [
    "## فوائد النوع الصارم\n",
    "- اكتشاف الأخطاء أثناء التطوير.\n",
    "- تحسين وضوح الكود.\n",
    "- دعم أفضل للأدوات، مثل الإكمال التلقائي."
   ]
  }
 ],
 "metadata": {
  "kernelspec": {
   "display_name": "Python 3",
   "language": "python",
   "name": "python3"
  },
  "language_info": {
   "codemirror_mode": {
    "name": "ipython",
    "version": 3
   },
   "file_extension": ".py",
   "mimetype": "text/x-python",
   "name": "python",
   "nbconvert_exporter": "python",
   "pygments_lexer": "ipython3",
   "version": "3.13.0"
  }
 },
 "nbformat": 4,
 "nbformat_minor": 2
}
