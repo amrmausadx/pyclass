{
 "cells": [
  {
   "cell_type": "code",
   "execution_count": null,
   "metadata": {},
   "outputs": [],
   "source": [
    "# sec 1 "
   ]
  },
  {
   "cell_type": "code",
   "execution_count": null,
   "metadata": {},
   "outputs": [],
   "source": [
    "num = int(input(\"enter a number :  \"))\n",
    "\n",
    "if num % 2 == 0:\n",
    "    print(f\"{num} num is even\")\n",
    "else:\n",
    "    print(f\"{num} num is odd \")"
   ]
  },
  {
   "cell_type": "code",
   "execution_count": null,
   "metadata": {},
   "outputs": [],
   "source": [
    "num = float(input(\"enter a number : \"))\n",
    "square = num ** 2\n",
    "print(f\"the square if the num is {num} : {square}\")"
   ]
  },
  {
   "cell_type": "code",
   "execution_count": null,
   "metadata": {},
   "outputs": [],
   "source": [
    "num = float(input(\"enter a number : \"))\n",
    "if num > 0:\n",
    "    print(\"the num is positive\")\n",
    "elif num < 0:\n",
    "    print(\"the num is negtive\")\n",
    "else:\n",
    "    print(\"the num is equal 0\")"
   ]
  },
  {
   "cell_type": "code",
   "execution_count": null,
   "metadata": {},
   "outputs": [],
   "source": [
    "num1 = float(input(\"enter the first num:  \"))\n",
    "num2 = float(input(\"enter the first num: \"))\n",
    "result = num1 + num2\n",
    "print(f\"the result of sumition of the {num1} and {num2}  is : {result}\")"
   ]
  },
  {
   "cell_type": "code",
   "execution_count": null,
   "metadata": {},
   "outputs": [],
   "source": [
    "num1 = float(input(\"enter the first num : \"))\n",
    "num2 = float(input(\"enter the second num: \"))\n",
    "if num2 == 0:\n",
    "    print(\"the operation can't done as num2=0!!!!!!!\")\n",
    "else:\n",
    "    result = num1 / num2\n",
    "    print(f\"the result of  {num1} / {num2} is : {result}\")"
   ]
  },
  {
   "cell_type": "code",
   "execution_count": null,
   "metadata": {},
   "outputs": [],
   "source": [
    "from random import randrange as rg\n",
    "import random\n",
    "print(rg(5,50))\n",
    "print(rg(5,50))\n",
    "print (random.randrange(5,50))\n",
    "print (random.randrange(5,50))"
   ]
  },
  {
   "cell_type": "code",
   "execution_count": null,
   "metadata": {},
   "outputs": [],
   "source": [
    "import math\n",
    "radius = float(input(\"ادخل نصف قطر الدائرة: \"))\n",
    "area = math.pi * (radius ** 2)\n",
    "print(\"مساحة الدائرة هي:\", area)\n"
   ]
  },
  {
   "cell_type": "code",
   "execution_count": null,
   "metadata": {},
   "outputs": [],
   "source": [
    "num1 = int(input(\"num 1: \"))\n",
    "num2 = int(input(\"num 2: \"))\n",
    "num3 = int(input(\"num 3: \"))\n",
    "largest = max(num1, num2, num3)\n",
    "print(\"أكبر عدد هو:\", largest)\n"
   ]
  },
  {
   "cell_type": "code",
   "execution_count": null,
   "metadata": {},
   "outputs": [],
   "source": [
    "grade = int(input(\"ادخل درجتك: \"))\n",
    "\n",
    "if grade >= 60:\n",
    "    print(\"نجحت!\")\n",
    "else:\n",
    "    print(\"راسب.\")\n"
   ]
  },
  {
   "cell_type": "code",
   "execution_count": null,
   "metadata": {},
   "outputs": [],
   "source": [
    "# sec 2 "
   ]
  },
  {
   "cell_type": "code",
   "execution_count": null,
   "metadata": {},
   "outputs": [],
   "source": [
    "price=float(input(\"enter the price :\"))\n",
    "if price >= 100:\n",
    "    print(price*.9)\n",
    "else: \n",
    "    print(price)"
   ]
  },
  {
   "cell_type": "code",
   "execution_count": null,
   "metadata": {},
   "outputs": [],
   "source": [
    "age = float(input(\"enter the age \"))\n",
    "baseprice=float(input(\"enter the price \"))\n",
    "if age <=5:\n",
    "    ticprice=0\n",
    "elif age<18:\n",
    "    ticprice=baseprice*.5\n",
    "else:\n",
    "    ticprice=baseprice\n",
    "print(f\"ticprice is {ticprice}\") \n",
    "     "
   ]
  },
  {
   "cell_type": "code",
   "execution_count": null,
   "metadata": {},
   "outputs": [],
   "source": [
    "side1=float(input(\"enter the side1: \"))\n",
    "side2=float(input(\"enter the side2: \"))\n",
    "if side1==side2:\n",
    "    print(side1**2)\n",
    "else:\n",
    "    print(side1*side2)"
   ]
  },
  {
   "cell_type": "code",
   "execution_count": null,
   "metadata": {},
   "outputs": [],
   "source": [
    "hourWorked=int(input(\"enter the no of hours:\"))\n",
    "priceofhour=float(input(\"enter the no of price:\"))\n",
    "if hourWorked<40:\n",
    "    salary= hourWorked*priceofhour\n",
    "else:\n",
    "    salary=  40*priceofhour +(hourWorked-40)*priceofhour*1.5\n",
    "    #salary=  hourWorked*priceofhour +(hourWorked-40)*priceofhour*0.5\n",
    "print(salary)"
   ]
  },
  {
   "cell_type": "code",
   "execution_count": null,
   "metadata": {},
   "outputs": [],
   "source": [
    "# num1 op num2 +-/*^\n",
    "num1=float(input(\"enter the number1  = \"))\n",
    "op = str(input(\"enter your op : \"))\n",
    "num2=float(input(\"enter the number2  = \"))\n",
    "if op==\"+\":\n",
    "    print(num1+num2)\n",
    "elif op==\"-\":\n",
    "    print(num1-num2)\n",
    "elif op==\"*\":\n",
    "    print(num1*num2)\n",
    "elif op == \"/\":\n",
    "    if num2!=0:\n",
    "        print(num1/num2)\n",
    "    else:\n",
    "        print(\"divide by 0 can't be done\") #5.0^5.0\n",
    "elif op==\"**\":\n",
    "    if num2>0 and  num2==int(num2):\n",
    "      print(num1**num2)"
   ]
  },
  {
   "cell_type": "code",
   "execution_count": null,
   "metadata": {},
   "outputs": [],
   "source": [
    "email=str(input(\"enter your email\"))\n",
    "if  \".\" in email and email.count(\"@\")==1 :#\"@\" in email and\n",
    "    print(f\"{email}  is correct\")\n",
    "else:\n",
    "    print(f\"{email}  is incorrect !!!!!!!!!!!\")"
   ]
  },
  {
   "cell_type": "code",
   "execution_count": null,
   "metadata": {},
   "outputs": [],
   "source": [
    "distance= float(input(\"enter the dictance:\"))\n",
    "if distance<=5:\n",
    "  delivery_cost = 15\n",
    "elif distance<=10:\n",
    "    delivery_cost=20\n",
    "else:\n",
    "    delivery_cost=150\n",
    "print (delivery_cost)"
   ]
  },
  {
   "cell_type": "code",
   "execution_count": null,
   "metadata": {},
   "outputs": [],
   "source": [
    "# sec 3 "
   ]
  },
  {
   "cell_type": "code",
   "execution_count": null,
   "metadata": {},
   "outputs": [],
   "source": [
    "hour = int (input(\"enter the hour in (0:23): \"))\n",
    "hour12=hour\n",
    "if 0<=hour < 12:\n",
    "    print(\"good morning\")\n",
    "elif hour>=12:\n",
    "    print(\"good evening \")\n",
    "    hour12-=12\n",
    "else:\n",
    "    print(\"invalid hour!!!!!!!!!!!!\")\n",
    "print(f\"Hour 24 = {hour} & Hour 12 = {hour12}\")"
   ]
  },
  {
   "cell_type": "code",
   "execution_count": null,
   "metadata": {},
   "outputs": [],
   "source": [
    "year=int(input(\"enter the year : \")) \n",
    "if year % 400 == 0 or (year % 100 !=0 and year % 4 ==0):\n",
    "    print(\"كبيسة\")\n",
    "else:\n",
    "    print(\"السنه ليست كبيسة\")"
   ]
  },
  {
   "cell_type": "code",
   "execution_count": null,
   "metadata": {},
   "outputs": [],
   "source": [
    "age = float(input(\"enter the age in range 0:100 \"))\n",
    "if age<12:\n",
    "    print(\"طفل\")\n",
    "elif age < 18:\n",
    "    print(\"مراهق\")\n",
    "elif age>=18 and age <30:\n",
    "    print(\"بالغ\")\n",
    "else:\n",
    "    print(\"كبير\")\n",
    "    "
   ]
  },
  {
   "cell_type": "code",
   "execution_count": null,
   "metadata": {},
   "outputs": [],
   "source": [
    "# number num==>0\n",
    "\n",
    "number = int(input(\"enter the num : \"))\n",
    "for i in range(number,0,-1):\n",
    "    print(i)\n",
    "# 0==> number \n",
    "\n",
    "#number = int(input(\"enter the num : \"))\n",
    "while number>0:\n",
    "    print(number)\n",
    "    number-=1 #number = number - 1 ,number =5-1\n"
   ]
  },
  {
   "cell_type": "code",
   "execution_count": null,
   "metadata": {},
   "outputs": [],
   "source": [
    "number= int(input(\"enter the number: \"))\n",
    "is_prime= True \n",
    "if number >1:\n",
    "    for i in range(2,number):\n",
    "        if number % i ==0:\n",
    "         is_prime= False\n",
    "        break  # continue \n",
    "    if is_prime:\n",
    "         print(f\"{number} is prime \")\n",
    "    else: \n",
    "         print(f\"{number} is not prime \")\n",
    "else:\n",
    "    print(f\"number must be greater than 1 but you entered {number} !!!!!!\")"
   ]
  },
  {
   "cell_type": "code",
   "execution_count": null,
   "metadata": {},
   "outputs": [],
   "source": [
    "x,y=4,7\n",
    "print (f\"x,y = {x},{y}\")"
   ]
  },
  {
   "cell_type": "code",
   "execution_count": null,
   "metadata": {},
   "outputs": [],
   "source": [
    "# 0,1, 1,2,3,5,8,13,21\n",
    "num = int(input(\" enter \"))\n",
    "a = 0\n",
    "b = 1\n",
    "count = 0\n",
    "while count < num:\n",
    "    print (a, end=\" , \")\n",
    "    a,b=b,a+b\n",
    "    count += 1"
   ]
  },
  {
   "cell_type": "code",
   "execution_count": null,
   "metadata": {},
   "outputs": [],
   "source": [
    "n=12\n",
    "num = int(input(\"enter the number : \"))\n",
    "for i in range( n,0,-1):\n",
    "    print(f\"{num} × {i} = {num * i}\")\n",
    "    \n",
    "    \n",
    "    \n",
    "#num = int(input(\"enter the number : \"))\n",
    "print()\n",
    "i = 1\n",
    "while i <= n:\n",
    "    print(f\"{num} × {i} = {num * i}\")\n",
    "    i += 1 "
   ]
  },
  {
   "cell_type": "code",
   "execution_count": 2,
   "metadata": {},
   "outputs": [],
   "source": [
    "# sec 4"
   ]
  },
  {
   "cell_type": "code",
   "execution_count": null,
   "metadata": {},
   "outputs": [],
   "source": [
    "start = int(input(\"أدخل بداية النطاق: \"))\n",
    "end = int(input(\"أدخل نهاية النطاق: \"))\n",
    "print(\"الأعداد الأولية في النطاق:\")\n",
    "for num in range(start, end + 1):\n",
    "    if num > 1:\n",
    "        for i in range(2, int(num ** 0.5) + 1):\n",
    "            if num % i == 0:\n",
    "                break\n",
    "        else:\n",
    "            print(num, end=\" \")"
   ]
  },
  {
   "cell_type": "code",
   "execution_count": null,
   "metadata": {},
   "outputs": [],
   "source": [
    "N = int(input(\"Enter the value of N: \"))\n",
    "divisor = 17\n",
    "\n",
    "print(f\"Numbers divisible by {divisor} from 1 to {N}:\")\n",
    "\n",
    "for num in range(1, N + 1):\n",
    "    if num % divisor == 0:\n",
    "        print(num)\n",
    "        "
   ]
  },
  {
   "cell_type": "code",
   "execution_count": null,
   "metadata": {},
   "outputs": [],
   "source": [
    "string = \"abcde\"\n",
    "even_string=\"\"\n",
    "odd_string=\"\"\n",
    "for i in range(len(string)):\n",
    "    if i % 2 ==0:\n",
    "       even_string+=string[i]+\"  \"\n",
    "    else:\n",
    "      odd_string+=string[i]  +\"  \"\n",
    "print(f\"the even chracter is :{even_string}\")\n",
    "print(f\"the odd chracter is :{odd_string}\")"
   ]
  },
  {
   "cell_type": "code",
   "execution_count": null,
   "metadata": {},
   "outputs": [],
   "source": [
    "Numbers= [4,5,100,50,10,-5,90] # 100 , 90 ,50\n",
    "largest_Number = []\n",
    "for i  in range (7) :\n",
    "    numMax= max(Numbers) # largest number \n",
    "    largest_Number.append(numMax) # append ==> insert element in list \n",
    "    Numbers.remove(numMax)\n",
    "print(largest_Number)\n",
    "print(Numbers)"
   ]
  },
  {
   "cell_type": "code",
   "execution_count": null,
   "metadata": {},
   "outputs": [],
   "source": [
    "Numbers= [4,5,100,50,10,-5,90]\n",
    "Numbers.sort()\n",
    "print(f\"the sorted number is : {Numbers}\")"
   ]
  },
  {
   "cell_type": "code",
   "execution_count": null,
   "metadata": {},
   "outputs": [],
   "source": [
    "my_list= [\"aya\", \"mohamed\", \"ahmed\"]\n",
    "long=\"\"\n",
    "for name in my_list:\n",
    "    if len(name)> len(long):\n",
    "     long= name\n",
    "print(long)     "
   ]
  },
  {
   "cell_type": "code",
   "execution_count": null,
   "metadata": {},
   "outputs": [],
   "source": [
    "# sec 5 "
   ]
  },
  {
   "cell_type": "code",
   "execution_count": null,
   "metadata": {},
   "outputs": [],
   "source": [
    "text = input(\"Enter the text : \")\n",
    "total = 0\n",
    "for char in text:\n",
    "    if char.isdigit():\n",
    "        total += int(char)\n",
    "\n",
    "print(\"the sum of the number is \", total)"
   ]
  },
  {
   "cell_type": "code",
   "execution_count": null,
   "metadata": {},
   "outputs": [],
   "source": [
    "size = int(input(\"enter the size of X O : \"))\n",
    "for i in range(size):\n",
    "    row=\"\"\n",
    "    for j in range(size):\n",
    "        if(i+j)%2==0:                                \n",
    "           row+=\" X \"\n",
    "        else:\n",
    "            row+=\" O \"\n",
    "    print(row)\n",
    "            "
   ]
  },
  {
   "cell_type": "code",
   "execution_count": null,
   "metadata": {},
   "outputs": [],
   "source": [
    "num=int(input(\"enter the number : \"))\n",
    "print(f\"the numbers the {num} is devisible by are : \")\n",
    "for i in range(1,num+1):\n",
    "    if num%i==0:\n",
    "        print(i)"
   ]
  },
  {
   "cell_type": "code",
   "execution_count": null,
   "metadata": {},
   "outputs": [],
   "source": [
    "numbers = [10, 23, 45, 32, 60, 17, 88, 91, 45]\n",
    "even_numbers = []\n",
    "odd_numbers = []\n",
    "for num in numbers:\n",
    "    if num % 2 == 0:\n",
    "        even_numbers.append(num)\n",
    "    else:\n",
    "        odd_numbers.append(num)\n",
    "\n",
    "print(\"the even numbers is \", even_numbers)\n",
    "print(\"the odd nymbers is \", odd_numbers)"
   ]
  },
  {
   "cell_type": "code",
   "execution_count": null,
   "metadata": {},
   "outputs": [],
   "source": [
    "# sec 6 "
   ]
  },
  {
   "cell_type": "code",
   "execution_count": null,
   "metadata": {},
   "outputs": [],
   "source": [
    "pairs = [(3,8),(-1,11),(1, 9), (2, 8), (3, 7), (4, 6), (5, 8)]\n",
    "target_sum = 10\n",
    "\n",
    "# إيجاد الأزواج المناسبة\n",
    "matching_pairs = []\n",
    "unmatched = []\n",
    "for pair in pairs: \n",
    "      if sum(pair) == target_sum:\n",
    "          matching_pairs.append(pair)\n",
    "      else:\n",
    "          unmatched.append(pair)\n",
    "print(matching_pairs) \n",
    "print(unmatched) "
   ]
  },
  {
   "cell_type": "code",
   "execution_count": null,
   "metadata": {},
   "outputs": [],
   "source": [
    "tuple1 = (1, 2, 3)\n",
    "tuple2 = (4, 5, 6)\n",
    "merged_tuple = tuple1 + tuple2\n",
    "print(f\"The merge tuple is : {merged_tuple}\") "
   ]
  },
  {
   "cell_type": "code",
   "execution_count": null,
   "metadata": {},
   "outputs": [],
   "source": [
    "game_results = {\n",
    "    (\"Team A\", \"Team B\"): {\"score\": (3, 2), \"date\": \"2024-12-10\"},\n",
    "    (\"Team C\", \"Team D\"): {\"score\": (1, 1), \"date\": \"2024-12-11\"},\n",
    "    (\"Team C\", \"Team B\"): {\"score\": (1, 3), \"date\": \"2024-12-11\"},\n",
    "}\n",
    "\n",
    "# حساب الفائز\n",
    "for teams, result in game_results.items():\n",
    "    team1, team2 = teams\n",
    "    score1, score2 = result[\"score\"]\n",
    "    if score1 > score2:\n",
    "       print(f\"Match: {team1} vs {team2}, team1 is the winner\")\n",
    "    elif score2 > score1:\n",
    "        print(f\"Match: {team1} vs {team2}, team2 is the winner\")\n",
    "    else:\n",
    "     print(f\"Match: {team1} vs {team2}, draw\")"
   ]
  },
  {
   "cell_type": "code",
   "execution_count": null,
   "metadata": {},
   "outputs": [],
   "source": [
    "text = \"this is an example of counting word frequency in a text, and this is a very good example\"\n",
    "words = text.split()\n",
    "\n",
    "# عد التكرار\n",
    "word_count = {}\n",
    "for word in words:\n",
    "    word_count[word] = word_count.get(word,0) + 1\n",
    "print(word_count) "
   ]
  },
  {
   "cell_type": "code",
   "execution_count": null,
   "metadata": {},
   "outputs": [],
   "source": [
    "SHAPES = (\"circle\", \"square\", \"triangle\")\n",
    "\n",
    "# طلب الشكل من المستخدم\n",
    "shape = input(\"Enter the shape (circle, square, triangle): \").lower()\n",
    "\n",
    "# التحقق من أن الشكل المدخل صحيح\n",
    "if shape not in SHAPES:\n",
    "    print(f\"Invalid shape: {shape}. Must be one of {SHAPES}.\")\n",
    "\n",
    "# طلب الأبعاد من المستخدم\n",
    "if shape == \"circle\":\n",
    "    radius = float(input(\"Enter the radius of the circle: \"))\n",
    "    import math \n",
    "    print(f\"The area of the circle is: {math.pi * radius**2}\")\n",
    "elif shape == \"square\":\n",
    "    side = float(input(\"Enter the side length of the square: \"))\n",
    "    print(f\"The area of the square is: {side**2}\")\n",
    "elif shape == \"triangle\":\n",
    "    base = float(input(\"Enter the base of the triangle: \"))\n",
    "    height = float(input(\"Enter the height of the triangle: \"))\n",
    "    print(f\"The area of the triangle is: {0.5 * base * height}\")"
   ]
  },
  {
   "cell_type": "code",
   "execution_count": 113,
   "metadata": {},
   "outputs": [
    {
     "name": "stdout",
     "output_type": "stream",
     "text": [
      "2\n",
      "82\n",
      "94\n",
      "17\n",
      "61\n",
      "74\n",
      "63\n",
      "8\n",
      "55\n",
      "25\n",
      "\n",
      "9 25\n",
      "8 55\n",
      "7 8\n",
      "6 63\n",
      "5 74\n",
      "4 61\n",
      "3 17\n",
      "2 94\n",
      "1 82\n",
      "0 2\n"
     ]
    }
   ],
   "source": [
    "import random\n",
    "\n",
    "filename = \"random_numbers.txt\"\n",
    "count = 10\n",
    "lower_bound = 1\n",
    "upper_bound = 100\n",
    "\n",
    "with open(filename, \"w\", encoding=\"utf-8\") as file:\n",
    "    for _ in range(count):\n",
    "        number = random.randint(lower_bound, upper_bound)\n",
    "        print(number)\n",
    "        file.write(f\"{number}\\n\")\n",
    "\n",
    "print(\"\")\n",
    "numbers = []\n",
    "with open(filename, \"r\", encoding=\"utf-8\") as file:\n",
    "    for line in file:\n",
    "        numbers.append(int(line.strip()))\n",
    "\n",
    "for i in range(len(numbers)-1,-1,-1):\n",
    "    print(i,numbers[i])\n"
   ]
  }
 ],
 "metadata": {
  "kernelspec": {
   "display_name": "Python 3",
   "language": "python",
   "name": "python3"
  },
  "language_info": {
   "codemirror_mode": {
    "name": "ipython",
    "version": 3
   },
   "file_extension": ".py",
   "mimetype": "text/x-python",
   "name": "python",
   "nbconvert_exporter": "python",
   "pygments_lexer": "ipython3",
   "version": "3.13.0"
  }
 },
 "nbformat": 4,
 "nbformat_minor": 2
}
