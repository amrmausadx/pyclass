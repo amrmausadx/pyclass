{
 "cells": [
  {
   "cell_type": "markdown",
   "metadata": {},
   "source": [
    "<div dir=\"rtl\">\n",
    "# العمل مع الوحدات (Modules) في بايثون\n",
    "\n",
    "الوحدات (Modules) هي ملفات تحتوي على دوال وفئات جاهزة للاستخدام. تُستخدم الوحدات لتوفير وظائف إضافية تساعد المطورين في تسهيل العمل.\n",
    "</div>"
   ]
  },
  {
   "cell_type": "markdown",
   "metadata": {},
   "source": [
    "Educational Code<br/>\n",
    "Dr. Amr Mausad @ 2024<br/>\n",
    "http://amrmausad.com<br/>\n",
    "http://youtube.com/@amrmausadx<br/>\n",
    "للحصول على الكود<br/>\n",
    "https://www.youtube.com/watch?v=s4MgSBx-rZw<br/>\n",
    "https://github.com/amrmausadx/pyclass"
   ]
  },
  {
   "cell_type": "markdown",
   "metadata": {},
   "source": [
    "<div dir=\"rtl\">\n",
    "## كيفية استيراد الوحدات\n",
    "\n",
    "يمكنك استيراد وحدة باستخدام الكلمة المفتاحية `import`.\n",
    "\n",
    "### أنواع الاستيراد:\n",
    "1. **استيراد الوحدة بالكامل:**\n",
    "    ```python\n",
    "    import math\n",
    "    ```\n",
    "2. **استيراد دالة أو أكثر فقط:**\n",
    "    ```python\n",
    "    from math import sqrt, ceil\n",
    "    ```\n",
    "3. **تغيير اسم الوحدة:**\n",
    "    ```python\n",
    "    import math as m\n",
    "    ```\n",
    "</div>"
   ]
  },
  {
   "cell_type": "markdown",
   "metadata": {},
   "source": [
    "<div dir=\"rtl\">\n",
    "## وحدة `math`\n",
    "\n",
    "الوحدة `math` تحتوي على دوال رياضية مثل حساب الجذور، اللوغاريتمات، ودوال مثلثية.\n",
    "</div>"
   ]
  },
  {
   "cell_type": "code",
   "execution_count": 2,
   "metadata": {},
   "outputs": [
    {
     "name": "stdout",
     "output_type": "stream",
     "text": [
      "الجذر التربيعي للعدد 16: 4.0\n",
      "مساحة دائرة نصف قطرها 5: 78.53981633974483\n",
      "تقريب 4.7 إلى أعلى: 5\n",
      "تقريب 4.7 إلى أسفل: 4\n"
     ]
    }
   ],
   "source": [
    "# استيراد الوحدة math\n",
    "import math\n",
    "\n",
    "# الجذر التربيعي\n",
    "print(\"الجذر التربيعي للعدد 16:\", math.sqrt(16))\n",
    "\n",
    "# الدائرة: الحسابات مع الثابت pi\n",
    "radius = 5\n",
    "area = math.pi * radius**2\n",
    "print(\"مساحة دائرة نصف قطرها 5:\", area)\n",
    "\n",
    "# تقريب الأرقام\n",
    "print(\"تقريب 4.7 إلى أعلى:\", math.ceil(4.7))\n",
    "print(\"تقريب 4.7 إلى أسفل:\", math.floor(4.7))"
   ]
  },
  {
   "cell_type": "markdown",
   "metadata": {},
   "source": [
    "<div dir=\"rtl\">\n",
    "## وحدة `random`\n",
    "\n",
    "الوحدة `random` تُستخدم لتوليد أرقام عشوائية أو اختيار عناصر عشوائية من القوائم.\n",
    "</div>"
   ]
  },
  {
   "cell_type": "code",
   "execution_count": 21,
   "metadata": {},
   "outputs": [
    {
     "name": "stdout",
     "output_type": "stream",
     "text": [
      "رقم عشوائي بين 1 و 10: 10\n",
      "اسم عشوائي من القائمة: يوسف\n",
      "القائمة بعد الخلط: [2, 5, 3, 1, 4]\n",
      "رقم عشوائي عشري بين 0 و 1: 0.053256297126293095\n"
     ]
    }
   ],
   "source": [
    "# استيراد الوحدة random\n",
    "import random\n",
    "\n",
    "# توليد رقم عشوائي بين 1 و 10\n",
    "print(\"رقم عشوائي بين 1 و 10:\", random.randint(1, 10))\n",
    "\n",
    "# اختيار عنصر عشوائي من قائمة\n",
    "names = [\"مها\", \"يوسف\", \"ليلى\", \"سعاد\"]\n",
    "print(\"اسم عشوائي من القائمة:\", random.choice(names))\n",
    "\n",
    "# خلط قائمة\n",
    "numbers = [1, 2, 3, 4, 5]\n",
    "random.shuffle(numbers)\n",
    "print(\"القائمة بعد الخلط:\", numbers)\n",
    "\n",
    "# توليد رقم عشوائي عشري بين 0 و 1\n",
    "print(\"رقم عشوائي عشري بين 0 و 1:\", random.random())"
   ]
  },
  {
   "cell_type": "markdown",
   "metadata": {},
   "source": [
    "<div dir=\"rtl\">\n",
    "## وحدة `os`\n",
    "\n",
    "الوحدة `os` تُستخدم للتعامل مع نظام التشغيل، مثل إنشاء الملفات والمجلدات، حذفها، أو استرجاع معلومات عن النظام.\n",
    "</div>"
   ]
  },
  {
   "cell_type": "code",
   "execution_count": 23,
   "metadata": {},
   "outputs": [
    {
     "name": "stdout",
     "output_type": "stream",
     "text": [
      "مسار العمل الحالي: /Users/dr.amr/Documents/PyClass\n",
      "تم إنشاء المجلد الجديد.\n",
      "هل المجلد موجود؟: True\n",
      "تم حذف المجلد الجديد.\n",
      "هل المجلد موجود؟: False\n"
     ]
    }
   ],
   "source": [
    "# استيراد الوحدة os\n",
    "import os\n",
    "\n",
    "# عرض مسار العمل الحالي\n",
    "print(\"مسار العمل الحالي:\", os.getcwd())\n",
    "\n",
    "# إنشاء مجلد جديد\n",
    "os.mkdir(\"new_folder\")\n",
    "print(\"تم إنشاء المجلد الجديد.\")\n",
    "\n",
    "# التحقق من وجود ملف أو مجلد\n",
    "print(\"هل المجلد موجود؟:\", os.path.exists(\"new_folder\"))\n",
    "\n",
    "# حذف المجلد\n",
    "os.rmdir(\"new_folder\")\n",
    "print(\"تم حذف المجلد الجديد.\")\n",
    "\n",
    "\n",
    "# التحقق من وجود ملف أو مجلد\n",
    "print(\"هل المجلد موجود؟:\", os.path.exists(\"new_folder\"))"
   ]
  },
  {
   "cell_type": "markdown",
   "metadata": {},
   "source": [
    "<div dir=\"rtl\">\n",
    "## مثال شامل\n",
    "\n",
    "دمج الوحدات `math` و`random` و`os` في برنامج بسيط.\n",
    "</div>"
   ]
  },
  {
   "cell_type": "code",
   "execution_count": 28,
   "metadata": {},
   "outputs": [
    {
     "name": "stdout",
     "output_type": "stream",
     "text": [
      "تم إنشاء ملف الأرقام العشوائية.\n",
      "الجذور التربيعية للأرقام:\n",
      "الجذر التربيعي للعدد 667: 25.83\n",
      "الجذر التربيعي للعدد 87: 9.33\n",
      "الجذر التربيعي للعدد 993: 31.51\n",
      "الجذر التربيعي للعدد 194: 13.93\n",
      "الجذر التربيعي للعدد 390: 19.75\n",
      "الجذر التربيعي للعدد 445: 21.10\n",
      "الجذر التربيعي للعدد 424: 20.59\n",
      "الجذر التربيعي للعدد 910: 30.17\n",
      "الجذر التربيعي للعدد 788: 28.07\n",
      "الجذر التربيعي للعدد 125: 11.18\n",
      "الجذر التربيعي للعدد 909: 30.15\n",
      "الجذر التربيعي للعدد 918: 30.30\n",
      "الجذر التربيعي للعدد 964: 31.05\n",
      "الجذر التربيعي للعدد 769: 27.73\n",
      "الجذر التربيعي للعدد 758: 27.53\n",
      "تم حذف الملف بنجاح.\n"
     ]
    }
   ],
   "source": [
    "import math\n",
    "import random\n",
    "import os\n",
    "\n",
    "# إنشاء ملف يحتوي على أرقام عشوائية\n",
    "file_name = \"random_numbers.txt\"\n",
    "with open(file_name, \"w\") as file:\n",
    "    for _ in range(15):\n",
    "        num = random.randint(1, 1000)\n",
    "        file.write(f\"{num}\\n\")\n",
    "print(\"تم إنشاء ملف الأرقام العشوائية.\")\n",
    "\n",
    "# قراءة الأرقام وحساب الجذر التربيعي لكل رقم\n",
    "print(\"الجذور التربيعية للأرقام:\")\n",
    "with open(file_name, \"r\") as file:\n",
    "    for line in file:\n",
    "        num = int(line.strip())\n",
    "        print(f\"الجذر التربيعي للعدد {num}: {math.sqrt(num):.2f}\")\n",
    "\n",
    "# حذف الملف\n",
    "if os.path.exists(file_name):\n",
    "    os.remove(file_name)\n",
    "    print(\"تم حذف الملف بنجاح.\")"
   ]
  },
  {
   "cell_type": "markdown",
   "metadata": {},
   "source": [
    "<div dir=\"rtl\">\n",
    "## الخاتمة\n",
    "\n",
    "الوحدات `math` و`random` و`os` توفر مجموعة قوية من الأدوات لتبسيط العمليات الرياضية، العمل مع القيم العشوائية، والتعامل مع نظام الملفات. تعلم استخدامها يعزز قدرتك على بناء برامج مرنة ومتقدمة.\n",
    "</div>"
   ]
  }
 ],
 "metadata": {
  "kernelspec": {
   "display_name": "Python 3",
   "language": "python",
   "name": "python3"
  },
  "language_info": {
   "codemirror_mode": {
    "name": "ipython",
    "version": 3
   },
   "file_extension": ".py",
   "mimetype": "text/x-python",
   "name": "python",
   "nbconvert_exporter": "python",
   "pygments_lexer": "ipython3",
   "version": "3.13.0"
  }
 },
 "nbformat": 4,
 "nbformat_minor": 2
}
