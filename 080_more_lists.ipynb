{
 "cells": [
  {
   "cell_type": "markdown",
   "metadata": {},
   "source": [
    "<div dir=\"rtl\">\n",
    "# مقدمة سريعة لقوائم الفهم (List Comprehensions) في بايثون\n",
    "\n",
    "تُعتبر قوائم الفهم واحدة من أقوى الأدوات في بايثون. في هذا الملف، سنستعرض بعض الأمثلة السريعة لشرح كيفية استخدام قوائم الفهم.\n",
    "</div>"
   ]
  },
  {
   "cell_type": "markdown",
   "metadata": {},
   "source": [
    "Educational Code<br/>\n",
    "Dr. Amr Mausad @ 2024<br/>\n",
    "http://amrmausad.com<br/>\n",
    "http://youtube.com/@amrmausadx<br/>\n",
    "للحصول على الكود<br/>\n",
    "https://www.youtube.com/watch?v=s4MgSBx-rZw<br/>\n",
    "https://github.com/amrmausadx/pyclass"
   ]
  },
  {
   "cell_type": "markdown",
   "metadata": {},
   "source": [
    "<div dir=\"rtl\">\n",
    "## لماذا نستخدم قوائم الفهم؟\n",
    "\n",
    "لإنجاز نفس المهمة بكتابة عدد أقل من الأسطر.\n",
    "</div>"
   ]
  },
  {
   "cell_type": "markdown",
   "metadata": {},
   "source": [
    "<div dir=\"rtl\">\n",
    "## مثال: عربة التسوق\n",
    "\n",
    "تخيّل أنك تتسوّق ولديك عربة مليئة بالأرقام المختلفة.\n",
    "</div>"
   ]
  },
  {
   "cell_type": "code",
   "execution_count": 2,
   "metadata": {},
   "outputs": [],
   "source": [
    "# عربة التسوق مليئة بالأرقام\n",
    "cart = [5, 7, 9, 10, 12, 15, 19, 20, 22]"
   ]
  },
  {
   "cell_type": "markdown",
   "metadata": {},
   "source": [
    "<div dir=\"rtl\">\n",
    "## تريد تسليم العناصر للكاشير\n",
    "\n",
    "يمكنك تمرير العناصر واحدًا تلو الآخر إلى الكاشير باستخدام حلقة `for`.\n",
    "</div>"
   ]
  },
  {
   "cell_type": "code",
   "execution_count": 3,
   "metadata": {},
   "outputs": [
    {
     "name": "stdout",
     "output_type": "stream",
     "text": [
      "[5, 7, 9, 10, 12, 15, 19, 20, 22]\n"
     ]
    }
   ],
   "source": [
    "# قائمة الكاشير تبدأ فارغة\n",
    "cashier = []\n",
    "for item in cart:\n",
    "    cashier.append(item)\n",
    "\n",
    "print(cashier)  # عرض العناصر التي تسلمها الكاشير"
   ]
  },
  {
   "cell_type": "markdown",
   "metadata": {},
   "source": [
    "<div dir=\"rtl\">\n",
    "## استخدام قائمة الفهم لتبسيط الكود\n",
    "\n",
    "يمكننا كتابة الكود السابق في سطر واحد فقط باستخدام قوائم الفهم.\n",
    "</div>"
   ]
  },
  {
   "cell_type": "code",
   "execution_count": 4,
   "metadata": {},
   "outputs": [
    {
     "name": "stdout",
     "output_type": "stream",
     "text": [
      "[5, 7, 9, 10, 12, 15, 19, 20, 22]\n"
     ]
    }
   ],
   "source": [
    "cashier_2 = [item for item in cart]\n",
    "print(cashier_2)"
   ]
  },
  {
   "cell_type": "markdown",
   "metadata": {},
   "source": [
    "<div dir=\"rtl\">\n",
    "## ماذا لو أردت فقط الأرقام الزوجية؟\n",
    "\n",
    "أولاً، نُنفذ باستخدام الطريقة التقليدية.\n",
    "</div>"
   ]
  },
  {
   "cell_type": "code",
   "execution_count": 5,
   "metadata": {},
   "outputs": [
    {
     "name": "stdout",
     "output_type": "stream",
     "text": [
      "[10, 12, 20, 22]\n"
     ]
    }
   ],
   "source": [
    "cashier_3 = []\n",
    "for item in cart:\n",
    "    if item % 2 == 0:\n",
    "        cashier_3.append(item)\n",
    "\n",
    "print(cashier_3)"
   ]
  },
  {
   "cell_type": "markdown",
   "metadata": {},
   "source": [
    "<div dir=\"rtl\">\n",
    "## كتابة نفس الكود باستخدام قائمة الفهم\n",
    "</div>"
   ]
  },
  {
   "cell_type": "code",
   "execution_count": 6,
   "metadata": {},
   "outputs": [
    {
     "name": "stdout",
     "output_type": "stream",
     "text": [
      "[10, 12, 20, 22]\n"
     ]
    }
   ],
   "source": [
    "cashier_3 = [item for item in cart if item % 2 == 0]\n",
    "print(cashier_3)"
   ]
  },
  {
   "cell_type": "markdown",
   "metadata": {},
   "source": [
    "<div dir=\"rtl\">\n",
    "## تعديل الأرقام قبل إضافتها\n",
    "\n",
    "لنقل أنك تريد إضافة 100 إلى كل رقم، ثم اختيار الأرقام الفردية فقط.\n",
    "</div>"
   ]
  },
  {
   "cell_type": "code",
   "execution_count": 6,
   "metadata": {},
   "outputs": [
    {
     "name": "stdout",
     "output_type": "stream",
     "text": [
      "[105, 107, 109, 115, 119]\n"
     ]
    }
   ],
   "source": [
    "# Only give cashier 4 odd numbers over 100\n",
    "cashier_4 = []\n",
    "for item in cart:\n",
    "    item += 100 # add 100 to each item to bring them over 100\n",
    "    if item % 2 == 1: # check to see if they're odd or not\n",
    "        cashier_4.append(item)\n",
    "print(cashier_4)"
   ]
  },
  {
   "cell_type": "code",
   "execution_count": 7,
   "metadata": {},
   "outputs": [
    {
     "name": "stdout",
     "output_type": "stream",
     "text": [
      "[105, 107, 109, 115, 119]\n"
     ]
    }
   ],
   "source": [
    "cashier_4 = [item + 100 for item in cart if (item + 100) % 2 == 1]\n",
    "print(cashier_4)"
   ]
  },
  {
   "cell_type": "markdown",
   "metadata": {},
   "source": [
    "<div dir=\"rtl\">\n",
    "## مقارنة قائمتين\n",
    "\n",
    "تخيّل أن لديك عربتين للتسوق وتريد العثور على العناصر المشتركة بينهما.\n",
    "</div>"
   ]
  },
  {
   "cell_type": "code",
   "execution_count": 7,
   "metadata": {},
   "outputs": [
    {
     "name": "stdout",
     "output_type": "stream",
     "text": [
      "[8, 58, 88]\n",
      "<zip object at 0x108cfb100>\n"
     ]
    }
   ],
   "source": [
    "cart_1 = [1, 8, 29, 34, 58, 74, 88, 99]\n",
    "cart_2 = [3, 8, 31, 36, 58, 77, 88, 93]\n",
    "\n",
    "cashier_5 = [item for item in cart_1 if item in cart_2]\n",
    "print(cashier_5)\n",
    "\n",
    "\n",
    "print(zip(cart_1, cart_2))"
   ]
  },
  {
   "cell_type": "code",
   "execution_count": 7,
   "metadata": {},
   "outputs": [
    {
     "name": "stdout",
     "output_type": "stream",
     "text": [
      "[(1, 3), (8, 8), (29, 31), (34, 36), (58, 58), (74, 77), (88, 88), (99, 93)]\n"
     ]
    }
   ],
   "source": [
    "print(list(zip(cart_1, cart_2)))"
   ]
  },
  {
   "cell_type": "markdown",
   "metadata": {},
   "source": [
    "<div dir=\"rtl\">\n",
    "## جمع العناصر من قائمتين\n",
    "\n",
    "يمكنك جمع العناصر المتقابلة في قائمتين باستخدام `zip`.\n",
    "</div>"
   ]
  },
  {
   "cell_type": "code",
   "execution_count": 8,
   "metadata": {},
   "outputs": [
    {
     "name": "stdout",
     "output_type": "stream",
     "text": [
      "[4, 16, 60, 70, 116, 151, 176, 192]\n",
      "[4, 16, 60, 70, 116, 151, 176, 192]\n"
     ]
    }
   ],
   "source": [
    "# Without list comprehension\n",
    "cashier_6 = []\n",
    "for item_1, item_2 in zip(cart_1, cart_2):\n",
    "    cashier_6.append(item_1 + item_2)\n",
    "print(cashier_6)\n",
    "\n",
    "\n",
    "cashier_6 = [item1 + item2 for item1, item2 in zip(cart_1, cart_2)]\n",
    "print(cashier_6)"
   ]
  },
  {
   "cell_type": "markdown",
   "metadata": {},
   "source": [
    "<div dir=\"rtl\">\n",
    "## الخاتمة\n",
    "\n",
    "قوائم الفهم هي أداة قوية لجعل الكود أكثر اختصارًا ووضوحًا.\n",
    "</div>"
   ]
  }
 ],
 "metadata": {
  "kernelspec": {
   "display_name": "Python 3",
   "language": "python",
   "name": "python3"
  },
  "language_info": {
   "codemirror_mode": {
    "name": "ipython",
    "version": 3
   },
   "file_extension": ".py",
   "mimetype": "text/x-python",
   "name": "python",
   "nbconvert_exporter": "python",
   "pygments_lexer": "ipython3",
   "version": "3.13.0"
  }
 },
 "nbformat": 4,
 "nbformat_minor": 2
}
