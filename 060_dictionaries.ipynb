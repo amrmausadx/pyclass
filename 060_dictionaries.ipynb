{
    "cells": [
     {
      "cell_type": "markdown",
      "metadata": {},
      "source": [
       "<div dir=\"rtl\">\n",
       "# القواميس (Dictionaries)\n",
       "\n",
       "القواميس هي نوع من البيانات في بايثون تُستخدم لتخزين البيانات في شكل أزواج المفتاح والقيمة. يُمكن الوصول إلى القيم باستخدام مفاتيحها.\n",
       "</div>"
      ]
     },
     {
      "cell_type": "code",
      "execution_count": null,
      "metadata": {},
      "outputs": [],
      "source": [
       "# إنشاء قاموس بسيط\n",
       "student = {\n",
       "    \"name\": \"مها\",\n",
       "    \"age\": 25,\n",
       "    \"grade\": \"ممتاز\"\n",
       "}\n",
       "\n",
       "print(student)"
      ]
     },
     {
      "cell_type": "markdown",
      "metadata": {},
      "source": [
       "<div dir=\"rtl\">\n",
       "## الوصول إلى القيم في القواميس\n",
       "\n",
       "يمكن الوصول إلى القيم باستخدام المفاتيح.\n",
       "</div>"
      ]
     },
     {
      "cell_type": "code",
      "execution_count": null,
      "metadata": {},
      "outputs": [],
      "source": [
       "# الوصول إلى القيم باستخدام المفاتيح\n",
       "print(student[\"name\"])\n",
       "print(student[\"grade\"])"
      ]
     },
     {
      "cell_type": "markdown",
      "metadata": {},
      "source": [
       "<div dir=\"rtl\">\n",
       "## تعديل القيم في القاموس\n",
       "\n",
       "يمكن تعديل القيم في القاموس من خلال تحديد المفتاح.\n",
       "</div>"
      ]
     },
     {
      "cell_type": "code",
      "execution_count": null,
      "metadata": {},
      "outputs": [],
      "source": [
       "# تعديل القيم في القاموس\n",
       "student[\"age\"] = 26\n",
       "student[\"grade\"] = \"جيد جدًا\"\n",
       "print(student)"
      ]
     },
     {
      "cell_type": "markdown",
      "metadata": {},
      "source": [
       "<div dir=\"rtl\">\n",
       "## إضافة أزواج جديدة من المفتاح والقيمة\n",
       "\n",
       "يمكن إضافة مفتاح جديد وقيمة إلى القاموس بسهولة.\n",
       "</div>"
      ]
     },
     {
      "cell_type": "code",
      "execution_count": null,
      "metadata": {},
      "outputs": [],
      "source": [
       "# إضافة أزواج جديدة إلى القاموس\n",
       "student[\"major\"] = \"علوم الحاسوب\"\n",
       "print(student)"
      ]
     },
     {
      "cell_type": "markdown",
      "metadata": {},
      "source": [
       "<div dir=\"rtl\">\n",
       "## حذف عناصر من القاموس\n",
       "\n",
       "يمكن حذف عناصر من القاموس باستخدام `del` أو `pop()`.\n",
       "</div>"
      ]
     },
     {
      "cell_type": "code",
      "execution_count": null,
      "metadata": {},
      "outputs": [],
      "source": [
       "# حذف عنصر باستخدام del\n",
       "del student[\"grade\"]\n",
       "print(student)"
      ]
     },
     {
      "cell_type": "code",
      "execution_count": null,
      "metadata": {},
      "outputs": [],
      "source": [
       "# حذف عنصر باستخدام pop()\n",
       "major = student.pop(\"major\")\n",
       "print(student)\n",
       "print(\"المجال المحذوف: \" + major)"
      ]
     },
     {
      "cell_type": "markdown",
      "metadata": {},
      "source": [
       "<div dir=\"rtl\">\n",
       "## التكرار عبر القاموس\n",
       "\n",
       "يمكن التكرار عبر المفاتيح، القيم، أو الأزواج باستخدام الحلقات.\n",
       "</div>"
      ]
     },
     {
      "cell_type": "code",
      "execution_count": null,
      "metadata": {},
      "outputs": [],
      "source": [
       "# التكرار عبر المفاتيح\n",
       "for key in student.keys():\n",
       "    print(key)"
      ]
     },
     {
      "cell_type": "code",
      "execution_count": null,
      "metadata": {},
      "outputs": [],
      "source": [
       "# التكرار عبر القيم\n",
       "for value in student.values():\n",
       "    print(value)"
      ]
     },
     {
      "cell_type": "code",
      "execution_count": null,
      "metadata": {},
      "outputs": [],
      "source": [
       "# التكرار عبر الأزواج (المفتاح والقيمة)\n",
       "for key, value in student.items():\n",
       "    print(f\"{key}: {value}\")"
      ]
     },
     {
      "cell_type": "markdown",
      "metadata": {},
      "source": [
       "<div dir=\"rtl\">\n",
       "## التحقق من وجود مفتاح في القاموس\n",
       "\n",
       "يمكننا استخدام `in` للتحقق من وجود مفتاح معين.\n",
       "</div>"
      ]
     },
     {
      "cell_type": "code",
      "execution_count": null,
      "metadata": {},
      "outputs": [],
      "source": [
       "# التحقق من وجود مفتاح\n",
       "if \"name\" in student:\n",
       "    print(\"المفتاح موجود\")\n",
       "else:\n",
       "    print(\"المفتاح غير موجود\")"
      ]
     },
     {
      "cell_type": "markdown",
      "metadata": {},
      "source": [
       "<div dir=\"rtl\">\n",
       "## إنشاء نسخ من القواميس\n",
       "\n",
       "يمكن نسخ القواميس باستخدام `copy()`.\n",
       "</div>"
      ]
     },
     {
      "cell_type": "code",
      "execution_count": null,
      "metadata": {},
      "outputs": [],
      "source": [
       "# نسخ قاموس باستخدام copy()\n",
       "new_student = student.copy()\n",
       "print(new_student)"
      ]
     },
     {
      "cell_type": "markdown",
      "metadata": {},
      "source": [
       "<div dir=\"rtl\">\n",
       "## حذف جميع العناصر\n",
       "\n",
       "يمكن استخدام `clear()` لحذف جميع العناصر في القاموس.\n",
       "</div>"
      ]
     },
     {
      "cell_type": "code",
      "execution_count": null,
      "metadata": {},
      "outputs": [],
      "source": [
       "# حذف جميع العناصر من القاموس\n",
       "student.clear()\n",
       "print(student)"
      ]
     }
    ],
    {
      "cell_type": "markdown",
      "metadata": {},
      "source": [
       "<div dir=\"rtl\">\n",
       "## مثال شامل\n",
       "\n",
       "هذا المثال يدمج كل المفاهيم التي تعلمناها حول القواميس.\n",
       "</div>"
      ]
     },
     {
      "cell_type": "code",
      "execution_count": null,
      "metadata": {},
      "outputs": [],
      "source": [
       "# قاموس كبير يحتوي على معلومات متعددة الطلاب\n",
       "students = {\n",
       "    1: {\"name\": \"مها\", \"age\": 25, \"major\": \"علوم الحاسوب\", \"grade\": \"جيد جدًا\"},\n",
       "    2: {\"name\": \"ليلى\", \"age\": 22, \"major\": \"الرياضيات\", \"grade\": \"ممتاز\"},\n",
       "    3: {\"name\": \"سعاد\", \"age\": 24, \"major\": \"الفيزياء\", \"grade\": \"جيد\"}\n",
       "}\n",
       "\n",
       "# عرض جميع بيانات الطلاب\n",
       "for student_id, student_info in students.items():\n",
       "    print(f\"رقم الطالب: {student_id}\")\n",
       "    for key, value in student_info.items():\n",
       "        print(f\"  {key}: {value}\")\n",
       "    print(\"-\" * 20)\n",
       "\n",
       "# إضافة طالب جديد\n",
       "students[4] = {\"name\": \"يوسف\", \"age\": 23, \"major\": \"الهندسة\", \"grade\": \"ممتاز\"}\n",
       "print(students[4])\n",
       "\n",
       "# تعديل درجة طالب\n",
       "students[3][\"grade\"] = \"جيد جدًا\"\n",
       "print(students[3])\n",
       "\n",
       "# حذف طالب\n",
       "del students[1]\n",
       "print(\"بعد الحذف:\")\n",
       "for student_id in students.keys():\n",
       "    print(f\"رقم الطالب المتبقي: {student_id}\")"
      ]
     },
     {
      "cell_type": "markdown",
      "metadata": {},
      "source": [
       "<div dir=\"rtl\">\n",
       "## الخاتمة\n",
       "\n",
       "القواميس هي أداة قوية في بايثون لتخزين البيانات المنظمة في شكل أزواج المفتاح والقيمة. هذا المثال الشامل يغطي معظم الاستخدامات اليومية للقواميس.\n",
       "</div>"
      ]
     }
    ],
    "metadata": {
     "kernelspec": {
      "display_name": "Python 3",
      "language": "python",
      "name": "python3"
     },
     "language_info": {
      "codemirror_mode": {
       "name": "ipython",
       "version": 3
      },
       "file_extension": ".py",
       "mimetype": "text/x-python",
       "name": "python",
       "nbconvert_exporter": "python",
       "pygments_lexer": "ipython3",
       "version": "3.6.3"
     }
    },
    "nbformat": 4,
    "nbformat_minor": 2
   }],

    "metadata": {
     "kernelspec": {
      "display_name": "Python 3",
      "language": "python",
      "name": "python3"
     },
     "language_info": {
      "codemirror_mode": {
       "name": "ipython",
       "version": 3
      },
      "file_extension": ".py",
       "mimetype": "text/x-python",
       "name": "python",
       "nbconvert_exporter": "python",
       "pygments_lexer": "ipython3",
       "version": "3.6.3"
     }
    },
    "nbformat": 4,
    "nbformat_minor": 2
   }
   