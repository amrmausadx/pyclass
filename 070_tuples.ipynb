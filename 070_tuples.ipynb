{
 "cells": [
  {
   "cell_type": "markdown",
   "metadata": {},
   "source": [
    "<div dir=\"rtl\">\n",
    "# المترتبات (Tuples)\n",
    "\n",
    "المترتبات هي نوع بيانات في بايثون تُستخدم لتخزين مجموعة من العناصر التي لا يمكن تعديلها (غير قابلة للتغيير). يمكن الوصول إلى العناصر باستخدام الفهارس.\n",
    "</div>"
   ]
  },
  {
   "cell_type": "markdown",
   "metadata": {},
   "source": [
    "Educational Code<br/>\n",
    "Dr. Amr Mausad @ 2024<br/>\n",
    "http://amrmausad.com<br/>\n",
    "http://youtube.com/@amrmausadx<br/>\n",
    "للحصول على الكود<br/>\n",
    "https://www.youtube.com/watch?v=s4MgSBx-rZw<br/>\n",
    "https://github.com/amrmausadx/pyclass"
   ]
  },
  {
   "cell_type": "markdown",
   "metadata": {},
   "source": [
    "<div dir=\"rtl\">\n",
    "## إنشاء المترتبات\n",
    "\n",
    "يمكن إنشاء المترتبات باستخدام الأقواس `( )`.\n",
    "</div>"
   ]
  },
  {
   "cell_type": "code",
   "execution_count": 1,
   "metadata": {},
   "outputs": [
    {
     "name": "stdout",
     "output_type": "stream",
     "text": [
      "(1, 2, 3, 4, 5)\n",
      "('مها', 'ليلى', 'سعاد')\n"
     ]
    }
   ],
   "source": [
    "# إنشاء مترتبة بسيط\n",
    "numbers = (1, 2, 3, 4, 5)\n",
    "names = (\"مها\", \"ليلى\", \"سعاد\")\n",
    "\n",
    "print(numbers)\n",
    "print(names)"
   ]
  },
  {
   "cell_type": "markdown",
   "metadata": {},
   "source": [
    "<div dir=\"rtl\">\n",
    "## الوصول إلى عناصر المترتبة\n",
    "\n",
    "يمكن الوصول إلى العناصر باستخدام الفهارس، التي تبدأ من 0.\n",
    "</div>"
   ]
  },
  {
   "cell_type": "code",
   "execution_count": 4,
   "metadata": {},
   "outputs": [
    {
     "name": "stdout",
     "output_type": "stream",
     "text": [
      "مها\n",
      "5\n"
     ]
    }
   ],
   "source": [
    "# الوصول إلى العناصر\n",
    "print(names[0])  # العنصر الأول\n",
    "print(numbers[-1])  # العنصر الأخير باستخدام الفهرس السالب\n",
    "#numbers[0]=90"
   ]
  },
  {
   "cell_type": "markdown",
   "metadata": {},
   "source": [
    "<div dir=\"rtl\">\n",
    "## العمليات على المترتبات\n",
    "\n",
    "يمكن إجراء العديد من العمليات على المترتبات، مثل الطول، المترتبة، أو الفهرسة.\n",
    "</div>"
   ]
  },
  {
   "cell_type": "code",
   "execution_count": 6,
   "metadata": {},
   "outputs": [
    {
     "name": "stdout",
     "output_type": "stream",
     "text": [
      "5\n",
      "('مها', 'ليلى', 'سعاد', 'مها', 'ليلى', 'سعاد')\n",
      "(1, 2, 3, 4, 5, 1, 2, 3, 4, 5)\n",
      "True\n"
     ]
    }
   ],
   "source": [
    "# العمليات الشائعة\n",
    "print(len(numbers))  # عدد العناصر\n",
    "print(names * 2)  # المترتبة\n",
    "print(numbers * 2)\n",
    "print(\"سعاد\" in names)  # التحقق من وجود عنصر"
   ]
  },
  {
   "cell_type": "markdown",
   "metadata": {},
   "source": [
    "<div dir=\"rtl\">\n",
    "## التقطيع (Slicing)\n",
    "\n",
    "يمكننا استخدام التقطيع للوصول إلى أجزاء من المترتبة.\n",
    "</div>"
   ]
  },
  {
   "cell_type": "code",
   "execution_count": null,
   "metadata": {},
   "outputs": [
    {
     "name": "stdout",
     "output_type": "stream",
     "text": [
      "(2, 3, 4)\n",
      "('مها', 'ليلى')\n",
      "(1, 3, 5)\n"
     ]
    }
   ],
   "source": [
    "# التقطيع\n",
    "print(numbers[1:3 +1])  # العناصر من الفهرس 1 إلى 3\n",
    "print(names[:2])  # العناصر حتى الفهرس 1\n",
    "print(numbers[::2])  # كل عنصر ثاني"
   ]
  },
  {
   "cell_type": "markdown",
   "metadata": {},
   "source": [
    "<div dir=\"rtl\">\n",
    "## المترتبات المتداخلة\n",
    "\n",
    "يمكن أن تحتوي المترتبات على مترتبةات أخرى كعناصر.\n",
    "</div>"
   ]
  },
  {
   "cell_type": "code",
   "execution_count": 6,
   "metadata": {},
   "outputs": [
    {
     "name": "stdout",
     "output_type": "stream",
     "text": [
      "((1, 2, 3, 4, 5), ('مها', 'ليلى', 'سعاد'))\n",
      "مها\n"
     ]
    }
   ],
   "source": [
    "# المترتبات المتداخلة\n",
    "nested_tuple = (numbers, names)\n",
    "print(nested_tuple)\n",
    "print(nested_tuple[1][0])  # الوصول إلى عنصر داخل المترتبة المتداخل"
   ]
  },
  {
   "cell_type": "markdown",
   "metadata": {},
   "source": [
    "<div dir=\"rtl\">\n",
    "## تحويل المترتبات\n",
    "\n",
    "يمكن تحويل المترتبات إلى قوائم والعكس باستخدام `list()` و`tuple()`.\n",
    "</div>"
   ]
  },
  {
   "cell_type": "code",
   "execution_count": 7,
   "metadata": {},
   "outputs": [
    {
     "name": "stdout",
     "output_type": "stream",
     "text": [
      "['مها', 'ليلى', 'سعاد', 'يوسف']\n",
      "('مها', 'ليلى', 'سعاد', 'يوسف')\n"
     ]
    }
   ],
   "source": [
    "# تحويل المترتبة إلى قائمة\n",
    "names_list = list(names)\n",
    "names_list.append(\"يوسف\")\n",
    "print(names_list)\n",
    "\n",
    "# تحويل القائمة إلى مترتبة\n",
    "new_tuple = tuple(names_list)\n",
    "print(new_tuple)"
   ]
  },
  {
   "cell_type": "markdown",
   "metadata": {},
   "source": [
    "<div dir=\"rtl\">\n",
    "## مثال شامل\n",
    "\n",
    "هذا المثال يدمج جميع المفاهيم السابقة لتوضيح كيفية التعامل مع المترتبات.\n",
    "</div>"
   ]
  },
  {
   "cell_type": "code",
   "execution_count": null,
   "metadata": {},
   "outputs": [
    {
     "name": "stdout",
     "output_type": "stream",
     "text": [
      "رقم الطالب: 1\n",
      "الاسم: مها\n",
      "العمر: 25\n",
      "التخصص: علوم الحاسوب\n",
      "--------------------\n",
      "رقم الطالب: 2\n",
      "الاسم: ليلى\n",
      "العمر: 22\n",
      "التخصص: الرياضيات\n",
      "--------------------\n",
      "رقم الطالب: 3\n",
      "الاسم: سعاد\n",
      "العمر: 24\n",
      "التخصص: الفيزياء\n",
      "--------------------\n",
      "((1, 'مها', 25, 'علوم الحاسوب'), (2, 'ليلى', 22, 'الرياضيات'), (3, 'سعاد', 24, 'الفيزياء'), (4, 'يوسف', 23, 'الهندسة'))\n",
      "رقم الطالب: 1\n",
      "الاسم: مها\n",
      "العمر: 25\n",
      "التخصص: علوم الحاسوب\n",
      "--------------------\n",
      "رقم الطالب: 2\n",
      "الاسم: ليلى\n",
      "العمر: 22\n",
      "التخصص: الرياضيات\n",
      "--------------------\n",
      "رقم الطالب: 3\n",
      "الاسم: سعاد\n",
      "العمر: 24\n",
      "التخصص: الفيزياء\n",
      "--------------------\n"
     ]
    }
   ],
   "source": []
  },
  {
   "cell_type": "code",
   "execution_count": 8,
   "metadata": {},
   "outputs": [
    {
     "name": "stdout",
     "output_type": "stream",
     "text": [
      "رقم الطالب: 1\n",
      "الاسم: مها\n",
      "العمر: 25\n",
      "التخصص: علوم الحاسوب\n",
      "--------------------\n",
      "رقم الطالب: 2\n",
      "الاسم: ليلى\n",
      "العمر: 22\n",
      "التخصص: الرياضيات\n",
      "--------------------\n",
      "رقم الطالب: 3\n",
      "الاسم: سعاد\n",
      "العمر: 24\n",
      "التخصص: الفيزياء\n",
      "--------------------\n",
      "((1, 'مها', 25, 'علوم الحاسوب'), (2, 'ليلى', 22, 'الرياضيات'), (3, 'سعاد', 24, 'الفيزياء'), (4, 'يوسف', 23, 'الهندسة'))\n",
      "رقم الطالب: 1\n",
      "الاسم: مها\n",
      "العمر: 25\n",
      "التخصص: علوم الحاسوب\n",
      "--------------------\n",
      "رقم الطالب: 2\n",
      "الاسم: ليلى\n",
      "العمر: 22\n",
      "التخصص: الرياضيات\n",
      "--------------------\n",
      "رقم الطالب: 3\n",
      "الاسم: سعاد\n",
      "العمر: 24\n",
      "التخصص: الفيزياء\n",
      "--------------------\n",
      "رقم الطالب: 4\n",
      "الاسم: يوسف\n",
      "العمر: 23\n",
      "التخصص: الهندسة\n",
      "--------------------\n"
     ]
    }
   ],
   "source": [
    "# مثال شامل\n",
    "students = (\n",
    "    (1, \"مها\", 25, \"علوم الحاسوب\"),\n",
    "    (2, \"ليلى\", 22, \"الرياضيات\"),\n",
    "    (3, \"سعاد\", 24, \"الفيزياء\")\n",
    ")\n",
    "\n",
    "# عرض بيانات الطلاب\n",
    "for student in students:\n",
    "    print(f\"رقم الطالب: {student[0]}\")\n",
    "    print(f\"الاسم: {student[1]}\")\n",
    "    print(f\"العمر: {student[2]}\")\n",
    "    print(f\"التخصص: {student[3]}\")\n",
    "    print(\"-\" * 20)\n",
    "\n",
    "# تحويل البيانات إلى قائمة لإجراء التعديلات\n",
    "students_list = list(students)\n",
    "students_list.append((4, \"يوسف\", 23, \"الهندسة\"))\n",
    "students=tuple(students_list)\n",
    "print(students)\n",
    "\n",
    "# عرض بيانات الطلاب\n",
    "for student in students:\n",
    "    print(f\"رقم الطالب: {student[0]}\")\n",
    "    print(f\"الاسم: {student[1]}\")\n",
    "    print(f\"العمر: {student[2]}\")\n",
    "    print(f\"التخصص: {student[3]}\")\n",
    "    print(\"-\" * 20)"
   ]
  },
  {
   "cell_type": "markdown",
   "metadata": {},
   "source": [
    "<div dir=\"rtl\">\n",
    "## الخاتمة\n",
    "\n",
    "المترتبات تُعد أداة فعالة لتخزين البيانات التي لا تحتاج إلى تعديل. ورغم أنها غير قابلة للتغيير، إلا أنه يمكن تحويلها إلى قوائم لتعديل البيانات إذا لزم الأمر.\n",
    "</div>"
   ]
  }
 ],
 "metadata": {
  "kernelspec": {
   "display_name": "Python 3",
   "language": "python",
   "name": "python3"
  },
  "language_info": {
   "codemirror_mode": {
    "name": "ipython",
    "version": 3
   },
   "file_extension": ".py",
   "mimetype": "text/x-python",
   "name": "python",
   "nbconvert_exporter": "python",
   "pygments_lexer": "ipython3",
   "version": "3.13.0"
  }
 },
 "nbformat": 4,
 "nbformat_minor": 2
}
