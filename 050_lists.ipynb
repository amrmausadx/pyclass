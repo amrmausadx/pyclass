{
 "cells": [
  {
   "cell_type": "markdown",
   "metadata": {},
   "source": [
    "<div dir=\"rtl\">\n",
    "# القوائم (Lists)\n",
    "\n",
    "في هذا الملف، نستعرض بعض المفاهيم الأساسية عن القوائم في Python، مثل إنشاء القوائم، الوصول إلى العناصر، تعديلها، وحذفها.\n",
    "</div>"
   ]
  },
  {
   "cell_type": "markdown",
   "metadata": {},
   "source": [
    "Educational Code<br/>\n",
    "Dr. Amr Mausad @ 2024<br/>\n",
    "http://amrmausad.com<br/>\n",
    "http://youtube.com/@amrmausadx<br/>\n",
    "للحصول على الكود<br/>\n",
    "https://www.youtube.com/watch?v=s4MgSBx-rZw<br/>\n",
    "https://github.com/amrmausadx/pyclass"
   ]
  },
  {
   "cell_type": "code",
   "execution_count": null,
   "metadata": {},
   "outputs": [],
   "source": [
    "# قوائم بسيطة\n",
    "names = [\"مها\", \"ليلى\", \"سعاد\"]\n",
    "nums  = [1, 2, 3, 4, 5]\n",
    "chars = ['أ', 'ب', 'ت', 'ث', 'ج']\n",
    "\n",
    "print (names)\n",
    "print (nums)\n",
    "print (chars)"
   ]
  },
  {
   "cell_type": "code",
   "execution_count": null,
   "metadata": {},
   "outputs": [],
   "source": [
    "# يمكن أن تحتوي القائمة على أنواع بيانات متعددة\n",
    "rand_list = [\"مها\", \"برمجة\", \"سعاد\", 'ل', '9', 9, 12.90, \"من\"]\n",
    "print (rand_list)"
   ]
  },
  {
   "cell_type": "markdown",
   "metadata": {},
   "source": [
    "<div dir=\"rtl\">\n",
    "## الوصول إلى عناصر القائمة\n",
    "\n",
    "يمكننا الوصول إلى العناصر باستخدام الفهارس (تبدأ من 0).\n",
    "</div>"
   ]
  },
  {
   "cell_type": "code",
   "execution_count": null,
   "metadata": {},
   "outputs": [],
   "source": [
    "# الوصول إلى العناصر في القائمة\n",
    "print (names[2])\n",
    "print (rand_list[3])\n",
    "print (names[0] + \" \" + rand_list[2].title())"
   ]
  },
  {
   "cell_type": "markdown",
   "metadata": {},
   "source": [
    "<div dir=\"rtl\">\n",
    "## الفهارس السالبة\n",
    "\n",
    "تسمح الفهارس السالبة بالوصول إلى العناصر من نهاية القائمة.\n",
    "</div>"
   ]
  },
  {
   "cell_type": "code",
   "execution_count": null,
   "metadata": {},
   "outputs": [],
   "source": [
    "# الفهارس السالبة: الوصول إلى العناصر من نهاية القائمة\n",
    "print (rand_list[-1]) # إرجاع العنصر الأخير في القائمة\n",
    "print (rand_list[-2]) # إرجاع العنصر الثاني من النهاية"
   ]
  },
  {
   "cell_type": "markdown",
   "metadata": {},
   "source": [
    "<div dir=\"rtl\">\n",
    "## تعديل العناصر في القائمة\n",
    "\n",
    "يمكن تعديل العناصر عن طريق تحديد الفهرس.\n",
    "</div>"
   ]
  },
  {
   "cell_type": "code",
   "execution_count": null,
   "metadata": {},
   "outputs": [],
   "source": [
    "# تعديل العناصر في القائمة\n",
    "str_list = [\"ليلى\", \"تحب\", \"البرمجة\", \"كثيرًا\", '!']\n",
    "\n",
    "print (str_list)\n",
    "str_list[0] = \"مها\"\n",
    "print (str_list)"
   ]
  },
  {
   "cell_type": "markdown",
   "metadata": {},
   "source": [
    "<div dir=\"rtl\">\n",
    "## إضافة عناصر إلى القائمة\n",
    "\n",
    "يمكننا استخدام `append()` لإضافة عنصر في نهاية القائمة.\n",
    "</div>"
   ]
  },
  {
   "cell_type": "code",
   "execution_count": null,
   "metadata": {},
   "outputs": [],
   "source": [
    "# إضافة عناصر إلى القائمة\n",
    "str_list.append ('إنها تحب البرمجة.')\n",
    "print (str_list)"
   ]
  },
  {
   "cell_type": "markdown",
   "metadata": {},
   "source": [
    "<div dir=\"rtl\">\n",
    "## إنشاء قوائم باستخدام `append()`\n",
    "\n",
    "يمكننا بناء القوائم عنصرًا تلو الآخر.\n",
    "</div>"
   ]
  },
  {
   "cell_type": "code",
   "execution_count": null,
   "metadata": {},
   "outputs": [],
   "source": [
    "# بناء القوائم باستخدام append()\n",
    "my_list = []\n",
    "my_list.append (\"اسمي\")\n",
    "my_list.append (\"عمري\")\n",
    "my_list.append (\"عنواني\")\n",
    "my_list.append (\"رقم هاتفي\")\n",
    "my_list.append (\"هو\")\n",
    "my_list.append (1234567890)\n",
    "print (my_list)"
   ]
  },
  {
   "cell_type": "markdown",
   "metadata": {},
   "source": [
    "<div dir=\"rtl\">\n",
    "## إدراج عناصر في مواضع محددة\n",
    "\n",
    "يمكننا استخدام `insert()` لإدراج العناصر في مواضع محددة.\n",
    "</div>"
   ]
  },
  {
   "cell_type": "code",
   "execution_count": null,
   "metadata": {},
   "outputs": [],
   "source": [
    "# إدراج عناصر في مواضع محددة من القائمة\n",
    "my_list.insert (0, \"السيد/السيدة\")\n",
    "print (my_list)\n",
    "\n",
    "my_list.insert(4, \"عيد ميلادي\")\n",
    "print (my_list)"
   ]
  },
  {
   "cell_type": "markdown",
   "metadata": {},
   "source": [
    "<div dir=\"rtl\">\n",
    "## حذف عناصر من القائمة\n",
    "\n",
    "يمكننا استخدام `del` أو `pop()` لحذف العناصر.\n",
    "</div>"
   ]
  },
  {
   "cell_type": "code",
   "execution_count": null,
   "metadata": {},
   "outputs": [],
   "source": [
    "# حذف العناصر باستخدام del\n",
    "l1 = ['أ', 'ب', 'ت', 'ث', 'ج']\n",
    "print (l1)\n",
    "\n",
    "del l1[0]\n",
    "print (l1)\n",
    "\n",
    "del l1[-1]\n",
    "print (l1)"
   ]
  },
  {
   "cell_type": "code",
   "execution_count": null,
   "metadata": {},
   "outputs": [],
   "source": [
    "# حذف العنصر الأخير باستخدام pop()\n",
    "l1 = ['أ', 'ب', 'ت', 'ث', 'ج']\n",
    "c = l1.pop() # حذف العنصر الأخير وتخزينه\n",
    "\n",
    "print (l1)\n",
    "print (c)"
   ]
  },
  {
   "cell_type": "code",
   "execution_count": null,
   "metadata": {},
   "outputs": [],
   "source": [
    "# حذف عنصر معين باستخدام pop(n)\n",
    "l1 = ['أ', 'ب', 'ت', 'ث', 'ج']\n",
    "c = l1.pop(0) # حذف العنصر في الموضع 0 وتخزينه\n",
    "print (l1)\n",
    "print (c)\n",
    "\n",
    "c = l1.pop(-1) # حذف العنصر الأخير وتخزينه باستخدام فهرس سلبي\n",
    "print (l1)\n",
    "print (c)"
   ]
  },
  {
   "cell_type": "code",
   "execution_count": null,
   "metadata": {},
   "outputs": [],
   "source": [
    "# حذف عنصر حسب القيمة باستخدام remove()\n",
    "q1 = [\"مها\", \"تحب\", \"ليلى\", \"وسعاد\", \"وسعاد\"]\n",
    "print (q1)\n",
    "\n",
    "q1.remove (\"سعاد\") # إزالة أول ظهور للقيمة المحددة\n",
    "print (q1)\n",
    "\n",
    "n1 = \"تحب\"\n",
    "q1.remove(n1)\n",
    "print (q1)"
   ]
  },
  {
   "cell_type": "markdown",
   "metadata": {},
   "source": [
    "<div dir=\"rtl\">\n",
    "## فرز القوائم\n",
    "\n",
    "يمكننا فرز القوائم أبجديًا أو عدديًا باستخدام `sort()` أو `sorted()`.\n",
    "</div>"
   ]
  },
  {
   "cell_type": "code",
   "execution_count": null,
   "metadata": {},
   "outputs": [],
   "source": [
    "# فرز قائمة أبجديًا باستخدام sort()\n",
    "l1 = ['ج', 'ث', 'ت', 'ب', 'أ']\n",
    "l1.sort()\n",
    "print (l1)"
   ]
  },
  {
   "cell_type": "code",
   "execution_count": null,
   "metadata": {},
   "outputs": [],
   "source": [
    "# فرز قائمة عدديًا تصاعديًا\n",
    "l2 = [2, 200, 16, 4, 1, 0, 9.45, 45.67, 90, 12.01, 12.02]\n",
    "l2.sort()\n",
    "print (l2)"
   ]
  },
  {
   "cell_type": "code",
   "execution_count": null,
   "metadata": {},
   "outputs": [],
   "source": [
    "# فرز قائمة بترتيب تنازلي\n",
    "l1 = ['ج', 'ث', 'ت', 'ب', 'أ']\n",
    "l1.sort(reverse=True)\n",
    "print (l1)\n",
    "\n",
    "l2 = [2, 200, 16, 4, 1, 0, 9.45, 45.67, 90, 12.01, 12.02]\n",
    "l2.sort(reverse=True)\n",
    "print (l2)"
   ]
  },
  {
   "cell_type": "markdown",
   "metadata": {},
   "source": [
    "<div dir=\"rtl\">\n",
    "## التكرار عبر القوائم\n",
    "\n",
    "يمكننا استخدام `for` أو `while` للتكرار عبر القوائم.\n",
    "</div>"
   ]
  },
  {
   "cell_type": "code",
   "execution_count": null,
   "metadata": {},
   "outputs": [],
   "source": [
    "# التكرار عبر القائمة باستخدام for\n",
    "l1 = [\"مها\", \"تحب\", \"البرمجة\", \"كثيرًا\"]\n",
    "for each_word in l1:\n",
    "    print (each_word)"
   ]
  },
  {
   "cell_type": "code",
   "execution_count": null,
   "metadata": {},
   "outputs": [],
   "source": [
    "# التكرار عبر القائمة باستخدام while\n",
    "l1 = [\"مها\", \"تعلمت\", \"الكثير\", \"عن\", \"القوائم\"]\n",
    "i = 0\n",
    "while i < len(l1):\n",
    "    print (l1[i])\n",
    "    i += 1"
   ]
  },
  {
   "cell_type": "markdown",
   "metadata": {},
   "source": [
    "<div dir=\"rtl\">\n",
    "## القوائم العددية\n",
    "\n",
    "يمكننا استخدام `range()` لإنشاء قوائم من الأرقام.\n",
    "</div>"
   ]
  },
  {
   "cell_type": "code",
   "execution_count": null,
   "metadata": {},
   "outputs": [],
   "source": [
    "# القوائم العددية\n",
    "# ملاحظة: range(n, m) سينتج الأرقام من n إلى m-1\n",
    "l1 = ['أ', 'ب', 'ت', 'ث', 'ج']\n",
    "print(\"خمن كم حصلت مها في اختبارها الأول من 5:\")\n",
    "for val in range(1, 6):\n",
    "    print(l1[val-1] + \") \" + str(val))"
   ]
  },
  {
   "cell_type": "code",
   "execution_count": null,
   "metadata": {},
   "outputs": [],
   "source": [
    "# استخدام range() لإنشاء قائمة من الأرقام\n",
    "num_list = list(range(1, 6))\n",
    "print(num_list)"
   ]
  },
  {
   "cell_type": "code",
   "execution_count": null,
   "metadata": {},
   "outputs": [],
   "source": [
    "# استخدام range() لتخطي القيم بفواصل\n",
    "# range(البدء، النهاية+1، الفاصل)\n",
    "l1 = list(range(10, 51, 5))\n",
    "print(l1)"
   ]
  },
  {
   "cell_type": "markdown",
   "metadata": {},
   "source": [
    "<div dir=\"rtl\">\n",
    "## العمليات مع القوائم العددية\n",
    "\n",
    "يمكننا استخدام `min()` و`max()` و`sum()` للحصول على القيم الأدنى والأعلى، أو لحساب المجموع.\n",
    "</div>"
   ]
  },
  {
   "cell_type": "code",
   "execution_count": null,
   "metadata": {},
   "outputs": [],
   "source": [
    "# العمليات مع القوائم العددية باستخدام min() و max() و sum()\n",
    "l1 = [2, 3, 4, 45, 1, 5, 6, 3, 1, 23, 14]\n",
    "print(\"المجموع: \" + str(sum(l1)))\n",
    "print(\"القيمة العظمى: \" + str(max(l1)))\n",
    "print(\"القيمة الصغرى: \" + str(min(l1)))"
   ]
  },
  {
   "cell_type": "markdown",
   "metadata": {},
   "source": [
    "<div dir=\"rtl\">\n",
    "## استيعاب القوائم (List Comprehensions)\n",
    "\n",
    "نستخدم استيعاب القوائم لإنشاء القوائم بطرق مختصرة.\n",
    "</div>"
   ]
  },
  {
   "cell_type": "code",
   "execution_count": null,
   "metadata": {},
   "outputs": [],
   "source": [
    "# استيعاب القوائم\n",
    "l1 = [i for i in range(20, 30)]\n",
    "l2 = [i+1 for i in range(20, 30)]\n",
    "l3 = [[i, i**2] for i in range(2, 12, 3)]\n",
    "print(l1)\n",
    "print(l2)\n",
    "print(l3)"
   ]
  },
  {
   "cell_type": "code",
   "execution_count": null,
   "metadata": {},
   "outputs": [],
   "source": [
    "# المزيد من أمثلة استيعاب القوائم\n",
    "equi_list_1 = [[x, y, z] for x in range(1, 3) for y in range(3, 6) for z in range(6, 9)]\n",
    "print(equi_list_1)"
   ]
  },
  {
   "cell_type": "code",
   "execution_count": null,
   "metadata": {},
   "outputs": [],
   "source": [
    "# الكود المكافئ لاستيعاب القوائم أعلاه\n",
    "equi_list_2 = []\n",
    "for x in range(1, 3):\n",
    "    for y in range(3, 6):\n",
    "        for z in range(6, 9):\n",
    "            equi_list_2.append([x, y, z])\n",
    "print(equi_list_2)"
   ]
  },
  {
   "cell_type": "code",
   "execution_count": null,
   "metadata": {},
   "outputs": [],
   "source": [
    "# إثبات التكافؤ (نفّذ الكتلتين أعلاه قبل تشغيل هذا)\n",
    "print(equi_list_1 == equi_list_2)"
   ]
  },
  {
   "cell_type": "code",
   "execution_count": null,
   "metadata": {},
   "outputs": [],
   "source": [
    "# استيعاب القوائم مع الشروط\n",
    "l1 = [x if x%5 == 0 else \"فراغ\" for x in range(20)]\n",
    "print(l1)"
   ]
  },
  {
   "cell_type": "markdown",
   "metadata": {},
   "source": [
    "<div dir=\"rtl\">\n",
    "## تقطيع القوائم\n",
    "\n",
    "يمكننا استخدام التقطيع للحصول على جزء من القائمة.\n",
    "</div>"
   ]
  },
  {
   "cell_type": "code",
   "execution_count": null,
   "metadata": {},
   "outputs": [],
   "source": [
    "# تقطيع القوائم\n",
    "l1 = [\"مها\", \"تحب\", \"البرمجة\", \"كثيرًا\", \"مع\", \"ليلى\"]\n",
    "print(\"[2:5] --> \" + str(l1[2:5]))\n",
    "print(\"[:4]  --> \" + str(l1[:4]))  # كل العناصر قبل الفهرس 4 (لا يشمل الفهرس 4)\n",
    "print(\"[2:]  --> \" + str(l1[2:]))  # كل العناصر من الفهرس 2 (يشمل الفهرس 2)\n",
    "print(\"[:]   --> \" + str(l1[:]))   # كل العناصر في القائمة"
   ]
  },
  {
   "cell_type": "code",
   "execution_count": null,
   "metadata": {},
   "outputs": [],
   "source": [
    "# تقطيع إضافي للقوائم\n",
    "l1 = [\"مها\", \"و\", \"ليلى\", \"الآن\", \"محبات\", \"للبرمجة\"]\n",
    "print(\"[-2:]   --> \" + str(l1[-2:]))\n",
    "print(\"[:-3]   --> \" + str(l1[:-3]))\n",
    "print(\"[-5:-2] --> \" + str(l1[-5:-2]))"
   ]
  },
  {
   "cell_type": "code",
   "execution_count": null,
   "metadata": {},
   "outputs": [],
   "source": [
    "# التكرار عبر جزء من القائمة\n",
    "l1 = [\"محبات\", \"البرمجة\", \"جدًا\", \"XD\"]\n",
    "for w in l1[-4:-1]:\n",
    "    print(w.upper())"
   ]
  },
  {
   "cell_type": "markdown",
   "metadata": {},
   "source": [
    "<div dir=\"rtl\">\n",
    "## نسخ القوائم\n",
    "\n",
    "يمكننا استخدام `[:]` لنسخ قائمة بالكامل.\n",
    "</div>"
   ]
  },
  {
   "cell_type": "code",
   "execution_count": null,
   "metadata": {},
   "outputs": [],
   "source": [
    "# نسخ قائمة باستخدام [:]\n",
    "l1 = [\"يجب\", \"استخدام\", \"[:]\", \"لنسخ\", \"القائمة\", \"كاملة\"]\n",
    "l2 = l1[:]\n",
    "print(l2)"
   ]
  },
  {
   "cell_type": "code",
   "execution_count": null,
   "metadata": {},
   "outputs": [],
   "source": [
    "# إثبات أن القائمتين مختلفتان\n",
    "l2.append(\". باستخدام [:] تضمن أن القائمتين مختلفتان\")\n",
    "print(l1)\n",
    "print(l2)"
   ]
  },
  {
   "cell_type": "code",
   "execution_count": null,
   "metadata": {},
   "outputs": [],
   "source": [
    "# ماذا يحدث إذا قمنا بتعيين قائمة لأخرى مباشرة دون استخدام التقطيع\n",
    "l1 = [\"مها\", \"تتساءل\", \"ماذا\", \"يحدث\", \"إذا\", \"قمنا\", \"بالتعيين\", \"مباشرة\"]\n",
    "l2 = l1\n",
    "l2.append(\"كلا المتغيرين يشيران إلى نفس القائمة\")\n",
    "print(l1)\n",
    "print(l2)"
   ]
  }
 ],
 "metadata": {
  "kernelspec": {
   "display_name": "Python 3",
   "language": "python",
   "name": "python3"
  },
  "language_info": {
   "codemirror_mode": {
    "name": "ipython",
    "version": 3
   },
   "file_extension": ".py",
   "mimetype": "text/x-python",
   "name": "python",
   "nbconvert_exporter": "python",
   "pygments_lexer": "ipython3",
   "version": "3.6.3"
  }
 },
 "nbformat": 4,
 "nbformat_minor": 2
}
