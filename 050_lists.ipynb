{
 "cells": [
  {
   "cell_type": "markdown",
   "metadata": {},
   "source": [
    "<div dir=\"rtl\">\n",
    "# القوائم (Lists)\n",
    "\n",
    "في هذا الملف، نستعرض بعض المفاهيم الأساسية عن القوائم في Python، مثل إنشاء القوائم، الوصول إلى العناصر، تعديلها، وحذفها.\n",
    "</div>"
   ]
  },
  {
   "cell_type": "markdown",
   "metadata": {},
   "source": [
    "Educational Code<br/>\n",
    "Dr. Amr Mausad @ 2024<br/>\n",
    "http://amrmausad.com<br/>\n",
    "http://youtube.com/@amrmausadx<br/>\n",
    "للحصول على الكود<br/>\n",
    "https://www.youtube.com/watch?v=s4MgSBx-rZw<br/>\n",
    "https://github.com/amrmausadx/pyclass"
   ]
  },
  {
   "cell_type": "code",
   "execution_count": 1,
   "metadata": {},
   "outputs": [
    {
     "name": "stdout",
     "output_type": "stream",
     "text": [
      "['مها', 'ليلى', 'سعاد']\n",
      "[1, 2, 3, 4, 5]\n",
      "['أ', 'ب', 'ت', 'ث', 'ج']\n"
     ]
    }
   ],
   "source": [
    "# قوائم بسيطة\n",
    "names = [\"مها\", \"ليلى\", \"سعاد\"]\n",
    "nums  = [1, 2, 3, 4, 5]\n",
    "chars = ['أ', 'ب', 'ت', 'ث', 'ج']\n",
    "\n",
    "print (names)\n",
    "print (nums)\n",
    "print (chars)"
   ]
  },
  {
   "cell_type": "code",
   "execution_count": 4,
   "metadata": {},
   "outputs": [
    {
     "name": "stdout",
     "output_type": "stream",
     "text": [
      "['مها', 'برمجة', 'soad', 'ل', '9', 9, 12.9, 'من']\n"
     ]
    }
   ],
   "source": [
    "# يمكن أن تحتوي القائمة على أنواع بيانات متعددة\n",
    "rand_list = [\"مها\", \"برمجة\", \"soad\", 'ل', '9', 9, 12.90, \"من\"]\n",
    "print (rand_list)"
   ]
  },
  {
   "cell_type": "markdown",
   "metadata": {},
   "source": [
    "<div dir=\"rtl\">\n",
    "## الوصول إلى عناصر القائمة\n",
    "\n",
    "يمكننا الوصول إلى العناصر باستخدام الفهارس (تبدأ من 0).\n",
    "</div>"
   ]
  },
  {
   "cell_type": "code",
   "execution_count": 5,
   "metadata": {},
   "outputs": [
    {
     "name": "stdout",
     "output_type": "stream",
     "text": [
      "سعاد\n",
      "ل\n",
      "مها Soad\n"
     ]
    }
   ],
   "source": [
    "# الوصول إلى العناصر في القائمة\n",
    "print (names[2])\n",
    "print (rand_list[3])\n",
    "print (names[0] + \" \" + rand_list[2].title())"
   ]
  },
  {
   "cell_type": "markdown",
   "metadata": {},
   "source": [
    "<div dir=\"rtl\">\n",
    "## الفهارس السالبة\n",
    "\n",
    "تسمح الفهارس السالبة بالوصول إلى العناصر من نهاية القائمة.\n",
    "</div>"
   ]
  },
  {
   "cell_type": "code",
   "execution_count": 6,
   "metadata": {},
   "outputs": [
    {
     "name": "stdout",
     "output_type": "stream",
     "text": [
      "من\n",
      "12.9\n"
     ]
    }
   ],
   "source": [
    "# الفهارس السالبة: الوصول إلى العناصر من نهاية القائمة\n",
    "print (rand_list[-1]) # إرجاع العنصر الأخير في القائمة\n",
    "print (rand_list[-2]) # إرجاع العنصر الثاني من النهاية"
   ]
  },
  {
   "cell_type": "markdown",
   "metadata": {},
   "source": [
    "<div dir=\"rtl\">\n",
    "## تعديل العناصر في القائمة\n",
    "\n",
    "يمكن تعديل العناصر عن طريق تحديد الفهرس.\n",
    "</div>"
   ]
  },
  {
   "cell_type": "code",
   "execution_count": 7,
   "metadata": {},
   "outputs": [
    {
     "name": "stdout",
     "output_type": "stream",
     "text": [
      "['ليلى', 'تحب', 'البرمجة', 'كثيرًا', '!']\n",
      "['مها', 'تحب', 'البرمجة', 'كثيرًا', '!']\n"
     ]
    }
   ],
   "source": [
    "# تعديل العناصر في القائمة\n",
    "str_list = [\"ليلى\", \"تحب\", \"البرمجة\", \"كثيرًا\", '!']\n",
    "\n",
    "print (str_list)\n",
    "str_list[0] = \"مها\"\n",
    "print (str_list)"
   ]
  },
  {
   "cell_type": "markdown",
   "metadata": {},
   "source": [
    "<div dir=\"rtl\">\n",
    "## إضافة عناصر إلى القائمة\n",
    "\n",
    "يمكننا استخدام `append()` لإضافة عنصر في نهاية القائمة.\n",
    "</div>"
   ]
  },
  {
   "cell_type": "code",
   "execution_count": 8,
   "metadata": {},
   "outputs": [
    {
     "name": "stdout",
     "output_type": "stream",
     "text": [
      "['مها', 'تحب', 'البرمجة', 'كثيرًا', '!', 'إنها تحب البرمجة.']\n"
     ]
    }
   ],
   "source": [
    "# إضافة عناصر إلى القائمة\n",
    "str_list.append ('إنها تحب البرمجة.')\n",
    "print (str_list)"
   ]
  },
  {
   "cell_type": "markdown",
   "metadata": {},
   "source": [
    "<div dir=\"rtl\">\n",
    "## إنشاء قوائم باستخدام `append()`\n",
    "\n",
    "يمكننا بناء القوائم عنصرًا تلو الآخر.\n",
    "</div>"
   ]
  },
  {
   "cell_type": "code",
   "execution_count": 9,
   "metadata": {},
   "outputs": [
    {
     "name": "stdout",
     "output_type": "stream",
     "text": [
      "['اسمي', 'عمري', 'عنواني', 'رقم هاتفي', 'هو', 1234567890]\n"
     ]
    }
   ],
   "source": [
    "# بناء القوائم باستخدام append()\n",
    "my_list = []\n",
    "my_list.append (\"اسمي\")\n",
    "my_list.append (\"عمري\")\n",
    "my_list.append (\"عنواني\")\n",
    "my_list.append (\"رقم هاتفي\")\n",
    "my_list.append (\"هو\")\n",
    "my_list.append (1234567890)\n",
    "print (my_list)"
   ]
  },
  {
   "cell_type": "markdown",
   "metadata": {},
   "source": [
    "<div dir=\"rtl\">\n",
    "## إدراج عناصر في مواضع محددة\n",
    "\n",
    "يمكننا استخدام `insert()` لإدراج العناصر في مواضع محددة.\n",
    "</div>"
   ]
  },
  {
   "cell_type": "code",
   "execution_count": 10,
   "metadata": {},
   "outputs": [
    {
     "name": "stdout",
     "output_type": "stream",
     "text": [
      "['السيد/السيدة', 'اسمي', 'عمري', 'عنواني', 'رقم هاتفي', 'هو', 1234567890]\n",
      "['السيد/السيدة', 'اسمي', 'عمري', 'عنواني', 'عيد ميلادي', 'رقم هاتفي', 'هو', 1234567890]\n"
     ]
    }
   ],
   "source": [
    "# إدراج عناصر في مواضع محددة من القائمة\n",
    "my_list.insert (0, \"السيد/السيدة\")\n",
    "print (my_list)\n",
    "\n",
    "my_list.insert(4, \"عيد ميلادي\")\n",
    "print (my_list)"
   ]
  },
  {
   "cell_type": "markdown",
   "metadata": {},
   "source": [
    "<div dir=\"rtl\">\n",
    "## حذف عناصر من القائمة\n",
    "\n",
    "يمكننا استخدام `del` أو `pop()` لحذف العناصر.\n",
    "</div>"
   ]
  },
  {
   "cell_type": "code",
   "execution_count": 11,
   "metadata": {},
   "outputs": [
    {
     "name": "stdout",
     "output_type": "stream",
     "text": [
      "['أ', 'ب', 'ت', 'ث', 'ج']\n",
      "['ب', 'ت', 'ث', 'ج']\n",
      "['ب', 'ت', 'ث']\n"
     ]
    }
   ],
   "source": [
    "# حذف العناصر باستخدام del\n",
    "l1 = ['أ', 'ب', 'ت', 'ث', 'ج']\n",
    "print (l1)\n",
    "\n",
    "del l1[0]\n",
    "print (l1)\n",
    "\n",
    "del l1[-1]\n",
    "print (l1)"
   ]
  },
  {
   "cell_type": "code",
   "execution_count": 12,
   "metadata": {},
   "outputs": [
    {
     "name": "stdout",
     "output_type": "stream",
     "text": [
      "['أ', 'ب', 'ت', 'ث']\n",
      "ج\n"
     ]
    }
   ],
   "source": [
    "# حذف العنصر الأخير باستخدام pop()\n",
    "l1 = ['أ', 'ب', 'ت', 'ث', 'ج']\n",
    "c = l1.pop() # حذف العنصر الأخير وتخزينه\n",
    "\n",
    "print (l1)\n",
    "print (c)"
   ]
  },
  {
   "cell_type": "code",
   "execution_count": 13,
   "metadata": {},
   "outputs": [
    {
     "name": "stdout",
     "output_type": "stream",
     "text": [
      "['ب', 'ت', 'ث', 'ج']\n",
      "أ\n",
      "['ب', 'ت', 'ث']\n",
      "ج\n"
     ]
    }
   ],
   "source": [
    "# حذف عنصر معين باستخدام pop(n)\n",
    "l1 = ['أ', 'ب', 'ت', 'ث', 'ج']\n",
    "c = l1.pop(0) # حذف العنصر في الموضع 0 وتخزينه\n",
    "print (l1)\n",
    "print (c)\n",
    "\n",
    "c = l1.pop(-1) # حذف العنصر الأخير وتخزينه باستخدام فهرس سلبي\n",
    "print (l1)\n",
    "print (c)"
   ]
  },
  {
   "cell_type": "code",
   "execution_count": null,
   "metadata": {},
   "outputs": [
    {
     "name": "stdout",
     "output_type": "stream",
     "text": [
      "['مها', 'تحب', 'ليلى', 'سعاد', 'سعاد']\n",
      "['مها', 'تحب', 'ليلى', 'سعاد']\n",
      "['مها', 'ليلى', 'سعاد']\n"
     ]
    }
   ],
   "source": [
    "# حذف عنصر حسب القيمة باستخدام remove()\n",
    "q1 = [\"مها\", \"تحب\", \"ليلى\", \"سعاد\", \"سعاد\"]\n",
    "print (q1)\n",
    "\n",
    "q1.remove (\"سعاد\") # إزالة أول ظهور للقيمة المحددة\n",
    "print (q1)\n",
    "\n",
    "n1 = \"تحب\"\n",
    "q1.remove(n1)\n",
    "print (q1)"
   ]
  },
  {
   "cell_type": "markdown",
   "metadata": {},
   "source": [
    "<div dir=\"rtl\">\n",
    "## فرز القوائم\n",
    "\n",
    "يمكننا فرز القوائم أبجديًا أو عدديًا باستخدام `sort()` أو `sorted()`.\n",
    "</div>"
   ]
  },
  {
   "cell_type": "code",
   "execution_count": 15,
   "metadata": {},
   "outputs": [
    {
     "name": "stdout",
     "output_type": "stream",
     "text": [
      "['ج', 'ث', 'ت', 'ب', 'أ']\n",
      "['أ', 'ب', 'ت', 'ث', 'ج']\n"
     ]
    }
   ],
   "source": [
    "# فرز قائمة أبجديًا باستخدام sort()\n",
    "l1 = ['ج', 'ث', 'ت', 'ب', 'أ']\n",
    "print (l1)\n",
    "l1.sort()\n",
    "print (l1)"
   ]
  },
  {
   "cell_type": "code",
   "execution_count": null,
   "metadata": {},
   "outputs": [],
   "source": [
    "# فرز قائمة عدديًا تصاعديًا\n",
    "l2 = [2, 200, 16, 4, 1, 0, 9.45, 45.67, 90, 12.01, 12.02]\n",
    "l2.sort()\n",
    "print (l2)"
   ]
  },
  {
   "cell_type": "code",
   "execution_count": 17,
   "metadata": {},
   "outputs": [
    {
     "name": "stdout",
     "output_type": "stream",
     "text": [
      "['d', 'c', 'b', 'a']\n",
      "[200, 90, 45.67, 16, 12.02, 12.01, 9.45, 4, 2, 1, 0]\n"
     ]
    }
   ],
   "source": [
    "# فرز قائمة بترتيب تنازلي\n",
    "l1 =['a','b','c','d']# ['ج', 'ث', 'ت', 'ب', 'أ']\n",
    "l1.sort(reverse=True)\n",
    "print (l1)\n",
    "\n",
    "l2 = [2, 200, 16, 4, 1, 0, 9.45, 45.67, 90, 12.01, 12.02]\n",
    "l2.sort(reverse=True)\n",
    "print (l2)"
   ]
  },
  {
   "cell_type": "markdown",
   "metadata": {},
   "source": [
    "<div dir=\"rtl\">\n",
    "## التكرار عبر القوائم\n",
    "\n",
    "يمكننا استخدام `for` أو `while` للتكرار عبر القوائم.\n",
    "</div>"
   ]
  },
  {
   "cell_type": "code",
   "execution_count": 18,
   "metadata": {},
   "outputs": [
    {
     "name": "stdout",
     "output_type": "stream",
     "text": [
      "مها\n",
      "تحب\n",
      "البرمجة\n",
      "كثيرًا\n"
     ]
    }
   ],
   "source": [
    "# التكرار عبر القائمة باستخدام for\n",
    "l1 = [\"مها\", \"تحب\", \"البرمجة\", \"كثيرًا\"]\n",
    "for word in l1:\n",
    "    print (word)"
   ]
  },
  {
   "cell_type": "code",
   "execution_count": 19,
   "metadata": {},
   "outputs": [
    {
     "name": "stdout",
     "output_type": "stream",
     "text": [
      "مها\n",
      "تعلمت\n",
      "الكثير\n",
      "عن\n",
      "القوائم\n"
     ]
    }
   ],
   "source": [
    "# التكرار عبر القائمة باستخدام while\n",
    "l1 = [\"مها\", \"تعلمت\", \"الكثير\", \"عن\", \"القوائم\"]\n",
    "i = 0\n",
    "while i < len(l1):\n",
    "    print (l1[i])\n",
    "    i += 1"
   ]
  },
  {
   "cell_type": "markdown",
   "metadata": {},
   "source": [
    "<div dir=\"rtl\">\n",
    "## القوائم العددية\n",
    "\n",
    "يمكننا استخدام `range()` لإنشاء قوائم من الأرقام.\n",
    "</div>"
   ]
  },
  {
   "cell_type": "code",
   "execution_count": 20,
   "metadata": {},
   "outputs": [
    {
     "name": "stdout",
     "output_type": "stream",
     "text": [
      "خمن كم حصلت مها في اختبارها الأول من 5:\n",
      "أ) 1\n",
      "ب) 2\n",
      "ت) 3\n",
      "ث) 4\n",
      "ج) 5\n"
     ]
    }
   ],
   "source": [
    "# القوائم العددية\n",
    "# ملاحظة: range(n, m) سينتج الأرقام من n إلى m-1\n",
    "l1 = ['أ', 'ب', 'ت', 'ث', 'ج']\n",
    "print(\"خمن كم حصلت مها في اختبارها الأول من 5:\")\n",
    "for val in range(1, 6):\n",
    "    print(l1[val-1] + \") \" + str(val))"
   ]
  },
  {
   "cell_type": "code",
   "execution_count": null,
   "metadata": {},
   "outputs": [
    {
     "name": "stdout",
     "output_type": "stream",
     "text": [
      "[1, 2, 3, 4, 5, 6, 7, 8, 9, 10, 11, 12, 13, 14, 15, 16, 17, 18, 19, 20, 21, 22, 23, 24, 25, 26, 27, 28, 29, 30, 31, 32, 33, 34, 35, 36, 37, 38, 39, 40, 41, 42, 43, 44, 45, 46, 47, 48, 49, 50, 51, 52, 53, 54, 55, 56, 57, 58, 59, 60, 61, 62, 63, 64, 65, 66, 67, 68, 69, 70, 71, 72, 73, 74, 75, 76, 77, 78, 79, 80, 81, 82, 83, 84, 85, 86, 87, 88, 89, 90, 91, 92, 93, 94, 95, 96, 97, 98, 99, 100, 101, 102, 103, 104, 105, 106, 107, 108, 109, 110, 111, 112, 113, 114, 115, 116, 117, 118, 119, 120, 121, 122, 123, 124, 125, 126, 127, 128, 129, 130, 131, 132, 133, 134, 135, 136, 137, 138, 139, 140, 141, 142, 143, 144, 145, 146, 147, 148, 149, 150, 151, 152, 153, 154, 155, 156, 157, 158, 159, 160, 161, 162, 163, 164, 165, 166, 167, 168, 169, 170, 171, 172, 173, 174, 175, 176, 177, 178, 179, 180, 181, 182, 183, 184, 185, 186, 187, 188, 189, 190, 191, 192, 193, 194, 195, 196, 197, 198, 199, 200, 201, 202, 203, 204, 205, 206, 207, 208, 209, 210, 211, 212, 213, 214, 215, 216, 217, 218, 219, 220, 221, 222, 223, 224, 225, 226, 227, 228, 229, 230, 231, 232, 233, 234, 235, 236, 237, 238, 239, 240, 241, 242, 243, 244, 245, 246, 247, 248, 249, 250, 251, 252, 253, 254, 255, 256, 257, 258, 259, 260, 261, 262, 263, 264, 265, 266, 267, 268, 269, 270, 271, 272, 273, 274, 275, 276, 277, 278, 279, 280, 281, 282, 283, 284, 285, 286, 287, 288, 289, 290, 291, 292, 293, 294, 295, 296, 297, 298, 299, 300, 301, 302, 303, 304, 305, 306, 307, 308, 309, 310, 311, 312, 313, 314, 315, 316, 317, 318, 319, 320, 321, 322, 323, 324, 325, 326, 327, 328, 329, 330, 331, 332, 333, 334, 335, 336, 337, 338, 339, 340, 341, 342, 343, 344, 345, 346, 347, 348, 349, 350, 351, 352, 353, 354, 355, 356, 357, 358, 359, 360, 361, 362, 363, 364, 365, 366, 367, 368, 369, 370, 371, 372, 373, 374, 375, 376, 377, 378, 379, 380, 381, 382, 383, 384, 385, 386, 387, 388, 389, 390, 391, 392, 393, 394, 395, 396, 397, 398, 399, 400, 401, 402, 403, 404, 405, 406, 407, 408, 409, 410, 411, 412, 413, 414, 415, 416, 417, 418, 419, 420, 421, 422, 423, 424, 425, 426, 427, 428, 429, 430, 431, 432, 433, 434, 435, 436, 437, 438, 439, 440, 441, 442, 443, 444, 445, 446, 447, 448, 449, 450, 451, 452, 453, 454, 455, 456, 457, 458, 459, 460, 461, 462, 463, 464, 465, 466, 467, 468, 469, 470, 471, 472, 473, 474, 475, 476, 477, 478, 479, 480, 481, 482, 483, 484, 485, 486, 487, 488, 489, 490, 491, 492, 493, 494, 495, 496, 497, 498, 499, 500, 501, 502, 503, 504, 505, 506, 507, 508, 509, 510, 511, 512, 513, 514, 515, 516, 517, 518, 519, 520, 521, 522, 523, 524, 525, 526, 527, 528, 529, 530, 531, 532, 533, 534, 535, 536, 537, 538, 539, 540, 541, 542, 543, 544, 545, 546, 547, 548, 549, 550, 551, 552, 553, 554, 555, 556, 557, 558, 559, 560, 561, 562, 563, 564, 565, 566, 567, 568, 569, 570, 571, 572, 573, 574, 575, 576, 577, 578, 579, 580, 581, 582, 583, 584, 585, 586, 587, 588, 589, 590, 591, 592, 593, 594, 595, 596, 597, 598, 599, 600]\n"
     ]
    }
   ],
   "source": [
    "# استخدام range() لإنشاء قائمة من الأرقام\n",
    "num_list = list(range(1, 601))\n",
    "print(num_list)"
   ]
  },
  {
   "cell_type": "code",
   "execution_count": 23,
   "metadata": {},
   "outputs": [
    {
     "name": "stdout",
     "output_type": "stream",
     "text": [
      "[10, 15, 20, 25, 30, 35, 40, 45, 50]\n"
     ]
    }
   ],
   "source": [
    "# استخدام range() لتخطي القيم بفواصل\n",
    "# range(البدء، النهاية+1، الفاصل)\n",
    "l1 = list(range(10, 51, 5))\n",
    "print(l1)"
   ]
  },
  {
   "cell_type": "markdown",
   "metadata": {},
   "source": [
    "<div dir=\"rtl\">\n",
    "## العمليات مع القوائم العددية\n",
    "\n",
    "يمكننا استخدام `min()` و`max()` و`sum()` للحصول على القيم الأدنى والأعلى، أو لحساب المجموع.\n",
    "</div>"
   ]
  },
  {
   "cell_type": "code",
   "execution_count": 24,
   "metadata": {},
   "outputs": [
    {
     "name": "stdout",
     "output_type": "stream",
     "text": [
      "المجموع: 107\n",
      "القيمة العظمى: 45\n",
      "القيمة الصغرى: 1\n"
     ]
    }
   ],
   "source": [
    "# العمليات مع القوائم العددية باستخدام min() و max() و sum()\n",
    "l1 = [2, 3, 4, 45, 1, 5, 6, 3, 1, 23, 14]\n",
    "print(\"المجموع: \" + str(sum(l1)))\n",
    "print(\"القيمة العظمى: \" + str(max(l1)))\n",
    "print(\"القيمة الصغرى: \" + str(min(l1)))"
   ]
  },
  {
   "cell_type": "markdown",
   "metadata": {},
   "source": [
    "<div dir=\"rtl\">\n",
    "## استيعاب القوائم (List Comprehensions)\n",
    "\n",
    "نستخدم استيعاب القوائم لإنشاء القوائم بطرق مختصرة.\n",
    "</div>"
   ]
  },
  {
   "cell_type": "code",
   "execution_count": 30,
   "metadata": {},
   "outputs": [
    {
     "name": "stdout",
     "output_type": "stream",
     "text": [
      "[20, 21, 22, 23, 24, 25, 26, 27, 28, 29]\n",
      "[21, 22, 23, 24, 25, 26, 27, 28, 29, 30]\n",
      "[[2, 4], [5, 25], [8, 64], [11, 121]]\n",
      "['Ali', 'AliAli', 'AliAliAli', 'AliAliAliAli', 'AliAliAliAliAli']\n",
      "[[0, 'Ali'], [1, 'AliAli'], [2, 'AliAliAli'], [3, 'AliAliAliAli'], [4, 'AliAliAliAliAli']]\n"
     ]
    }
   ],
   "source": [
    "# استيعاب القوائم\n",
    "name='Ali'\n",
    "l1 = [i for i in range(20, 30)]\n",
    "l2 = [i+1 for i in range(20, 30)]\n",
    "l3 = [[i, i**2] for i in range(2, 12, 3)]\n",
    "l4 = [i*name for i in range(1,5+1)]\n",
    "l5 = [[i-1,i*name] for i in range(1,5+1)]\n",
    "print(l1)\n",
    "print(l2)\n",
    "print(l3)\n",
    "print(l4)\n",
    "print(l5)"
   ]
  },
  {
   "cell_type": "code",
   "execution_count": 33,
   "metadata": {},
   "outputs": [
    {
     "name": "stdout",
     "output_type": "stream",
     "text": [
      "18 [[1, 3, 6], [1, 3, 7], [1, 3, 8], [1, 4, 6], [1, 4, 7], [1, 4, 8], [1, 5, 6], [1, 5, 7], [1, 5, 8], [2, 3, 6], [2, 3, 7], [2, 3, 8], [2, 4, 6], [2, 4, 7], [2, 4, 8], [2, 5, 6], [2, 5, 7], [2, 5, 8]]\n"
     ]
    }
   ],
   "source": [
    "# المزيد من أمثلة استيعاب القوائم\n",
    "equi_list_1 = [[x, y, z] for x in range(1, 3) for y in range(3, 6) for z in range(6, 9)]\n",
    "print(len(equi_list_1),equi_list_1)"
   ]
  },
  {
   "cell_type": "code",
   "execution_count": 34,
   "metadata": {},
   "outputs": [
    {
     "name": "stdout",
     "output_type": "stream",
     "text": [
      "[[1, 3, 6], [1, 3, 7], [1, 3, 8], [1, 4, 6], [1, 4, 7], [1, 4, 8], [1, 5, 6], [1, 5, 7], [1, 5, 8], [2, 3, 6], [2, 3, 7], [2, 3, 8], [2, 4, 6], [2, 4, 7], [2, 4, 8], [2, 5, 6], [2, 5, 7], [2, 5, 8]]\n"
     ]
    }
   ],
   "source": [
    "# الكود المكافئ لاستيعاب القوائم أعلاه\n",
    "equi_list_2 = []\n",
    "for x in range(1, 2+1):\n",
    "    for y in range(3, 5+1):\n",
    "        for z in range(6, 8+1):\n",
    "            equi_list_2.append([x, y, z])\n",
    "print(equi_list_2)"
   ]
  },
  {
   "cell_type": "code",
   "execution_count": 35,
   "metadata": {},
   "outputs": [
    {
     "name": "stdout",
     "output_type": "stream",
     "text": [
      "True\n"
     ]
    }
   ],
   "source": [
    "# إثبات التكافؤ (نفّذ الكتلتين أعلاه قبل تشغيل هذا)\n",
    "print(equi_list_1 == equi_list_2)"
   ]
  },
  {
   "cell_type": "code",
   "execution_count": 36,
   "metadata": {},
   "outputs": [
    {
     "name": "stdout",
     "output_type": "stream",
     "text": [
      "[0, 'فراغ', 'فراغ', 'فراغ', 'فراغ', 5, 'فراغ', 'فراغ', 'فراغ', 'فراغ', 10, 'فراغ', 'فراغ', 'فراغ', 'فراغ', 15, 'فراغ', 'فراغ', 'فراغ', 'فراغ']\n"
     ]
    }
   ],
   "source": [
    "# استيعاب القوائم مع الشروط\n",
    "l1 = [x if x%5 == 0 else \"فراغ\" for x in range(20)]\n",
    "print(l1)"
   ]
  },
  {
   "cell_type": "markdown",
   "metadata": {},
   "source": [
    "<div dir=\"rtl\">\n",
    "## تقطيع القوائم\n",
    "\n",
    "يمكننا استخدام التقطيع للحصول على جزء من القائمة.\n",
    "</div>"
   ]
  },
  {
   "cell_type": "code",
   "execution_count": 37,
   "metadata": {},
   "outputs": [
    {
     "name": "stdout",
     "output_type": "stream",
     "text": [
      "[2:5] --> ['البرمجة', 'كثيرًا', 'مع']\n",
      "[:4]  --> ['مها', 'تحب', 'البرمجة', 'كثيرًا']\n",
      "[2:]  --> ['البرمجة', 'كثيرًا', 'مع', 'ليلى']\n",
      "[:]   --> ['مها', 'تحب', 'البرمجة', 'كثيرًا', 'مع', 'ليلى']\n"
     ]
    }
   ],
   "source": [
    "# تقطيع القوائم\n",
    "l1 = [\"مها\", \"تحب\", \"البرمجة\", \"كثيرًا\", \"مع\", \"ليلى\"]\n",
    "print(\"[2:5] --> \" + str(l1[2:5]))\n",
    "print(\"[:4]  --> \" + str(l1[:4]))  # كل العناصر قبل الفهرس 4 (لا يشمل الفهرس 4)\n",
    "print(\"[2:]  --> \" + str(l1[2:]))  # كل العناصر من الفهرس 2 (يشمل الفهرس 2)\n",
    "print(\"[:]   --> \" + str(l1[:]))   # كل العناصر في القائمة"
   ]
  },
  {
   "cell_type": "code",
   "execution_count": 39,
   "metadata": {},
   "outputs": [
    {
     "name": "stdout",
     "output_type": "stream",
     "text": [
      "[-2:]   --> ['محبات', 'للبرمجة']\n",
      "[:-3]   --> ['مها', 'و', 'ليلى']\n",
      "[-5:-2] --> ['و', 'ليلى', 'الآن']\n"
     ]
    }
   ],
   "source": [
    "# تقطيع إضافي للقوائم\n",
    "l1 = [\"مها\", \"و\", \"ليلى\", \"الآن\", \"محبات\", \"للبرمجة\"]\n",
    "print(\"[-2:]   --> \" + str(l1[-2:]))\n",
    "print(\"[:-3]   --> \" + str(l1[:-3]))\n",
    "print(\"[-5:-2] --> \" + str(l1[-5:-2]))"
   ]
  },
  {
   "cell_type": "code",
   "execution_count": 40,
   "metadata": {},
   "outputs": [
    {
     "name": "stdout",
     "output_type": "stream",
     "text": [
      "محبات\n",
      "البرمجة\n",
      "جدًا\n"
     ]
    }
   ],
   "source": [
    "# التكرار عبر جزء من القائمة\n",
    "l1 = [\"محبات\", \"البرمجة\", \"جدًا\", \"XD\"]\n",
    "for w in l1[-4:-1]:\n",
    "    print(w.upper())"
   ]
  },
  {
   "cell_type": "markdown",
   "metadata": {},
   "source": [
    "<div dir=\"rtl\">\n",
    "## نسخ القوائم\n",
    "\n",
    "يمكننا استخدام `[:]` لنسخ قائمة بالكامل.\n",
    "</div>"
   ]
  },
  {
   "cell_type": "code",
   "execution_count": 47,
   "metadata": {},
   "outputs": [
    {
     "name": "stdout",
     "output_type": "stream",
     "text": [
      "['يجب', 'استخدام', '[:]', 'لنسخ', 'القائمة', 'كاملة']\n"
     ]
    }
   ],
   "source": [
    "# نسخ قائمة باستخدام [:]\n",
    "l1 = [\"يجب\", \"استخدام\", \"[:]\", \"لنسخ\", \"القائمة\", \"كاملة\"]\n",
    "l2 = l1[:]\n",
    "print(l2)"
   ]
  },
  {
   "cell_type": "code",
   "execution_count": 48,
   "metadata": {},
   "outputs": [
    {
     "name": "stdout",
     "output_type": "stream",
     "text": [
      "['يجب', 'استخدام', '[:]', 'لنسخ', 'القائمة', 'كاملة']\n",
      "['يجب', 'استخدام', '[:]', 'لنسخ', 'القائمة', 'كاملة', '. باستخدام [:] تضمن أن القائمتين مختلفتان']\n"
     ]
    }
   ],
   "source": [
    "# إثبات أن القائمتين مختلفتان\n",
    "l2.append(\". باستخدام [:] تضمن أن القائمتين مختلفتان\")\n",
    "print(l1)\n",
    "print(l2)"
   ]
  },
  {
   "cell_type": "code",
   "execution_count": 49,
   "metadata": {},
   "outputs": [
    {
     "name": "stdout",
     "output_type": "stream",
     "text": [
      "['مها', 'تتساءل', 'ماذا', 'يحدث', 'إذا', 'قمنا', 'بالتعيين', 'مباشرة', 'كلا المتغيرين يشيران إلى نفس القائمة']\n",
      "['مها', 'تتساءل', 'ماذا', 'يحدث', 'إذا', 'قمنا', 'بالتعيين', 'مباشرة', 'كلا المتغيرين يشيران إلى نفس القائمة']\n"
     ]
    }
   ],
   "source": [
    "# ماذا يحدث إذا قمنا بتعيين قائمة لأخرى مباشرة دون استخدام التقطيع\n",
    "l1 = [\"مها\", \"تتساءل\", \"ماذا\", \"يحدث\", \"إذا\", \"قمنا\", \"بالتعيين\", \"مباشرة\"]\n",
    "l2 = l1\n",
    "l2.append(\"كلا المتغيرين يشيران إلى نفس القائمة\")\n",
    "print(l1)\n",
    "print(l2)"
   ]
  }
 ],
 "metadata": {
  "kernelspec": {
   "display_name": "Python 3",
   "language": "python",
   "name": "python3"
  },
  "language_info": {
   "codemirror_mode": {
    "name": "ipython",
    "version": 3
   },
   "file_extension": ".py",
   "mimetype": "text/x-python",
   "name": "python",
   "nbconvert_exporter": "python",
   "pygments_lexer": "ipython3",
   "version": "3.12.7"
  }
 },
 "nbformat": 4,
 "nbformat_minor": 2
}
