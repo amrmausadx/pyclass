{
 "cells": [
  {
   "cell_type": "markdown",
   "metadata": {},
   "source": [
    "<div dir=\"rtl\">\n",
    "# الدوال (Functions) في بايثون\n",
    "\n",
    "الدوال هي عبارة عن كتل من الكود تُنفذ مهمة معينة عند استدعائها. تسهل الدوال إعادة استخدام الكود وتقسيم البرنامج إلى أجزاء صغيرة ومفهومة.\n",
    "</div>"
   ]
  },
  {
   "cell_type": "markdown",
   "metadata": {},
   "source": [
    "Educational Code<br/>\n",
    "Dr. Amr Mausad @ 2024<br/>\n",
    "http://amrmausad.com<br/>\n",
    "http://youtube.com/@amrmausadx<br/>\n",
    "للحصول على الكود<br/>\n",
    "https://www.youtube.com/watch?v=s4MgSBx-rZw<br/>\n",
    "https://github.com/amrmausadx/pyclass"
   ]
  },
  {
   "cell_type": "markdown",
   "metadata": {},
   "source": [
    "<div dir=\"rtl\">\n",
    "## إنشاء دالة بسيطة\n",
    "\n",
    "يتم إنشاء دالة باستخدام الكلمة المفتاحية `def`.\n",
    "</div>"
   ]
  },
  {
   "cell_type": "code",
   "execution_count": 1,
   "metadata": {},
   "outputs": [
    {
     "name": "stdout",
     "output_type": "stream",
     "text": [
      "مرحبًا بكم في تعلم بايثون!\n"
     ]
    }
   ],
   "source": [
    "# إنشاء دالة بسيطة\n",
    "def greet():\n",
    "    print(\"مرحبًا بكم في تعلم بايثون!\")\n",
    "\n",
    "# استدعاء الدالة\n",
    "greet()"
   ]
  },
  {
   "cell_type": "markdown",
   "metadata": {},
   "source": [
    "<div dir=\"rtl\">\n",
    "## تمرير معطيات (Parameters) إلى الدالة\n",
    "\n",
    "يمكن للدالة أن تأخذ معطيات لتخصيص عملها.\n",
    "</div>"
   ]
  },
  {
   "cell_type": "code",
   "execution_count": 4,
   "metadata": {},
   "outputs": [
    {
     "name": "stdout",
     "output_type": "stream",
     "text": [
      "مرحبًا مها!\n",
      "مرحبًا بكم في تعلم بايثون!\n"
     ]
    }
   ],
   "source": [
    "# دالة تقبل معطيات\n",
    "def greet_user(name):\n",
    "    print(f\"مرحبًا {name}!\")\n",
    "    greet()\n",
    "\n",
    "# استدعاء الدالة مع تمرير قيمة\n",
    "greet_user(\"مها\") # call or invocation"
   ]
  },
  {
   "cell_type": "markdown",
   "metadata": {},
   "source": [
    "<div dir=\"rtl\">\n",
    "## الإرجاع من الدالة (Return)\n",
    "\n",
    "يمكن للدوال إرجاع قيم باستخدام الكلمة المفتاحية `return`.\n",
    "</div>"
   ]
  },
  {
   "cell_type": "code",
   "execution_count": 9,
   "metadata": {},
   "outputs": [
    {
     "name": "stdout",
     "output_type": "stream",
     "text": [
      "مربع الرقم 4 هو: 16\n",
      "مربع الرقم 5 هو: 25\n",
      "مربع الرقم 20 هو: 400\n"
     ]
    }
   ],
   "source": [
    "# دالة تُرجع نتيجة\n",
    "def square(number):\n",
    "    return number ** 2\n",
    "\n",
    "# استخدام الدالة\n",
    "result = square(4)\n",
    "def print_square(number):\n",
    "    print(f\"مربع الرقم {number} هو:\", square(number))\n",
    "'''\n",
    "n=5\n",
    "print(f\"مربع الرقم {n} هو:\", square(n))\n",
    "n=20\n",
    "print(f\"مربع الرقم {n} هو:\", square(n))\n",
    "'''\n",
    "print_square(4)\n",
    "print_square(5)\n",
    "print_square(20)\n"
   ]
  },
  {
   "cell_type": "markdown",
   "metadata": {},
   "source": [
    "<div dir=\"rtl\">\n",
    "## المعطيات الافتراضية (Default Parameters)\n",
    "\n",
    "يمكنك تعيين قيم افتراضية للمعطيات.\n",
    "</div>"
   ]
  },
  {
   "cell_type": "code",
   "execution_count": 13,
   "metadata": {},
   "outputs": [
    {
     "name": "stdout",
     "output_type": "stream",
     "text": [
      "مرحبًا ضيف!\n",
      "مرحبًا يوسف!\n"
     ]
    }
   ],
   "source": [
    "# معطيات افتراضية\n",
    "def greet_user(age=0,name=\"ضيف\"):\n",
    "    print(f\"مرحبًا {name}!\")\n",
    "\n",
    "# استدعاء الدالة بدون معطيات\n",
    "greet_user()\n",
    "\n",
    "# استدعاء الدالة مع تمرير معطيات\n",
    "greet_user(60,\"يوسف\")"
   ]
  },
  {
   "cell_type": "markdown",
   "metadata": {},
   "source": [
    "<div dir=\"rtl\">\n",
    "## الدوال ذات عدد غير محدود من المعطيات\n",
    "\n",
    "بايثون تسمح بتمرير عدد غير محدد من المعطيات باستخدام `*args` و `**kwargs`.\n",
    "</div>"
   ]
  },
  {
   "cell_type": "code",
   "execution_count": 14,
   "metadata": {},
   "outputs": [
    {
     "name": "stdout",
     "output_type": "stream",
     "text": [
      "مجموع الأرقام: 10\n",
      "name: مها\n",
      "age: 25\n",
      "city: القاهرة\n"
     ]
    }
   ],
   "source": [
    "# *args للمعطيات غير المحدودة\n",
    "def sum_numbers(*args):\n",
    "    return sum(args)\n",
    "\n",
    "print(\"مجموع الأرقام:\", sum_numbers(1, 2, 3, 4))\n",
    "\n",
    "# **kwargs للمعطيات ذات الأسماء المفتاحية\n",
    "def user_info(**kwargs):\n",
    "    for key, value in kwargs.items():\n",
    "        print(f\"{key}: {value}\")\n",
    "\n",
    "user_info(name=\"مها\", age=25, city=\"القاهرة\")"
   ]
  },
  {
   "cell_type": "markdown",
   "metadata": {},
   "source": [
    "<div dir=\"rtl\">\n",
    "## التحميل الزائد للدوال (Function Overloading)\n",
    "\n",
    "في بايثون، لا يوجد دعم مباشر لتحميل الدوال، لكن يمكن محاكاة ذلك باستخدام المعطيات الافتراضية أو التحقق داخل الدالة.\n",
    "</div>"
   ]
  },
  {
   "cell_type": "code",
   "execution_count": null,
   "metadata": {},
   "outputs": [],
   "source": [
    "# تحميل زائد بسيط باستخدام التحقق من المعطيات\n",
    "def greet(name=None):\n",
    "    if name:\n",
    "        print(f\"مرحبًا {name}!\")\n",
    "    else:\n",
    "        print(\"مرحبًا بالضيف!\")\n",
    "greet(\"مها\")\n",
    "greet()"
   ]
  },
  {
   "cell_type": "markdown",
   "metadata": {},
   "source": [
    "<div dir=\"rtl\">\n",
    "## الخاتمة\n",
    "الدوال تجعل الكود أكثر تنظيمًا وإعادة استخدام.  يضيف مرونة قوية إلى برامجك.\n",
    "</div>"
   ]
  }
 ],
 "metadata": {
  "kernelspec": {
   "display_name": "Python 3",
   "language": "python",
   "name": "python3"
  },
  "language_info": {
   "codemirror_mode": {
    "name": "ipython",
    "version": 3
   },
   "file_extension": ".py",
   "mimetype": "text/x-python",
   "name": "python",
   "nbconvert_exporter": "python",
   "pygments_lexer": "ipython3",
   "version": "3.13.0"
  }
 },
 "nbformat": 4,
 "nbformat_minor": 2
}
