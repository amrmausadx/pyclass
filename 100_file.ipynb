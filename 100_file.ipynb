{
 "cells": [
  {
   "cell_type": "markdown",
   "metadata": {},
   "source": [
    "<div dir=\"rtl\">\n",
    "# التعامل مع الملفات في بايثون\n",
    "\n",
    "العمل مع الملفات هو جزء مهم من تطوير البرامج. في بايثون، يمكنك قراءة وكتابة الملفات بسهولة باستخدام الدوال المدمجة مثل `open()`.\n",
    "</div>"
   ]
  },
  {
   "cell_type": "markdown",
   "metadata": {},
   "source": [
    "Educational Code<br/>\n",
    "Dr. Amr Mausad @ 2024<br/>\n",
    "http://amrmausad.com<br/>\n",
    "http://youtube.com/@amrmausadx<br/>\n",
    "للحصول على الكود<br/>\n",
    "https://www.youtube.com/watch?v=s4MgSBx-rZw<br/>\n",
    "https://github.com/amrmausadx/pyclass"
   ]
  },
  {
   "cell_type": "markdown",
   "metadata": {},
   "source": [
    "<div dir=\"rtl\">\n",
    "## فتح الملفات\n",
    "\n",
    "الدالة `open()` تُستخدم لفتح الملفات. يجب عليك تحديد اسم الملف والوضع (mode) الذي تريد فتحه به.\n",
    "\n",
    "| الوضع       | الوصف                                      |\n",
    "|-------------|------------------------------------------|\n",
    "| `r`         | القراءة فقط، يعرض خطأ إذا كان الملف غير موجود. |\n",
    "| `w`         | الكتابة فقط، ينشئ ملفًا جديدًا إذا لم يكن موجودًا. |\n",
    "| `a`         | الإلحاق بالمحتوى إذا كان الملف موجودًا.          |\n",
    "| `r+`        | القراءة والكتابة معًا.                       |\n",
    "</div>"
   ]
  },
  {
   "cell_type": "markdown",
   "metadata": {},
   "source": [
    "<div dir=\"rtl\">\n",
    "## قراءة الملفات\n",
    "\n",
    "يتم استخدام الوضع `r` لقراءة الملفات.\n",
    "</div>"
   ]
  },
  {
   "cell_type": "code",
   "execution_count": 17,
   "metadata": {},
   "outputs": [
    {
     "name": "stdout",
     "output_type": "stream",
     "text": [
      "محتوى الملف:\n",
      "مرحبًا بكم في درس بايثون!\n",
      "تعلم كيفية التعامل مع الملفات.\n",
      "تعلم كيفية التعامل مع الملفات.\n",
      "إضافة محتوى جديد إلى الملف.\n",
      "إضافة محتوى جديد إلى الملف.\n",
      "إضافة محتوى جديد إلى الملف.\n",
      "إضافة محتوى جديد إلى الملف.\n",
      "إضافة محتوى جديد إلى الملف.\n"
     ]
    }
   ],
   "source": [
    "# قراءة ملف\n",
    "try:\n",
    "    with open(\"example.txt\", \"r\") as file:\n",
    "        content = file.read()\n",
    "        print(\"محتوى الملف:\")\n",
    "        print(content)\n",
    "except FileNotFoundError:\n",
    "    print(\"خطأ: الملف غير موجود.\")"
   ]
  },
  {
   "cell_type": "markdown",
   "metadata": {},
   "source": [
    "<div dir=\"rtl\">\n",
    "## كتابة الملفات\n",
    "\n",
    "الوضع `w` يُستخدم لإنشاء ملف جديد أو الكتابة فوق ملف موجود.\n",
    "</div>"
   ]
  },
  {
   "cell_type": "code",
   "execution_count": 27,
   "metadata": {},
   "outputs": [
    {
     "name": "stdout",
     "output_type": "stream",
     "text": [
      "تمت الكتابة بنجاح.\n"
     ]
    }
   ],
   "source": [
    "# كتابة نص إلى ملف\n",
    "with open(\"example.txt\", \"w\") as file:\n",
    "    file.write(\"مرحبًا بكم في درس بايثون!\\n\")\n",
    "    file.write(\"تعلم كيفية التعامل مع الملفات.\\n\")\n",
    "    file.write(\"تعلم كيفية التعامل مع الملفات.\")\n",
    "print(\"تمت الكتابة بنجاح.\")"
   ]
  },
  {
   "cell_type": "markdown",
   "metadata": {},
   "source": [
    "<div dir=\"rtl\">\n",
    "## إلحاق المحتوى إلى ملف موجود\n",
    "\n",
    "الوضع `a` يُستخدم لإضافة محتوى جديد إلى ملف موجود دون الكتابة فوق المحتوى السابق.\n",
    "</div>"
   ]
  },
  {
   "cell_type": "code",
   "execution_count": 16,
   "metadata": {},
   "outputs": [
    {
     "name": "stdout",
     "output_type": "stream",
     "text": [
      "تم الإلحاق بنجاح.\n"
     ]
    }
   ],
   "source": [
    "# إضافة محتوى جديد إلى الملف\n",
    "with open(\"example.txt\", \"a\") as file:\n",
    "    file.write(\"\\nإضافة محتوى جديد إلى الملف.\")\n",
    "print(\"تم الإلحاق بنجاح.\")"
   ]
  },
  {
   "cell_type": "markdown",
   "metadata": {},
   "source": [
    "<div dir=\"rtl\">\n",
    "## قراءة الملف سطرًا بسطر\n",
    "\n",
    "يمكنك استخدام `readlines()` أو التكرار عبر الملف لقراءة كل سطر على حدة.\n",
    "</div>"
   ]
  },
  {
   "cell_type": "code",
   "execution_count": 24,
   "metadata": {},
   "outputs": [
    {
     "name": "stdout",
     "output_type": "stream",
     "text": [
      "مرحبًا بكم في درس بايثون!\n",
      "تعلم كيفية التعامل مع الملفات.\n",
      "تعلم كيفية التعامل مع الملفات.\n"
     ]
    }
   ],
   "source": [
    "# قراءة الملف سطرًا بسطر\n",
    "try:\n",
    "    with open(\"example.txt\", \"r\") as file:\n",
    "        for line in file:\n",
    "            print(line.strip())  # إزالة المسافات البيضاء الزائدة\n",
    "            #print(\"*\")\n",
    "except FileNotFoundError:\n",
    "    print(\"خطأ: الملف غير موجود.\")"
   ]
  },
  {
   "cell_type": "markdown",
   "metadata": {},
   "source": [
    "<div dir=\"rtl\">\n",
    "## حذف ملف\n",
    "\n",
    "يمكنك استخدام الوحدة `os` لحذف الملفات.\n",
    "</div>"
   ]
  },
  {
   "cell_type": "code",
   "execution_count": 25,
   "metadata": {},
   "outputs": [
    {
     "name": "stdout",
     "output_type": "stream",
     "text": [
      "تم حذف الملف: example.txt\n"
     ]
    }
   ],
   "source": [
    "import os\n",
    "\n",
    "# حذف ملف\n",
    "file_name = \"example.txt\"\n",
    "if os.path.exists(file_name):\n",
    "    os.remove(file_name)\n",
    "    print(f\"تم حذف الملف: {file_name}\")\n",
    "else:\n",
    "    print(\"الملف غير موجود للحذف.\")"
   ]
  },
  {
   "cell_type": "markdown",
   "metadata": {},
   "source": [
    "<div dir=\"rtl\">\n",
    "## التعامل مع الأخطاء أثناء العمل مع الملفات\n",
    "\n",
    "من الجيد دائمًا التعامل مع الأخطاء باستخدام `try-except`.\n",
    "</div>"
   ]
  },
  {
   "cell_type": "code",
   "execution_count": null,
   "metadata": {},
   "outputs": [
    {
     "name": "stdout",
     "output_type": "stream",
     "text": [
      "مرحبًا بكم في درس بايثون!\n",
      "تعلم كيفية التعامل مع الملفات.\n",
      "تعلم كيفية التعامل مع الملفات.\n"
     ]
    }
   ],
   "source": [
    "try:\n",
    "    with open(\"non_existent_file.txt\", \"r\") as file:\n",
    "        content = file.read()\n",
    "        print(content)\n",
    "except FileNotFoundError:\n",
    "    print(\"خطأ: الملف غير موجود.\")\n",
    "except Exception as e:\n",
    "    print(f\"خطأ غير متوقع: {e}\")"
   ]
  },
  {
   "cell_type": "markdown",
   "metadata": {},
   "source": [
    "<div dir=\"rtl\">\n",
    "## مثال شامل\n",
    "\n",
    "هذا المثال يدمج العمليات الأساسية: الكتابة، الإلحاق، القراءة، وحذف الملفات.\n",
    "</div>"
   ]
  },
  {
   "cell_type": "code",
   "execution_count": 30,
   "metadata": {},
   "outputs": [
    {
     "name": "stdout",
     "output_type": "stream",
     "text": [
      "تم إنشاء الملف وكتابة البيانات.\n",
      "تمت إضافة البيانات الجديدة.\n",
      "\n",
      "محتويات الملف:\n",
      "البيانات الأولية\n",
      "سطر آخر من البيانات\n",
      "\n",
      "إضافة بيانات جديدة.\n",
      "\n",
      "تم حذف الملف بنجاح.\n"
     ]
    }
   ],
   "source": [
    "import os\n",
    "\n",
    "# كتابة ملف جديد\n",
    "with open(\"data.txt\", \"w\") as file:\n",
    "    file.write(\"البيانات الأولية\\n\")\n",
    "    file.write(\"سطر آخر من البيانات\\n\")\n",
    "print(\"تم إنشاء الملف وكتابة البيانات.\")\n",
    "\n",
    "# إلحاق بيانات جديدة\n",
    "with open(\"data.txt\", \"a\") as file:\n",
    "    file.write(\"\\nإضافة بيانات جديدة.\")\n",
    "print(\"تمت إضافة البيانات الجديدة.\")\n",
    "\n",
    "# قراءة الملف\n",
    "print(\"\\nمحتويات الملف:\")\n",
    "with open(\"data.txt\", \"r\") as file:\n",
    "    for line in file:\n",
    "        print(line.strip())\n",
    "\n",
    "# حذف الملف\n",
    "if os.path.exists(\"data.txt\"):\n",
    "    os.remove(\"data.txt\")\n",
    "    print(\"\\nتم حذف الملف بنجاح.\")"
   ]
  },
  {
   "cell_type": "markdown",
   "metadata": {},
   "source": [
    "<div dir=\"rtl\">\n",
    "## الخاتمة\n",
    "\n",
    "تعلم العمل مع الملفات في بايثون هو مهارة أساسية. يمكنك استخدام هذه العمليات لإنشاء تطبيقات عملية مثل إدارة البيانات أو تسجيل الأحداث.\n",
    "</div>"
   ]
  }
 ],
 "metadata": {
  "kernelspec": {
   "display_name": "Python 3",
   "language": "python",
   "name": "python3"
  },
  "language_info": {
   "codemirror_mode": {
    "name": "ipython",
    "version": 3
   },
   "file_extension": ".py",
   "mimetype": "text/x-python",
   "name": "python",
   "nbconvert_exporter": "python",
   "pygments_lexer": "ipython3",
   "version": "3.13.0"
  }
 },
 "nbformat": 4,
 "nbformat_minor": 2
}
