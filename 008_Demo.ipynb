{
 "cells": [
  {
   "cell_type": "markdown",
   "metadata": {},
   "source": [
    "## Just a Demo للعرض فقط\n",
    "Educational Code<br/>\n",
    "Dr. Amr Mausad @ 2024<br/>\n",
    "http://amrmausad.com<br/>\n",
    "http://youtube.com/@amrmausadx<br/>\n"
   ]
  },
  {
   "cell_type": "code",
   "execution_count": 3,
   "metadata": {},
   "outputs": [],
   "source": [
    "import tkinter as tk\n",
    "from tkinter import messagebox\n",
    "from tkinter import ttk\n",
    "\n",
    "# إنشاء نافذة الرئيسية\n",
    "root = tk.Tk()\n",
    "root.title(\"واجهة مستخدم بسيطة\")\n",
    "root.geometry(\"500x500\")\n",
    "root.configure(bg=\"#F0F0F0\")  # تعيين لون خلفية فاتح\n",
    "\n",
    "# تعريف دالة عند الضغط على الزر\n",
    "def on_button_click():\n",
    "    # الحصول على النص من صندوق النص\n",
    "    entered_text = text_box.get()\n",
    "    \n",
    "    # التحقق مما إذا كان خانة الاختيار محددة\n",
    "    if check_var.get():\n",
    "        messagebox.showinfo(\"معلومات\", f\"خانة الاختيار محددة. النص المدخل: {entered_text}\")\n",
    "    else:\n",
    "        messagebox.showinfo(\"معلومات\", f\"خانة الاختيار غير محددة. النص المدخل: {entered_text}\")\n",
    "\n",
    "# إنشاء تسمية\n",
    "label = ttk.Label(root, text=\"أدخل شيئًا:\", background=\"#F0F0F0\")\n",
    "label.pack(pady=10)\n",
    "\n",
    "# إنشاء صندوق نص\n",
    "text_box = ttk.Entry(root, width=30)\n",
    "text_box.pack(pady=10)\n",
    "text_box.config(justify='right')  # تعيين الاتجاه إلى اليمين\n",
    "\n",
    "# إنشاء خانة اختيار\n",
    "check_var = tk.IntVar()\n",
    "checkbox = ttk.Checkbutton(root, text=\"اخترني\", variable=check_var)\n",
    "checkbox.pack(pady=10)\n",
    "\n",
    "# إنشاء زر\n",
    "button = ttk.Button(root, text=\"اضغط علي\", command=on_button_click)\n",
    "button.pack(pady=20)\n",
    "\n",
    "# بدء حلقة حدث الواجهة الرسومية\n",
    "root.mainloop()\n"
   ]
  }
 ],
 "metadata": {
  "kernelspec": {
   "display_name": "Python 3",
   "language": "python",
   "name": "python3"
  },
  "language_info": {
   "codemirror_mode": {
    "name": "ipython",
    "version": 3
   },
   "file_extension": ".py",
   "mimetype": "text/x-python",
   "name": "python",
   "nbconvert_exporter": "python",
   "pygments_lexer": "ipython3",
   "version": "3.12.7"
  }
 },
 "nbformat": 4,
 "nbformat_minor": 2
}
