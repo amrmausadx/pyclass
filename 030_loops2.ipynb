{
 "cells": [
  {
   "cell_type": "markdown",
   "metadata": {},
   "source": [
    "<div dir=\"rtl\">\n",
    "# حلقة التكرار (For Loop)\n",
    "\n",
    "تُستخدم حلقة `for` للتكرار على عناصر متسلسلة، مثل القوائم أو السلاسل النصية، أو لتكرار عدد معين من المرات.\n",
    "</div>"
   ]
  },
  {
   "cell_type": "markdown",
   "metadata": {},
   "source": [
    "Educational Code<br/>\n",
    "Dr. Amr Mausad @ 2024<br/>\n",
    "http://amrmausad.com<br/>\n",
    "http://youtube.com/@amrmausadx<br/>\n",
    "للحصول على الكود<br/>\n",
    "https://www.youtube.com/watch?v=s4MgSBx-rZw<br/>\n",
    "https://github.com/amrmausadx/pyclass"
   ]
  },
  {
   "cell_type": "markdown",
   "metadata": {},
   "source": [
    "<div dir=\"rtl\">\n",
    "## التكرار على قائمة\n",
    "\n",
    "في هذا المثال، نستخدم `for` للتكرار عبر عناصر قائمة وطباعة كل عنصر.\n",
    "</div>"
   ]
  },
  {
   "cell_type": "code",
   "execution_count": 1,
   "metadata": {},
   "outputs": [
    {
     "name": "stdout",
     "output_type": "stream",
     "text": [
      "مهاب\n",
      "رقية\n",
      "سعاد\n"
     ]
    }
   ],
   "source": [
    "# تكرار عبر قائمة\n",
    "names = [\"مهاب\", \"رقية\", \"سعاد\"]\n",
    "for name in names:\n",
    "    print(name)"
   ]
  },
  {
   "cell_type": "markdown",
   "metadata": {},
   "source": [
    "<div dir=\"rtl\">\n",
    "## التكرار على سلسلة نصية\n",
    "\n",
    "يمكننا أيضًا استخدام `for` للتكرار على أحرف سلسلة نصية.\n",
    "</div>"
   ]
  },
  {
   "cell_type": "code",
   "execution_count": 2,
   "metadata": {},
   "outputs": [
    {
     "name": "stdout",
     "output_type": "stream",
     "text": [
      "p\n",
      "r\n",
      "o\n",
      "g\n",
      "r\n",
      "a\n",
      "m\n",
      "m\n",
      "i\n",
      "n\n",
      "g\n"
     ]
    }
   ],
   "source": [
    "# تكرار عبر سلسلة نصية\n",
    "text = \"programming\"  #\"'c'\"\n",
    "for char in text:\n",
    "    print(char)"
   ]
  },
  {
   "cell_type": "code",
   "execution_count": 11,
   "metadata": {},
   "outputs": [
    {
     "name": "stdout",
     "output_type": "stream",
     "text": [
      "p\n",
      "r\n",
      "o\n",
      "g\n",
      "r\n",
      "a\n",
      "m\n",
      "m\n",
      "i\n",
      "n\n",
      "g\n"
     ]
    }
   ],
   "source": [
    "# تكرار عبر سلسلة نصية\n",
    "text = \"programming\"  #\"'c'\"\n",
    "for i in range(len(text)):\n",
    "    print(text[i])"
   ]
  },
  {
   "cell_type": "markdown",
   "metadata": {},
   "source": [
    "<div dir=\"rtl\">\n",
    "## استخدام حلقة `for` مع `range`\n",
    "\n",
    "نستخدم `range` لتحديد عدد التكرارات التي نريدها، حيث توفر نطاقًا من الأعداد يمكننا التكرار عبرها.\n",
    "</div>"
   ]
  },
  {
   "cell_type": "code",
   "execution_count": 2,
   "metadata": {},
   "outputs": [
    {
     "name": "stdout",
     "output_type": "stream",
     "text": [
      "2\n",
      "4\n",
      "6\n",
      "8\n",
      "10\n"
     ]
    }
   ],
   "source": [
    "# تكرار عدد معين من المرات باستخدام range\n",
    "for i in range(2,11,2):\n",
    "    print(i)"
   ]
  },
  {
   "cell_type": "markdown",
   "metadata": {},
   "source": [
    "<div dir=\"rtl\">\n",
    "### استخدام `range` مع قيم البداية والنهاية\n",
    "\n",
    "يمكننا تحديد قيم البداية والنهاية للنطاق الذي نريد التكرار عليه.\n",
    "</div>"
   ]
  },
  {
   "cell_type": "code",
   "execution_count": 6,
   "metadata": {},
   "outputs": [
    {
     "name": "stdout",
     "output_type": "stream",
     "text": [
      "2\n",
      "3\n",
      "4\n",
      "5\n",
      "6\n",
      "7\n"
     ]
    }
   ],
   "source": [
    "# تحديد بداية ونهاية\n",
    "for i in range(2, 7 +1):\n",
    "    print(i)"
   ]
  },
  {
   "cell_type": "markdown",
   "metadata": {},
   "source": [
    "<div dir=\"rtl\">\n",
    "### استخدام `range` مع خطوة محددة\n",
    "\n",
    "يمكننا أيضًا تحديد خطوة مخصصة للزيادة.\n",
    "</div>"
   ]
  },
  {
   "cell_type": "code",
   "execution_count": 9,
   "metadata": {},
   "outputs": [
    {
     "name": "stdout",
     "output_type": "stream",
     "text": [
      "0\n",
      "7\n",
      "14\n",
      "21\n",
      "28\n",
      "35\n",
      "42\n",
      "49\n",
      "56\n",
      "63\n",
      "70\n",
      "77\n",
      "84\n",
      "91\n",
      "98\n"
     ]
    }
   ],
   "source": [
    "# استخدام خطوة معينة\n",
    "for i in range(0, 100, 7):\n",
    "    print(i)"
   ]
  },
  {
   "cell_type": "markdown",
   "metadata": {},
   "source": [
    "<div dir=\"rtl\">\n",
    "## التكرار التنازلي باستخدام `for`\n",
    "\n",
    "للتكرار التنازلي، يمكننا تحديد خطوة سالبة في `range`.\n",
    "</div>"
   ]
  },
  {
   "cell_type": "code",
   "execution_count": 12,
   "metadata": {},
   "outputs": [
    {
     "name": "stdout",
     "output_type": "stream",
     "text": [
      "98\n",
      "91\n",
      "84\n",
      "77\n",
      "70\n",
      "63\n",
      "56\n",
      "49\n",
      "42\n",
      "35\n",
      "28\n",
      "21\n",
      "14\n",
      "7\n",
      "0\n"
     ]
    }
   ],
   "source": [
    "# التكرار التنازلي\n",
    "for i in range(98, -1, -7):\n",
    "    print(i)"
   ]
  },
  {
   "cell_type": "markdown",
   "metadata": {},
   "source": [
    "<div dir=\"rtl\">\n",
    "## التكرار باستخدام `for` مع `break`\n",
    "\n",
    "يمكن استخدام `break` للخروج من الحلقة عندما يتحقق شرط معين.\n",
    "</div>"
   ]
  },
  {
   "cell_type": "code",
   "execution_count": 13,
   "metadata": {},
   "outputs": [
    {
     "name": "stdout",
     "output_type": "stream",
     "text": [
      "0\n",
      "1\n",
      "2\n",
      "3\n",
      "4\n"
     ]
    }
   ],
   "source": [
    "# مثال على استخدام break\n",
    "for i in range(10):\n",
    "    if i == 5:\n",
    "        break\n",
    "    print(i)"
   ]
  },
  {
   "cell_type": "markdown",
   "metadata": {},
   "source": [
    "<div dir=\"rtl\">\n",
    "## استخدام `for` مع `continue`\n",
    "\n",
    "نستخدم `continue` لتخطي التكرار الحالي والانتقال إلى التكرار التالي.\n",
    "</div>"
   ]
  },
  {
   "cell_type": "code",
   "execution_count": 14,
   "metadata": {},
   "outputs": [
    {
     "name": "stdout",
     "output_type": "stream",
     "text": [
      "0\n",
      "1\n",
      "3\n",
      "4\n"
     ]
    }
   ],
   "source": [
    "# مثال على استخدام continue\n",
    "for i in range(5):\n",
    "    if i == 2:\n",
    "        continue\n",
    "    print(i)"
   ]
  },
  {
   "cell_type": "markdown",
   "metadata": {},
   "source": [
    "<div dir=\"rtl\">\n",
    "## التكرار باستخدام `for` مع القواميس\n",
    "\n",
    "يمكننا التكرار على مفاتيح وقيم القاموس باستخدام `for`.\n",
    "</div>"
   ]
  },
  {
   "cell_type": "code",
   "execution_count": 15,
   "metadata": {},
   "outputs": [
    {
     "name": "stdout",
     "output_type": "stream",
     "text": [
      "Ahmed : Accountant\n",
      "Mona : Programmer\n",
      "Youssef : Engineer\n"
     ]
    }
   ],
   "source": [
    "# التكرار على القاموس\n",
    "employees = {\"Ahmed\": \"Accountant\", \"Mona\": \"Programmer\", \"Youssef\": \"Engineer\"}\n",
    "for key, value in employees.items():\n",
    "    print(key, \":\", value)"
   ]
  },
  {
   "cell_type": "code",
   "execution_count": 10,
   "metadata": {},
   "outputs": [
    {
     "name": "stdout",
     "output_type": "stream",
     "text": [
      "The Employee named:Ahmed works as an Accountant\n",
      "The Employee named:Mona works as a Programmer\n",
      "The Employee named:Youssef works as an Engineer\n"
     ]
    }
   ],
   "source": [
    "v=['A','E','I','O','U','a','e','i','o','u']\n",
    "# التكرار على القاموس 2\n",
    "employees = {\"Ahmed\": \"Accountant\", \"Mona\": \"Programmer\", \"Youssef\": \"Engineer\"}\n",
    "for key, value in employees.items():\n",
    "    if value[0] in v:\n",
    "        print(f\"The Employee named:{key} works as an {value}\")\n",
    "    else:\n",
    "        print(f\"The Employee named:{key} works as a {value}\")"
   ]
  },
  {
   "cell_type": "markdown",
   "metadata": {},
   "source": [
    "<div dir=\"rtl\">\n",
    "## التكرار على قائمة وتعديل قيمها\n",
    "\n",
    "لتعديل قيم القائمة أثناء التكرار، غالبًا ما نستخدم `range` لتحديد المواقع في القائمة.\n",
    "</div>"
   ]
  },
  {
   "cell_type": "code",
   "execution_count": 18,
   "metadata": {},
   "outputs": [],
   "source": [
    "numbers = [1, 2, 3, 4, 5]"
   ]
  },
  {
   "cell_type": "code",
   "execution_count": 37,
   "metadata": {},
   "outputs": [
    {
     "name": "stdout",
     "output_type": "stream",
     "text": [
      "[64, 128, 192, 256, 320]\n"
     ]
    }
   ],
   "source": [
    "# تعديل قيم القائمة باستخدام حلقة for و range\n",
    "#numbers = [1, 2, 3, 4, 5]\n",
    "for i in range(len(numbers)):\n",
    "    numbers[i] *= 2\n",
    "print(numbers)"
   ]
  },
  {
   "cell_type": "markdown",
   "metadata": {},
   "source": [
    "<div dir=\"rtl\">\n",
    "## التكرار المتداخل (Nested For Loop)\n",
    "\n",
    "حلقة `for` المتداخلة هي حلقة داخل حلقة، وتُستخدم عادة للتكرار عبر مصفوفات أو هياكل بيانات متعددة الأبعاد.\n",
    "</div>"
   ]
  },
  {
   "cell_type": "code",
   "execution_count": null,
   "metadata": {},
   "outputs": [
    {
     "name": "stdout",
     "output_type": "stream",
     "text": [
      "i: 1, j: 2, 1 * 2 = 2, asked by Yusuf Atef\n",
      "i: 1, j: 3, 1 * 3 = 3, asked by Yusuf Atef\n",
      "i: 2, j: 1, 2 * 1 = 2, asked by Yusuf Atef\n",
      "i: 2, j: 3, 2 * 3 = 6, asked by Yusuf Atef\n",
      "i: 3, j: 1, 3 * 1 = 3, asked by Yusuf Atef\n",
      "i: 3, j: 2, 3 * 2 = 6, asked by Yusuf Atef\n"
     ]
    }
   ],
   "source": [
    "# حلقة for متداخلة\n",
    "s= \"Yusuf\" + \" \"+ \"Atef\"\n",
    "for i in range(1,3 +1):\n",
    "    for j in range(1,2 +1):\n",
    "        print(f\"i: {i}, j: {j}, {i} * {j} = {i*j}, asked by {s}\")\n",
    "    "
   ]
  },
  {
   "cell_type": "code",
   "execution_count": null,
   "metadata": {},
   "outputs": [],
   "source": [
    "# حلقة for متداخلة\n",
    "s= \"Yusuf\" + \" \"+ \"Atef\"\n",
    "for i in range(1,3 +1):\n",
    "    for j in range(1,3 +1):\n",
    "        if i==j:\n",
    "            continue;\n",
    "        print(f\"i: {i}, j: {j}, {i} * {j} = {i*j}, asked by {s}\")\n",
    "    "
   ]
  },
  {
   "cell_type": "markdown",
   "metadata": {},
   "source": [
    "<div dir=\"rtl\">\n",
    "## ختاما\n",
    "يوجد  العديد من المزايا المتفردة في الحلقات في البايثون مثل امكانية اضافة else في نهاية الحلقة\n",
    "لن نتعرض الان لمثل هذه الحيل ولكن سنعود لها لاحقا بأمر الله\n",
    "</div>"
   ]
  }
 ],
 "metadata": {
  "kernelspec": {
   "display_name": "Python 3",
   "language": "python",
   "name": "python3"
  },
  "language_info": {
   "codemirror_mode": {
    "name": "ipython",
    "version": 3
   },
   "file_extension": ".py",
   "mimetype": "text/x-python",
   "name": "python",
   "nbconvert_exporter": "python",
   "pygments_lexer": "ipython3",
   "version": "3.12.7"
  }
 },
 "nbformat": 4,
 "nbformat_minor": 2
}
