{
 "cells": [
  {
   "cell_type": "markdown",
   "metadata": {},
   "source": [
    "<div dir=\"rtl\">\n",
    "# حلقة التكرار (For Loop)\n",
    "\n",
    "تُستخدم حلقة `for` للتكرار على عناصر متسلسلة، مثل القوائم أو السلاسل النصية، أو لتكرار عدد معين من المرات.\n",
    "</div>"
   ]
  },
  {
   "cell_type": "markdown",
   "metadata": {},
   "source": [
    "Educational Code<br/>\n",
    "Dr. Amr Mausad @ 2024<br/>\n",
    "http://amrmausad.com<br/>\n",
    "http://youtube.com/@amrmausadx<br/>\n",
    "للحصول على الكود<br/>\n",
    "https://www.youtube.com/watch?v=s4MgSBx-rZw\n",
    "https://github.com/amrmausadx/pyclass"
   ]
  },
  {
   "cell_type": "markdown",
   "metadata": {},
   "source": [
    "<div dir=\"rtl\">\n",
    "## التكرار على قائمة\n",
    "\n",
    "في هذا المثال، نستخدم `for` للتكرار عبر عناصر قائمة وطباعة كل عنصر.\n",
    "</div>"
   ]
  },
  {
   "cell_type": "code",
   "execution_count": null,
   "metadata": {},
   "outputs": [],
   "source": [
    "# تكرار عبر قائمة\n",
    "names = [\"مهاب\", \"رقية\", \"سعاد\"]\n",
    "for name in names:\n",
    "    print(name)"
   ]
  },
  {
   "cell_type": "markdown",
   "metadata": {},
   "source": [
    "<div dir=\"rtl\">\n",
    "## التكرار على سلسلة نصية\n",
    "\n",
    "يمكننا أيضًا استخدام `for` للتكرار على أحرف سلسلة نصية.\n",
    "</div>"
   ]
  },
  {
   "cell_type": "code",
   "execution_count": null,
   "metadata": {},
   "outputs": [],
   "source": [
    "# تكرار عبر سلسلة نصية\n",
    "text = \"programming\"\n",
    "for char in text:\n",
    "    print(char)"
   ]
  },
  {
   "cell_type": "markdown",
   "metadata": {},
   "source": [
    "<div dir=\"rtl\">\n",
    "## استخدام حلقة `for` مع `range`\n",
    "\n",
    "نستخدم `range` لتحديد عدد التكرارات التي نريدها، حيث توفر نطاقًا من الأعداد يمكننا التكرار عبرها.\n",
    "</div>"
   ]
  },
  {
   "cell_type": "code",
   "execution_count": null,
   "metadata": {},
   "outputs": [],
   "source": [
    "# تكرار عدد معين من المرات باستخدام range\n",
    "for i in range(5):\n",
    "    print(i)"
   ]
  },
  {
   "cell_type": "markdown",
   "metadata": {},
   "source": [
    "<div dir=\"rtl\">\n",
    "### استخدام `range` مع قيم البداية والنهاية\n",
    "\n",
    "يمكننا تحديد قيم البداية والنهاية للنطاق الذي نريد التكرار عليه.\n",
    "</div>"
   ]
  },
  {
   "cell_type": "code",
   "execution_count": null,
   "metadata": {},
   "outputs": [],
   "source": [
    "# تحديد بداية ونهاية\n",
    "for i in range(2, 7):\n",
    "    print(i)"
   ]
  },
  {
   "cell_type": "markdown",
   "metadata": {},
   "source": [
    "<div dir=\"rtl\">\n",
    "### استخدام `range` مع خطوة محددة\n",
    "\n",
    "يمكننا أيضًا تحديد خطوة مخصصة للزيادة.\n",
    "</div>"
   ]
  },
  {
   "cell_type": "code",
   "execution_count": null,
   "metadata": {},
   "outputs": [],
   "source": [
    "# استخدام خطوة معينة\n",
    "for i in range(0, 10, 2):\n",
    "    print(i)"
   ]
  },
  {
   "cell_type": "markdown",
   "metadata": {},
   "source": [
    "<div dir=\"rtl\">\n",
    "## التكرار التنازلي باستخدام `for`\n",
    "\n",
    "للتكرار التنازلي، يمكننا تحديد خطوة سالبة في `range`.\n",
    "</div>"
   ]
  },
  {
   "cell_type": "code",
   "execution_count": null,
   "metadata": {},
   "outputs": [],
   "source": [
    "# التكرار التنازلي\n",
    "for i in range(10, 0, -1):\n",
    "    print(i)"
   ]
  },
  {
   "cell_type": "markdown",
   "metadata": {},
   "source": [
    "<div dir=\"rtl\">\n",
    "## التكرار باستخدام `for` مع `break`\n",
    "\n",
    "يمكن استخدام `break` للخروج من الحلقة عندما يتحقق شرط معين.\n",
    "</div>"
   ]
  },
  {
   "cell_type": "code",
   "execution_count": null,
   "metadata": {},
   "outputs": [],
   "source": [
    "# مثال على استخدام break\n",
    "for i in range(10):\n",
    "    if i == 5:\n",
    "        break\n",
    "    print(i)"
   ]
  },
  {
   "cell_type": "markdown",
   "metadata": {},
   "source": [
    "<div dir=\"rtl\">\n",
    "## استخدام `for` مع `continue`\n",
    "\n",
    "نستخدم `continue` لتخطي التكرار الحالي والانتقال إلى التكرار التالي.\n",
    "</div>"
   ]
  },
  {
   "cell_type": "code",
   "execution_count": null,
   "metadata": {},
   "outputs": [],
   "source": [
    "# مثال على استخدام continue\n",
    "for i in range(5):\n",
    "    if i == 2:\n",
    "        continue\n",
    "    print(i)"
   ]
  },
  {
   "cell_type": "markdown",
   "metadata": {},
   "source": [
    "<div dir=\"rtl\">\n",
    "## التكرار باستخدام `for` مع القواميس\n",
    "\n",
    "يمكننا التكرار على مفاتيح وقيم القاموس باستخدام `for`.\n",
    "</div>"
   ]
  },
  {
   "cell_type": "code",
   "execution_count": null,
   "metadata": {},
   "outputs": [],
   "source": [
    "# التكرار على القاموس\n",
    "employees = {\"Ahmed\": \"Accountant\", \"Mona\": \"Programmer\", \"Youssef\": \"Engineer\"}\n",
    "for key, value in employees.items():\n",
    "    print(key, \":\", value)"
   ]
  },
  {
   "cell_type": "markdown",
   "metadata": {},
   "source": [
    "<div dir=\"rtl\">\n",
    "## التكرار على قائمة وتعديل قيمها\n",
    "\n",
    "لتعديل قيم القائمة أثناء التكرار، غالبًا ما نستخدم `range` لتحديد المواقع في القائمة.\n",
    "</div>"
   ]
  },
  {
   "cell_type": "code",
   "execution_count": null,
   "metadata": {},
   "outputs": [],
   "source": [
    "# تعديل قيم القائمة باستخدام حلقة for و range\n",
    "numbers = [1, 2, 3, 4, 5]\n",
    "for i in range(len(numbers)):\n",
    "    numbers[i] *= 2\n",
    "print(numbers)"
   ]
  },
  {
   "cell_type": "markdown",
   "metadata": {},
   "source": [
    "<div dir=\"rtl\">\n",
    "## التكرار المتداخل (Nested For Loop)\n",
    "\n",
    "حلقة `for` المتداخلة هي حلقة داخل حلقة، وتُستخدم عادة للتكرار عبر مصفوفات أو هياكل بيانات متعددة الأبعاد.\n",
    "</div>"
   ]
  },
  {
   "cell_type": "code",
   "execution_count": null,
   "metadata": {},
   "outputs": [],
   "source": [
    "# حلقة for متداخلة\n",
    "for i in range(3):\n",
    "    for j in range(2):\n",
    "        print(f\"i: {i}, j: {j}\")"
   ]
  },
  {
   "cell_type": "markdown",
   "metadata": {},
   "source": [
    "<div dir=\"rtl\">\n",
    "## ختاما\n",
    "يوجد  العديد من المزايا المتفردة في الحلقات في البايثون مثل امكانية اضافة else في نهاية الحلقة\n",
    "لن نتعرض الان لمثل هذه الحيل ولكن سنعود لها لاحقا بأمر الله\n",
    "</div>"
   ]
  }
 ],
 "metadata": {
  "kernelspec": {
   "display_name": "Python 3",
   "language": "python",
   "name": "python3"
  },
  "language_info": {
   "codemirror_mode": {
    "name": "ipython",
    "version": 3
   },
   "file_extension": ".py",
   "mimetype": "text/x-python",
   "name": "python",
   "nbconvert_exporter": "python",
   "pygments_lexer": "ipython3",
   "version": "3.6.3"
  }
 },
 "nbformat": 4,
 "nbformat_minor": 2
}
