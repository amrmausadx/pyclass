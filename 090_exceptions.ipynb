{
 "cells": [
  {
   "cell_type": "markdown",
   "metadata": {},
   "source": [
    "<div dir=\"rtl\">\n",
    "# التعامل مع الاستثناءات في بايثون\n",
    "\n",
    "الاستثناءات (Exceptions) هي أخطاء تحدث أثناء تنفيذ البرنامج. في بايثون، يمكننا التعامل مع هذه الأخطاء باستخدام عبارات `try` و`except` لضمان استمرار عمل البرنامج بشكل صحيح.\n",
    "</div>"
   ]
  },
  {
   "cell_type": "markdown",
   "metadata": {},
   "source": [
    "Educational Code<br/>\n",
    "Dr. Amr Mausad @ 2024<br/>\n",
    "http://amrmausad.com<br/>\n",
    "http://youtube.com/@amrmausadx<br/>\n",
    "للحصول على الكود<br/>\n",
    "https://www.youtube.com/watch?v=s4MgSBx-rZw<br/>\n",
    "https://github.com/amrmausadx/pyclass"
   ]
  },
  {
   "cell_type": "markdown",
   "metadata": {},
   "source": [
    "<div dir=\"rtl\">\n",
    "## أهمية التعامل مع الاستثناءات\n",
    "\n",
    "- تحسين استقرار البرنامج.\n",
    "- منع توقف البرنامج عند حدوث أخطاء غير متوقعة.\n",
    "- تقديم رسائل واضحة للمستخدم.\n",
    "</div>"
   ]
  },
  {
   "cell_type": "markdown",
   "metadata": {},
   "source": [
    "<div dir=\"rtl\">\n",
    "## البنية الأساسية للتعامل مع الاستثناءات\n",
    "\n",
    "```python\n",
    "try:\n",
    "    # الكود الذي قد يسبب خطأ\n",
    "except نوع_الخطأ:\n",
    "    # الكود لمعالجة الخطأ\n",
    "else:\n",
    "    # كود يتم تنفيذه إذا لم يحدث أي خطأ\n",
    "finally:\n",
    "    # كود يتم تنفيذه دائمًا، سواء حدث خطأ أم لا\n",
    "```\n",
    "</div>"
   ]
  },
  {
   "cell_type": "code",
   "execution_count": 2,
   "metadata": {},
   "outputs": [
    {
     "name": "stdout",
     "output_type": "stream",
     "text": [
      "خطأ: يجب إدخال رقم صحيح.\n"
     ]
    }
   ],
   "source": [
    "# مثال بسيط على التعامل مع الاستثناءات\n",
    "try:\n",
    "    x = int(input(\"أدخل رقمًا: \"))\n",
    "    print(f\"لقد أدخلت الرقم: {x}\")\n",
    "except ValueError:\n",
    "    print(\"خطأ: يجب إدخال رقم صحيح.\")"
   ]
  },
  {
   "cell_type": "markdown",
   "metadata": {},
   "source": [
    "<div dir=\"rtl\">\n",
    "## أنواع الأخطاء الشائعة\n",
    "\n",
    "1. `ValueError`: يحدث عند إدخال قيمة غير صحيحة.\n",
    "2. `ZeroDivisionError`: يحدث عند محاولة القسمة على صفر.\n",
    "3. `FileNotFoundError`: يحدث عند محاولة فتح ملف غير موجود.\n",
    "4. `IndexError`: يحدث عند محاولة الوصول إلى عنصر خارج حدود القائمة.\n",
    "5. `KeyError`: يحدث عند محاولة الوصول إلى مفتاح غير موجود في القاموس.\n",
    "</div>"
   ]
  },
  {
   "cell_type": "code",
   "execution_count": 5,
   "metadata": {},
   "outputs": [
    {
     "name": "stdout",
     "output_type": "stream",
     "text": [
      "خطأ: لا يمكن القسمة على صفر.\n"
     ]
    }
   ],
   "source": [
    "# مثال على ZeroDivisionError\n",
    "try:\n",
    "    result = 10 / 0\n",
    "except ZeroDivisionError:\n",
    "    print(\"خطأ: لا يمكن القسمة على صفر.\")"
   ]
  },
  {
   "cell_type": "code",
   "execution_count": 14,
   "metadata": {},
   "outputs": [
    {
     "name": "stdout",
     "output_type": "stream",
     "text": [
      "خطأ: الملف غير موجود.\n"
     ]
    }
   ],
   "source": [
    "# مثال على FileNotFoundError\n",
    "try:\n",
    "    with open(\"ملف_غير_موجود.txt\", \"r\") as file:\n",
    "        content = file.read()\n",
    "except FileNotFoundError:\n",
    "    print(\"خطأ: الملف غير موجود.\")"
   ]
  },
  {
   "cell_type": "code",
   "execution_count": 18,
   "metadata": {},
   "outputs": [
    {
     "name": "stdout",
     "output_type": "stream",
     "text": [
      "خطأ: العنصر المطلوب خارج حدود القائمة.\n"
     ]
    }
   ],
   "source": [
    "# مثال على IndexError\n",
    "try:\n",
    "    my_list = [1, 2, 3]\n",
    "    print(my_list[3])\n",
    "except IndexError:\n",
    "    print(\"خطأ: العنصر المطلوب خارج حدود القائمة.\")"
   ]
  },
  {
   "cell_type": "code",
   "execution_count": 19,
   "metadata": {},
   "outputs": [
    {
     "name": "stdout",
     "output_type": "stream",
     "text": [
      "خطأ: المفتاح غير موجود في القاموس.\n"
     ]
    }
   ],
   "source": [
    "# مثال على KeyError\n",
    "try:\n",
    "    my_dict = {\"name\": \"مها\", \"age\": 25}\n",
    "    print(my_dict[\"address\"])\n",
    "except KeyError:\n",
    "    print(\"خطأ: المفتاح غير موجود في القاموس.\")"
   ]
  },
  {
   "cell_type": "markdown",
   "metadata": {},
   "source": [
    "<div dir=\"rtl\">\n",
    "## استخدام else مع try-except\n",
    "\n",
    "يمكنك استخدام `else` لتشغيل كود إذا لم يحدث خطأ.\n",
    "</div>"
   ]
  },
  {
   "cell_type": "code",
   "execution_count": 22,
   "metadata": {},
   "outputs": [
    {
     "name": "stdout",
     "output_type": "stream",
     "text": [
      "خطأ: يجب إدخال رقم صحيح. لقد ادخلت 7o\n"
     ]
    }
   ],
   "source": [
    "try:\n",
    "    s=input(\"أدخل رقمًا: \")\n",
    "    x = int(s)\n",
    "except ValueError:\n",
    "    print(\"خطأ: يجب إدخال رقم صحيح.\",f\"لقد ادخلت {s}\")\n",
    "else:\n",
    "    print(f\"الرقم المدخل هو: {x}\")"
   ]
  },
  {
   "cell_type": "markdown",
   "metadata": {},
   "source": [
    "<div dir=\"rtl\">\n",
    "## استخدام finally\n",
    "\n",
    "`finally` تُستخدم لتشغيل كود يتم تنفيذه دائمًا، سواء حدث خطأ أم لا.\n",
    "</div>"
   ]
  },
  {
   "cell_type": "code",
   "execution_count": 24,
   "metadata": {},
   "outputs": [
    {
     "name": "stdout",
     "output_type": "stream",
     "text": [
      "خطأ: يجب إدخال رقم صحيح.\n",
      "شكراً لتجربتك البرنامج.\n"
     ]
    }
   ],
   "source": [
    "try:\n",
    "    x = int(input(\"أدخل رقمًا: \"))\n",
    "except ValueError:\n",
    "    print(\"خطأ: يجب إدخال رقم صحيح.\")\n",
    "finally:\n",
    "    print(\"شكراً لتجربتك البرنامج.\")"
   ]
  },
  {
   "cell_type": "markdown",
   "metadata": {},
   "source": [
    "<div dir=\"rtl\">\n",
    "## رفع الاستثناءات يدويًا باستخدام raise\n",
    "\n",
    "يمكنك رفع استثناءات يدويًا باستخدام الكلمة المفتاحية `raise`.\n",
    "</div>"
   ]
  },
  {
   "cell_type": "code",
   "execution_count": 28,
   "metadata": {},
   "outputs": [],
   "source": [
    "# رفع استثناء يدوي\n",
    "try:\n",
    "    age = int(input(\"أدخل عمرك: \"))\n",
    "    if age < 0:\n",
    "        raise ValueError(\"العمر لا يمكن أن يكون سالباً.\")\n",
    "except ValueError as e:\n",
    "    print(f\"خطأ: {e}\")"
   ]
  },
  {
   "cell_type": "markdown",
   "metadata": {},
   "source": [
    "<div dir=\"rtl\">\n",
    "## أمثلة متقدمة\n",
    "</div>"
   ]
  },
  {
   "cell_type": "code",
   "execution_count": 31,
   "metadata": {},
   "outputs": [
    {
     "name": "stdout",
     "output_type": "stream",
     "text": [
      "5.0\n"
     ]
    }
   ],
   "source": [
    "# التعامل مع عدة أنواع من الأخطاء\n",
    "try:\n",
    "    x = int(input(\"أدخل رقمًا: \"))\n",
    "    result = 10 / x\n",
    "    print(result)\n",
    "except ValueError:\n",
    "    print(\"خطأ: يجب إدخال رقم صحيح.\")\n",
    "except ZeroDivisionError:\n",
    "    print(\"خطأ: لا يمكن القسمة على صفر.\")"
   ]
  },
  {
   "cell_type": "code",
   "execution_count": 33,
   "metadata": {},
   "outputs": [
    {
     "name": "stdout",
     "output_type": "stream",
     "text": [
      "خطأ غير متوقع: [Errno 2] No such file or directory: 'gg'\n",
      "تم تنفيذ البرنامج.\n"
     ]
    }
   ],
   "source": [
    "# مثال شامل\n",
    "try:\n",
    "    file_name = input(\"أدخل اسم الملف: \")\n",
    "    with open(file_name, \"r\") as file:\n",
    "        content = file.read()\n",
    "        print(content)\n",
    "#except FileNotFoundError:\n",
    "#    print(\"خطأ: الملف غير موجود.\")\n",
    "except Exception as e:\n",
    "    print(f\"خطأ غير متوقع: {e}\")\n",
    "finally:\n",
    "    print(\"تم تنفيذ البرنامج.\")"
   ]
  }
 ],
 "metadata": {
  "kernelspec": {
   "display_name": "Python 3",
   "language": "python",
   "name": "python3"
  },
  "language_info": {
   "codemirror_mode": {
    "name": "ipython",
    "version": 3
   },
   "file_extension": ".py",
   "mimetype": "text/x-python",
   "name": "python",
   "nbconvert_exporter": "python",
   "pygments_lexer": "ipython3",
   "version": "3.13.0"
  }
 },
 "nbformat": 4,
 "nbformat_minor": 2
}
